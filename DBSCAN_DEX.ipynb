{
  "cells": [
    {
      "cell_type": "markdown",
      "metadata": {
        "id": "view-in-github",
        "colab_type": "text"
      },
      "source": [
        "<a href=\"https://colab.research.google.com/github/RojaCM/Complete-Python-3-Bootcamp/blob/master/DBSCAN_DEX.ipynb\" target=\"_parent\"><img src=\"https://colab.research.google.com/assets/colab-badge.svg\" alt=\"Open In Colab\"/></a>"
      ]
    },
    {
      "cell_type": "code",
      "execution_count": null,
      "metadata": {
        "id": "vrcQHvyZ0N6n"
      },
      "outputs": [],
      "source": [
        "import pandas as pd"
      ]
    },
    {
      "cell_type": "code",
      "execution_count": null,
      "metadata": {
        "id": "V37dlSAB0vwQ"
      },
      "outputs": [],
      "source": [
        "data=pd.read_csv('sample_dex_data.csv')"
      ]
    },
    {
      "cell_type": "code",
      "execution_count": null,
      "metadata": {
        "colab": {
          "base_uri": "https://localhost:8080/",
          "height": 206
        },
        "id": "VEJ4yWl80_c7",
        "outputId": "be3bc0e3-6e82-4771-ea60-c34b8f438a78"
      },
      "outputs": [
        {
          "output_type": "execute_result",
          "data": {
            "text/plain": [
              "   Unnamed: 0                                              title  \\\n",
              "0           0     Reminder - Optimus -  Best People Manager 2022   \n",
              "1           1  It starts this 23 October, till 26 October 202...   \n",
              "2           2  Congratulations Triveni Arun Bhalerao | Long S...   \n",
              "3           3   Long Service Awards - 5 years - Triveni Arun ...   \n",
              "4           4                                     tweets testing   \n",
              "\n",
              "                                             summary          category  \n",
              "0  Today is the last day for voting (14th October...            TWEETS  \n",
              "1  Hope you are all set to attend Money 2020 USA ...            TWEETS  \n",
              "2                                                NaN     WHO_SAID_WHAT  \n",
              "3                                                NaN  STORY_OF_THE_DAY  \n",
              "4  today testing preview screen and toast success...            TWEETS  "
            ],
            "text/html": [
              "\n",
              "  <div id=\"df-77fc2169-4f6b-488f-8006-9dfcb95402c3\">\n",
              "    <div class=\"colab-df-container\">\n",
              "      <div>\n",
              "<style scoped>\n",
              "    .dataframe tbody tr th:only-of-type {\n",
              "        vertical-align: middle;\n",
              "    }\n",
              "\n",
              "    .dataframe tbody tr th {\n",
              "        vertical-align: top;\n",
              "    }\n",
              "\n",
              "    .dataframe thead th {\n",
              "        text-align: right;\n",
              "    }\n",
              "</style>\n",
              "<table border=\"1\" class=\"dataframe\">\n",
              "  <thead>\n",
              "    <tr style=\"text-align: right;\">\n",
              "      <th></th>\n",
              "      <th>Unnamed: 0</th>\n",
              "      <th>title</th>\n",
              "      <th>summary</th>\n",
              "      <th>category</th>\n",
              "    </tr>\n",
              "  </thead>\n",
              "  <tbody>\n",
              "    <tr>\n",
              "      <th>0</th>\n",
              "      <td>0</td>\n",
              "      <td>Reminder - Optimus -  Best People Manager 2022</td>\n",
              "      <td>Today is the last day for voting (14th October...</td>\n",
              "      <td>TWEETS</td>\n",
              "    </tr>\n",
              "    <tr>\n",
              "      <th>1</th>\n",
              "      <td>1</td>\n",
              "      <td>It starts this 23 October, till 26 October 202...</td>\n",
              "      <td>Hope you are all set to attend Money 2020 USA ...</td>\n",
              "      <td>TWEETS</td>\n",
              "    </tr>\n",
              "    <tr>\n",
              "      <th>2</th>\n",
              "      <td>2</td>\n",
              "      <td>Congratulations Triveni Arun Bhalerao | Long S...</td>\n",
              "      <td>NaN</td>\n",
              "      <td>WHO_SAID_WHAT</td>\n",
              "    </tr>\n",
              "    <tr>\n",
              "      <th>3</th>\n",
              "      <td>3</td>\n",
              "      <td>Long Service Awards - 5 years - Triveni Arun ...</td>\n",
              "      <td>NaN</td>\n",
              "      <td>STORY_OF_THE_DAY</td>\n",
              "    </tr>\n",
              "    <tr>\n",
              "      <th>4</th>\n",
              "      <td>4</td>\n",
              "      <td>tweets testing</td>\n",
              "      <td>today testing preview screen and toast success...</td>\n",
              "      <td>TWEETS</td>\n",
              "    </tr>\n",
              "  </tbody>\n",
              "</table>\n",
              "</div>\n",
              "      <button class=\"colab-df-convert\" onclick=\"convertToInteractive('df-77fc2169-4f6b-488f-8006-9dfcb95402c3')\"\n",
              "              title=\"Convert this dataframe to an interactive table.\"\n",
              "              style=\"display:none;\">\n",
              "        \n",
              "  <svg xmlns=\"http://www.w3.org/2000/svg\" height=\"24px\"viewBox=\"0 0 24 24\"\n",
              "       width=\"24px\">\n",
              "    <path d=\"M0 0h24v24H0V0z\" fill=\"none\"/>\n",
              "    <path d=\"M18.56 5.44l.94 2.06.94-2.06 2.06-.94-2.06-.94-.94-2.06-.94 2.06-2.06.94zm-11 1L8.5 8.5l.94-2.06 2.06-.94-2.06-.94L8.5 2.5l-.94 2.06-2.06.94zm10 10l.94 2.06.94-2.06 2.06-.94-2.06-.94-.94-2.06-.94 2.06-2.06.94z\"/><path d=\"M17.41 7.96l-1.37-1.37c-.4-.4-.92-.59-1.43-.59-.52 0-1.04.2-1.43.59L10.3 9.45l-7.72 7.72c-.78.78-.78 2.05 0 2.83L4 21.41c.39.39.9.59 1.41.59.51 0 1.02-.2 1.41-.59l7.78-7.78 2.81-2.81c.8-.78.8-2.07 0-2.86zM5.41 20L4 18.59l7.72-7.72 1.47 1.35L5.41 20z\"/>\n",
              "  </svg>\n",
              "      </button>\n",
              "      \n",
              "  <style>\n",
              "    .colab-df-container {\n",
              "      display:flex;\n",
              "      flex-wrap:wrap;\n",
              "      gap: 12px;\n",
              "    }\n",
              "\n",
              "    .colab-df-convert {\n",
              "      background-color: #E8F0FE;\n",
              "      border: none;\n",
              "      border-radius: 50%;\n",
              "      cursor: pointer;\n",
              "      display: none;\n",
              "      fill: #1967D2;\n",
              "      height: 32px;\n",
              "      padding: 0 0 0 0;\n",
              "      width: 32px;\n",
              "    }\n",
              "\n",
              "    .colab-df-convert:hover {\n",
              "      background-color: #E2EBFA;\n",
              "      box-shadow: 0px 1px 2px rgba(60, 64, 67, 0.3), 0px 1px 3px 1px rgba(60, 64, 67, 0.15);\n",
              "      fill: #174EA6;\n",
              "    }\n",
              "\n",
              "    [theme=dark] .colab-df-convert {\n",
              "      background-color: #3B4455;\n",
              "      fill: #D2E3FC;\n",
              "    }\n",
              "\n",
              "    [theme=dark] .colab-df-convert:hover {\n",
              "      background-color: #434B5C;\n",
              "      box-shadow: 0px 1px 3px 1px rgba(0, 0, 0, 0.15);\n",
              "      filter: drop-shadow(0px 1px 2px rgba(0, 0, 0, 0.3));\n",
              "      fill: #FFFFFF;\n",
              "    }\n",
              "  </style>\n",
              "\n",
              "      <script>\n",
              "        const buttonEl =\n",
              "          document.querySelector('#df-77fc2169-4f6b-488f-8006-9dfcb95402c3 button.colab-df-convert');\n",
              "        buttonEl.style.display =\n",
              "          google.colab.kernel.accessAllowed ? 'block' : 'none';\n",
              "\n",
              "        async function convertToInteractive(key) {\n",
              "          const element = document.querySelector('#df-77fc2169-4f6b-488f-8006-9dfcb95402c3');\n",
              "          const dataTable =\n",
              "            await google.colab.kernel.invokeFunction('convertToInteractive',\n",
              "                                                     [key], {});\n",
              "          if (!dataTable) return;\n",
              "\n",
              "          const docLinkHtml = 'Like what you see? Visit the ' +\n",
              "            '<a target=\"_blank\" href=https://colab.research.google.com/notebooks/data_table.ipynb>data table notebook</a>'\n",
              "            + ' to learn more about interactive tables.';\n",
              "          element.innerHTML = '';\n",
              "          dataTable['output_type'] = 'display_data';\n",
              "          await google.colab.output.renderOutput(dataTable, element);\n",
              "          const docLink = document.createElement('div');\n",
              "          docLink.innerHTML = docLinkHtml;\n",
              "          element.appendChild(docLink);\n",
              "        }\n",
              "      </script>\n",
              "    </div>\n",
              "  </div>\n",
              "  "
            ]
          },
          "metadata": {},
          "execution_count": 3
        }
      ],
      "source": [
        "data.head()"
      ]
    },
    {
      "cell_type": "code",
      "execution_count": null,
      "metadata": {
        "id": "ImvVkZts0_4T"
      },
      "outputs": [],
      "source": [
        "df1=data[['title']]"
      ]
    },
    {
      "cell_type": "code",
      "execution_count": null,
      "metadata": {
        "colab": {
          "base_uri": "https://localhost:8080/",
          "height": 206
        },
        "id": "tVLvr4XQ1CIP",
        "outputId": "f18a4f8b-f08c-446f-f084-7cf07583e5ac"
      },
      "outputs": [
        {
          "output_type": "execute_result",
          "data": {
            "text/plain": [
              "                                               title\n",
              "0     Reminder - Optimus -  Best People Manager 2022\n",
              "1  It starts this 23 October, till 26 October 202...\n",
              "2  Congratulations Triveni Arun Bhalerao | Long S...\n",
              "3   Long Service Awards - 5 years - Triveni Arun ...\n",
              "4                                     tweets testing"
            ],
            "text/html": [
              "\n",
              "  <div id=\"df-97b0ec41-98f8-4016-837e-87b334ca60e5\">\n",
              "    <div class=\"colab-df-container\">\n",
              "      <div>\n",
              "<style scoped>\n",
              "    .dataframe tbody tr th:only-of-type {\n",
              "        vertical-align: middle;\n",
              "    }\n",
              "\n",
              "    .dataframe tbody tr th {\n",
              "        vertical-align: top;\n",
              "    }\n",
              "\n",
              "    .dataframe thead th {\n",
              "        text-align: right;\n",
              "    }\n",
              "</style>\n",
              "<table border=\"1\" class=\"dataframe\">\n",
              "  <thead>\n",
              "    <tr style=\"text-align: right;\">\n",
              "      <th></th>\n",
              "      <th>title</th>\n",
              "    </tr>\n",
              "  </thead>\n",
              "  <tbody>\n",
              "    <tr>\n",
              "      <th>0</th>\n",
              "      <td>Reminder - Optimus -  Best People Manager 2022</td>\n",
              "    </tr>\n",
              "    <tr>\n",
              "      <th>1</th>\n",
              "      <td>It starts this 23 October, till 26 October 202...</td>\n",
              "    </tr>\n",
              "    <tr>\n",
              "      <th>2</th>\n",
              "      <td>Congratulations Triveni Arun Bhalerao | Long S...</td>\n",
              "    </tr>\n",
              "    <tr>\n",
              "      <th>3</th>\n",
              "      <td>Long Service Awards - 5 years - Triveni Arun ...</td>\n",
              "    </tr>\n",
              "    <tr>\n",
              "      <th>4</th>\n",
              "      <td>tweets testing</td>\n",
              "    </tr>\n",
              "  </tbody>\n",
              "</table>\n",
              "</div>\n",
              "      <button class=\"colab-df-convert\" onclick=\"convertToInteractive('df-97b0ec41-98f8-4016-837e-87b334ca60e5')\"\n",
              "              title=\"Convert this dataframe to an interactive table.\"\n",
              "              style=\"display:none;\">\n",
              "        \n",
              "  <svg xmlns=\"http://www.w3.org/2000/svg\" height=\"24px\"viewBox=\"0 0 24 24\"\n",
              "       width=\"24px\">\n",
              "    <path d=\"M0 0h24v24H0V0z\" fill=\"none\"/>\n",
              "    <path d=\"M18.56 5.44l.94 2.06.94-2.06 2.06-.94-2.06-.94-.94-2.06-.94 2.06-2.06.94zm-11 1L8.5 8.5l.94-2.06 2.06-.94-2.06-.94L8.5 2.5l-.94 2.06-2.06.94zm10 10l.94 2.06.94-2.06 2.06-.94-2.06-.94-.94-2.06-.94 2.06-2.06.94z\"/><path d=\"M17.41 7.96l-1.37-1.37c-.4-.4-.92-.59-1.43-.59-.52 0-1.04.2-1.43.59L10.3 9.45l-7.72 7.72c-.78.78-.78 2.05 0 2.83L4 21.41c.39.39.9.59 1.41.59.51 0 1.02-.2 1.41-.59l7.78-7.78 2.81-2.81c.8-.78.8-2.07 0-2.86zM5.41 20L4 18.59l7.72-7.72 1.47 1.35L5.41 20z\"/>\n",
              "  </svg>\n",
              "      </button>\n",
              "      \n",
              "  <style>\n",
              "    .colab-df-container {\n",
              "      display:flex;\n",
              "      flex-wrap:wrap;\n",
              "      gap: 12px;\n",
              "    }\n",
              "\n",
              "    .colab-df-convert {\n",
              "      background-color: #E8F0FE;\n",
              "      border: none;\n",
              "      border-radius: 50%;\n",
              "      cursor: pointer;\n",
              "      display: none;\n",
              "      fill: #1967D2;\n",
              "      height: 32px;\n",
              "      padding: 0 0 0 0;\n",
              "      width: 32px;\n",
              "    }\n",
              "\n",
              "    .colab-df-convert:hover {\n",
              "      background-color: #E2EBFA;\n",
              "      box-shadow: 0px 1px 2px rgba(60, 64, 67, 0.3), 0px 1px 3px 1px rgba(60, 64, 67, 0.15);\n",
              "      fill: #174EA6;\n",
              "    }\n",
              "\n",
              "    [theme=dark] .colab-df-convert {\n",
              "      background-color: #3B4455;\n",
              "      fill: #D2E3FC;\n",
              "    }\n",
              "\n",
              "    [theme=dark] .colab-df-convert:hover {\n",
              "      background-color: #434B5C;\n",
              "      box-shadow: 0px 1px 3px 1px rgba(0, 0, 0, 0.15);\n",
              "      filter: drop-shadow(0px 1px 2px rgba(0, 0, 0, 0.3));\n",
              "      fill: #FFFFFF;\n",
              "    }\n",
              "  </style>\n",
              "\n",
              "      <script>\n",
              "        const buttonEl =\n",
              "          document.querySelector('#df-97b0ec41-98f8-4016-837e-87b334ca60e5 button.colab-df-convert');\n",
              "        buttonEl.style.display =\n",
              "          google.colab.kernel.accessAllowed ? 'block' : 'none';\n",
              "\n",
              "        async function convertToInteractive(key) {\n",
              "          const element = document.querySelector('#df-97b0ec41-98f8-4016-837e-87b334ca60e5');\n",
              "          const dataTable =\n",
              "            await google.colab.kernel.invokeFunction('convertToInteractive',\n",
              "                                                     [key], {});\n",
              "          if (!dataTable) return;\n",
              "\n",
              "          const docLinkHtml = 'Like what you see? Visit the ' +\n",
              "            '<a target=\"_blank\" href=https://colab.research.google.com/notebooks/data_table.ipynb>data table notebook</a>'\n",
              "            + ' to learn more about interactive tables.';\n",
              "          element.innerHTML = '';\n",
              "          dataTable['output_type'] = 'display_data';\n",
              "          await google.colab.output.renderOutput(dataTable, element);\n",
              "          const docLink = document.createElement('div');\n",
              "          docLink.innerHTML = docLinkHtml;\n",
              "          element.appendChild(docLink);\n",
              "        }\n",
              "      </script>\n",
              "    </div>\n",
              "  </div>\n",
              "  "
            ]
          },
          "metadata": {},
          "execution_count": 5
        }
      ],
      "source": [
        "df1.head()"
      ]
    },
    {
      "cell_type": "markdown",
      "metadata": {
        "id": "s02PtU1V1CMs"
      },
      "source": [
        "#Steps to clean the data\n",
        "Punctuation Removal: "
      ]
    },
    {
      "cell_type": "code",
      "execution_count": null,
      "metadata": {
        "colab": {
          "base_uri": "https://localhost:8080/",
          "height": 36
        },
        "id": "7658jxLX3W7E",
        "outputId": "c0d9703e-ba08-4a33-b8ea-e3bc10359c53"
      },
      "outputs": [
        {
          "output_type": "execute_result",
          "data": {
            "text/plain": [
              "'!\"#$%&\\'()*+,-./:;<=>?@[\\\\]^_`{|}~'"
            ],
            "application/vnd.google.colaboratory.intrinsic+json": {
              "type": "string"
            }
          },
          "metadata": {},
          "execution_count": 6
        }
      ],
      "source": [
        "#library that contains punctuation\n",
        "import string\n",
        "string.punctuation"
      ]
    },
    {
      "cell_type": "code",
      "execution_count": null,
      "metadata": {
        "colab": {
          "base_uri": "https://localhost:8080/"
        },
        "id": "Vo6kECh06uS_",
        "outputId": "c8cf3895-010e-4df6-c934-915ec4876ea0"
      },
      "outputs": [
        {
          "output_type": "stream",
          "name": "stdout",
          "text": [
            "<class 'pandas.core.frame.DataFrame'>\n",
            "RangeIndex: 1000 entries, 0 to 999\n",
            "Data columns (total 1 columns):\n",
            " #   Column  Non-Null Count  Dtype \n",
            "---  ------  --------------  ----- \n",
            " 0   title   993 non-null    object\n",
            "dtypes: object(1)\n",
            "memory usage: 7.9+ KB\n"
          ]
        }
      ],
      "source": [
        "df1.info()"
      ]
    },
    {
      "cell_type": "code",
      "execution_count": null,
      "metadata": {
        "id": "jRnJyZ1e33uF"
      },
      "outputs": [],
      "source": [
        "import re"
      ]
    },
    {
      "cell_type": "code",
      "execution_count": null,
      "metadata": {
        "colab": {
          "base_uri": "https://localhost:8080/"
        },
        "id": "kUgmeApB_60v",
        "outputId": "d82b81d5-a7be-4f7b-ca4c-415573904aea"
      },
      "outputs": [
        {
          "output_type": "execute_result",
          "data": {
            "text/plain": [
              "title    7\n",
              "dtype: int64"
            ]
          },
          "metadata": {},
          "execution_count": 8
        }
      ],
      "source": [
        "df1.isnull().sum()"
      ]
    },
    {
      "cell_type": "code",
      "execution_count": null,
      "metadata": {
        "colab": {
          "base_uri": "https://localhost:8080/"
        },
        "id": "qEG4fqQ1_-iq",
        "outputId": "7eb589fb-66a6-4153-bcbb-e509297f669f"
      },
      "outputs": [
        {
          "output_type": "execute_result",
          "data": {
            "text/plain": [
              "(1000, 1)"
            ]
          },
          "metadata": {},
          "execution_count": 10
        }
      ],
      "source": [
        "df1.shape"
      ]
    },
    {
      "cell_type": "code",
      "execution_count": null,
      "metadata": {
        "id": "iOdaUpheCPH1"
      },
      "outputs": [],
      "source": [
        "df3=df1.copy()"
      ]
    },
    {
      "cell_type": "code",
      "source": [
        "df3"
      ],
      "metadata": {
        "id": "iKT_UOFc3Jkf",
        "outputId": "0f3189ba-fac1-4280-d9a0-ec0477203465",
        "colab": {
          "base_uri": "https://localhost:8080/",
          "height": 424
        }
      },
      "execution_count": null,
      "outputs": [
        {
          "output_type": "execute_result",
          "data": {
            "text/plain": [
              "                                                 title\n",
              "0       Reminder - Optimus -  Best People Manager 2022\n",
              "1    It starts this 23 October, till 26 October 202...\n",
              "2    Congratulations Triveni Arun Bhalerao | Long S...\n",
              "3     Long Service Awards - 5 years - Triveni Arun ...\n",
              "4                                       tweets testing\n",
              "..                                                 ...\n",
              "995     Employee Referral Virtual Drive - 14 May, 2022\n",
              "996   The Future Trends In Mobility And Transportation\n",
              "997       The Keys to Pricing Power as Recession Looms\n",
              "998  Intelligence and unified data governance in th...\n",
              "999  Creating a defined data centric space with AI ...\n",
              "\n",
              "[1000 rows x 1 columns]"
            ],
            "text/html": [
              "\n",
              "  <div id=\"df-5f2a3b21-094d-45fd-b9fe-8f08694657d5\">\n",
              "    <div class=\"colab-df-container\">\n",
              "      <div>\n",
              "<style scoped>\n",
              "    .dataframe tbody tr th:only-of-type {\n",
              "        vertical-align: middle;\n",
              "    }\n",
              "\n",
              "    .dataframe tbody tr th {\n",
              "        vertical-align: top;\n",
              "    }\n",
              "\n",
              "    .dataframe thead th {\n",
              "        text-align: right;\n",
              "    }\n",
              "</style>\n",
              "<table border=\"1\" class=\"dataframe\">\n",
              "  <thead>\n",
              "    <tr style=\"text-align: right;\">\n",
              "      <th></th>\n",
              "      <th>title</th>\n",
              "    </tr>\n",
              "  </thead>\n",
              "  <tbody>\n",
              "    <tr>\n",
              "      <th>0</th>\n",
              "      <td>Reminder - Optimus -  Best People Manager 2022</td>\n",
              "    </tr>\n",
              "    <tr>\n",
              "      <th>1</th>\n",
              "      <td>It starts this 23 October, till 26 October 202...</td>\n",
              "    </tr>\n",
              "    <tr>\n",
              "      <th>2</th>\n",
              "      <td>Congratulations Triveni Arun Bhalerao | Long S...</td>\n",
              "    </tr>\n",
              "    <tr>\n",
              "      <th>3</th>\n",
              "      <td>Long Service Awards - 5 years - Triveni Arun ...</td>\n",
              "    </tr>\n",
              "    <tr>\n",
              "      <th>4</th>\n",
              "      <td>tweets testing</td>\n",
              "    </tr>\n",
              "    <tr>\n",
              "      <th>...</th>\n",
              "      <td>...</td>\n",
              "    </tr>\n",
              "    <tr>\n",
              "      <th>995</th>\n",
              "      <td>Employee Referral Virtual Drive - 14 May, 2022</td>\n",
              "    </tr>\n",
              "    <tr>\n",
              "      <th>996</th>\n",
              "      <td>The Future Trends In Mobility And Transportation</td>\n",
              "    </tr>\n",
              "    <tr>\n",
              "      <th>997</th>\n",
              "      <td>The Keys to Pricing Power as Recession Looms</td>\n",
              "    </tr>\n",
              "    <tr>\n",
              "      <th>998</th>\n",
              "      <td>Intelligence and unified data governance in th...</td>\n",
              "    </tr>\n",
              "    <tr>\n",
              "      <th>999</th>\n",
              "      <td>Creating a defined data centric space with AI ...</td>\n",
              "    </tr>\n",
              "  </tbody>\n",
              "</table>\n",
              "<p>1000 rows × 1 columns</p>\n",
              "</div>\n",
              "      <button class=\"colab-df-convert\" onclick=\"convertToInteractive('df-5f2a3b21-094d-45fd-b9fe-8f08694657d5')\"\n",
              "              title=\"Convert this dataframe to an interactive table.\"\n",
              "              style=\"display:none;\">\n",
              "        \n",
              "  <svg xmlns=\"http://www.w3.org/2000/svg\" height=\"24px\"viewBox=\"0 0 24 24\"\n",
              "       width=\"24px\">\n",
              "    <path d=\"M0 0h24v24H0V0z\" fill=\"none\"/>\n",
              "    <path d=\"M18.56 5.44l.94 2.06.94-2.06 2.06-.94-2.06-.94-.94-2.06-.94 2.06-2.06.94zm-11 1L8.5 8.5l.94-2.06 2.06-.94-2.06-.94L8.5 2.5l-.94 2.06-2.06.94zm10 10l.94 2.06.94-2.06 2.06-.94-2.06-.94-.94-2.06-.94 2.06-2.06.94z\"/><path d=\"M17.41 7.96l-1.37-1.37c-.4-.4-.92-.59-1.43-.59-.52 0-1.04.2-1.43.59L10.3 9.45l-7.72 7.72c-.78.78-.78 2.05 0 2.83L4 21.41c.39.39.9.59 1.41.59.51 0 1.02-.2 1.41-.59l7.78-7.78 2.81-2.81c.8-.78.8-2.07 0-2.86zM5.41 20L4 18.59l7.72-7.72 1.47 1.35L5.41 20z\"/>\n",
              "  </svg>\n",
              "      </button>\n",
              "      \n",
              "  <style>\n",
              "    .colab-df-container {\n",
              "      display:flex;\n",
              "      flex-wrap:wrap;\n",
              "      gap: 12px;\n",
              "    }\n",
              "\n",
              "    .colab-df-convert {\n",
              "      background-color: #E8F0FE;\n",
              "      border: none;\n",
              "      border-radius: 50%;\n",
              "      cursor: pointer;\n",
              "      display: none;\n",
              "      fill: #1967D2;\n",
              "      height: 32px;\n",
              "      padding: 0 0 0 0;\n",
              "      width: 32px;\n",
              "    }\n",
              "\n",
              "    .colab-df-convert:hover {\n",
              "      background-color: #E2EBFA;\n",
              "      box-shadow: 0px 1px 2px rgba(60, 64, 67, 0.3), 0px 1px 3px 1px rgba(60, 64, 67, 0.15);\n",
              "      fill: #174EA6;\n",
              "    }\n",
              "\n",
              "    [theme=dark] .colab-df-convert {\n",
              "      background-color: #3B4455;\n",
              "      fill: #D2E3FC;\n",
              "    }\n",
              "\n",
              "    [theme=dark] .colab-df-convert:hover {\n",
              "      background-color: #434B5C;\n",
              "      box-shadow: 0px 1px 3px 1px rgba(0, 0, 0, 0.15);\n",
              "      filter: drop-shadow(0px 1px 2px rgba(0, 0, 0, 0.3));\n",
              "      fill: #FFFFFF;\n",
              "    }\n",
              "  </style>\n",
              "\n",
              "      <script>\n",
              "        const buttonEl =\n",
              "          document.querySelector('#df-5f2a3b21-094d-45fd-b9fe-8f08694657d5 button.colab-df-convert');\n",
              "        buttonEl.style.display =\n",
              "          google.colab.kernel.accessAllowed ? 'block' : 'none';\n",
              "\n",
              "        async function convertToInteractive(key) {\n",
              "          const element = document.querySelector('#df-5f2a3b21-094d-45fd-b9fe-8f08694657d5');\n",
              "          const dataTable =\n",
              "            await google.colab.kernel.invokeFunction('convertToInteractive',\n",
              "                                                     [key], {});\n",
              "          if (!dataTable) return;\n",
              "\n",
              "          const docLinkHtml = 'Like what you see? Visit the ' +\n",
              "            '<a target=\"_blank\" href=https://colab.research.google.com/notebooks/data_table.ipynb>data table notebook</a>'\n",
              "            + ' to learn more about interactive tables.';\n",
              "          element.innerHTML = '';\n",
              "          dataTable['output_type'] = 'display_data';\n",
              "          await google.colab.output.renderOutput(dataTable, element);\n",
              "          const docLink = document.createElement('div');\n",
              "          docLink.innerHTML = docLinkHtml;\n",
              "          element.appendChild(docLink);\n",
              "        }\n",
              "      </script>\n",
              "    </div>\n",
              "  </div>\n",
              "  "
            ]
          },
          "metadata": {},
          "execution_count": 13
        }
      ]
    },
    {
      "cell_type": "code",
      "source": [
        "def custom_encoder(data):\n",
        "  data.replace(to_replace='TWEETS',value=1,inplace=True)\n",
        "  data.replace(to_replace='COMPANY_INFORMATION',value=2,inplace=True)\n",
        "  data.replace(to_replace='STORY_OF_THE_DAY',value=3,inplace=True)\n",
        "  data.replace(to_replace='TECHNO_PICKS',value=4,inplace=True)\n",
        "  data.replace(to_replace='INDUSTRY_UPDATE',value=5,inplace=True)\n",
        "  data.replace(to_replace='WHO_SAID_WHAT',value=6,inplace=True)\n",
        "  data.replace(to_replace='FEATURED_VIDEOS',value=7,inplace=True)\n",
        "  data.replace(to_replace='SUCCESS_STORY',value=8,inplace=True)\n",
        "  data.replace(to_replace='PEOPLE_OF_ALTIMETRIK',value=9,inplace=True)\n",
        "  data.replace(to_replace='ALTIMETRIK_NEWS',value=10,inplace=True)\n",
        "  data.replace(to_replace='EMPLOYEE_EXPERIENCES',value=11,inplace=True)\n",
        "  data.replace(to_replace='ABOUT_ALTIMETRIK',value=12,inplace=True)\n",
        "  data.replace(to_replace='CAPABILITY_CENTERS',value=13,inplace=True)\n",
        "  data.replace(to_replace='GLOBAL_RECOGNITIONS',value=14,inplace=True)\n",
        "  data.replace(to_replace='INNOVATION_AT_ALTIMETRIK',value=15,inplace=True)\n",
        "  data.replace(to_replace='TRENDING_STORY',value=16,inplace=True)\n",
        "  data.replace(to_replace='EBOOK',value=17,inplace=True)\n",
        "  data.replace(to_replace='STATIC_CONTENT',value=18,inplace=True)\n",
        "  data.replace(to_replace='DIGITAL_BUSINESS',value=19,inplace=True)"
      ],
      "metadata": {
        "id": "lZbo_c-8ED23"
      },
      "execution_count": 65,
      "outputs": []
    },
    {
      "cell_type": "code",
      "source": [
        "custom_encoder(data['category'])"
      ],
      "metadata": {
        "id": "JOWp0x_GGpRy"
      },
      "execution_count": 67,
      "outputs": []
    },
    {
      "cell_type": "code",
      "source": [
        "data"
      ],
      "metadata": {
        "colab": {
          "base_uri": "https://localhost:8080/",
          "height": 424
        },
        "id": "Pqp44G8hG29N",
        "outputId": "20864368-5a0c-4bb2-d7bb-8ef57cb78557"
      },
      "execution_count": 68,
      "outputs": [
        {
          "output_type": "execute_result",
          "data": {
            "text/plain": [
              "     Unnamed: 0                                              title  \\\n",
              "0             0     Reminder - Optimus -  Best People Manager 2022   \n",
              "1             1  It starts this 23 October, till 26 October 202...   \n",
              "2             2  Congratulations Triveni Arun Bhalerao | Long S...   \n",
              "3             3   Long Service Awards - 5 years - Triveni Arun ...   \n",
              "4             4                                     tweets testing   \n",
              "..          ...                                                ...   \n",
              "995         995     Employee Referral Virtual Drive - 14 May, 2022   \n",
              "996         996   The Future Trends In Mobility And Transportation   \n",
              "997         997       The Keys to Pricing Power as Recession Looms   \n",
              "998         998  Intelligence and unified data governance in th...   \n",
              "999         999  Creating a defined data centric space with AI ...   \n",
              "\n",
              "                                               summary  category  \n",
              "0    Today is the last day for voting (14th October...         1  \n",
              "1    Hope you are all set to attend Money 2020 USA ...         1  \n",
              "2                                                  NaN         6  \n",
              "3                                                  NaN         3  \n",
              "4    today testing preview screen and toast success...         1  \n",
              "..                                                 ...       ...  \n",
              "995                                                NaN         2  \n",
              "996                                                NaN         5  \n",
              "997                                                NaN         5  \n",
              "998                                                NaN         4  \n",
              "999                                                NaN         4  \n",
              "\n",
              "[1000 rows x 4 columns]"
            ],
            "text/html": [
              "\n",
              "  <div id=\"df-60fcb245-db75-4532-b776-fc4dbef50bf0\">\n",
              "    <div class=\"colab-df-container\">\n",
              "      <div>\n",
              "<style scoped>\n",
              "    .dataframe tbody tr th:only-of-type {\n",
              "        vertical-align: middle;\n",
              "    }\n",
              "\n",
              "    .dataframe tbody tr th {\n",
              "        vertical-align: top;\n",
              "    }\n",
              "\n",
              "    .dataframe thead th {\n",
              "        text-align: right;\n",
              "    }\n",
              "</style>\n",
              "<table border=\"1\" class=\"dataframe\">\n",
              "  <thead>\n",
              "    <tr style=\"text-align: right;\">\n",
              "      <th></th>\n",
              "      <th>Unnamed: 0</th>\n",
              "      <th>title</th>\n",
              "      <th>summary</th>\n",
              "      <th>category</th>\n",
              "    </tr>\n",
              "  </thead>\n",
              "  <tbody>\n",
              "    <tr>\n",
              "      <th>0</th>\n",
              "      <td>0</td>\n",
              "      <td>Reminder - Optimus -  Best People Manager 2022</td>\n",
              "      <td>Today is the last day for voting (14th October...</td>\n",
              "      <td>1</td>\n",
              "    </tr>\n",
              "    <tr>\n",
              "      <th>1</th>\n",
              "      <td>1</td>\n",
              "      <td>It starts this 23 October, till 26 October 202...</td>\n",
              "      <td>Hope you are all set to attend Money 2020 USA ...</td>\n",
              "      <td>1</td>\n",
              "    </tr>\n",
              "    <tr>\n",
              "      <th>2</th>\n",
              "      <td>2</td>\n",
              "      <td>Congratulations Triveni Arun Bhalerao | Long S...</td>\n",
              "      <td>NaN</td>\n",
              "      <td>6</td>\n",
              "    </tr>\n",
              "    <tr>\n",
              "      <th>3</th>\n",
              "      <td>3</td>\n",
              "      <td>Long Service Awards - 5 years - Triveni Arun ...</td>\n",
              "      <td>NaN</td>\n",
              "      <td>3</td>\n",
              "    </tr>\n",
              "    <tr>\n",
              "      <th>4</th>\n",
              "      <td>4</td>\n",
              "      <td>tweets testing</td>\n",
              "      <td>today testing preview screen and toast success...</td>\n",
              "      <td>1</td>\n",
              "    </tr>\n",
              "    <tr>\n",
              "      <th>...</th>\n",
              "      <td>...</td>\n",
              "      <td>...</td>\n",
              "      <td>...</td>\n",
              "      <td>...</td>\n",
              "    </tr>\n",
              "    <tr>\n",
              "      <th>995</th>\n",
              "      <td>995</td>\n",
              "      <td>Employee Referral Virtual Drive - 14 May, 2022</td>\n",
              "      <td>NaN</td>\n",
              "      <td>2</td>\n",
              "    </tr>\n",
              "    <tr>\n",
              "      <th>996</th>\n",
              "      <td>996</td>\n",
              "      <td>The Future Trends In Mobility And Transportation</td>\n",
              "      <td>NaN</td>\n",
              "      <td>5</td>\n",
              "    </tr>\n",
              "    <tr>\n",
              "      <th>997</th>\n",
              "      <td>997</td>\n",
              "      <td>The Keys to Pricing Power as Recession Looms</td>\n",
              "      <td>NaN</td>\n",
              "      <td>5</td>\n",
              "    </tr>\n",
              "    <tr>\n",
              "      <th>998</th>\n",
              "      <td>998</td>\n",
              "      <td>Intelligence and unified data governance in th...</td>\n",
              "      <td>NaN</td>\n",
              "      <td>4</td>\n",
              "    </tr>\n",
              "    <tr>\n",
              "      <th>999</th>\n",
              "      <td>999</td>\n",
              "      <td>Creating a defined data centric space with AI ...</td>\n",
              "      <td>NaN</td>\n",
              "      <td>4</td>\n",
              "    </tr>\n",
              "  </tbody>\n",
              "</table>\n",
              "<p>1000 rows × 4 columns</p>\n",
              "</div>\n",
              "      <button class=\"colab-df-convert\" onclick=\"convertToInteractive('df-60fcb245-db75-4532-b776-fc4dbef50bf0')\"\n",
              "              title=\"Convert this dataframe to an interactive table.\"\n",
              "              style=\"display:none;\">\n",
              "        \n",
              "  <svg xmlns=\"http://www.w3.org/2000/svg\" height=\"24px\"viewBox=\"0 0 24 24\"\n",
              "       width=\"24px\">\n",
              "    <path d=\"M0 0h24v24H0V0z\" fill=\"none\"/>\n",
              "    <path d=\"M18.56 5.44l.94 2.06.94-2.06 2.06-.94-2.06-.94-.94-2.06-.94 2.06-2.06.94zm-11 1L8.5 8.5l.94-2.06 2.06-.94-2.06-.94L8.5 2.5l-.94 2.06-2.06.94zm10 10l.94 2.06.94-2.06 2.06-.94-2.06-.94-.94-2.06-.94 2.06-2.06.94z\"/><path d=\"M17.41 7.96l-1.37-1.37c-.4-.4-.92-.59-1.43-.59-.52 0-1.04.2-1.43.59L10.3 9.45l-7.72 7.72c-.78.78-.78 2.05 0 2.83L4 21.41c.39.39.9.59 1.41.59.51 0 1.02-.2 1.41-.59l7.78-7.78 2.81-2.81c.8-.78.8-2.07 0-2.86zM5.41 20L4 18.59l7.72-7.72 1.47 1.35L5.41 20z\"/>\n",
              "  </svg>\n",
              "      </button>\n",
              "      \n",
              "  <style>\n",
              "    .colab-df-container {\n",
              "      display:flex;\n",
              "      flex-wrap:wrap;\n",
              "      gap: 12px;\n",
              "    }\n",
              "\n",
              "    .colab-df-convert {\n",
              "      background-color: #E8F0FE;\n",
              "      border: none;\n",
              "      border-radius: 50%;\n",
              "      cursor: pointer;\n",
              "      display: none;\n",
              "      fill: #1967D2;\n",
              "      height: 32px;\n",
              "      padding: 0 0 0 0;\n",
              "      width: 32px;\n",
              "    }\n",
              "\n",
              "    .colab-df-convert:hover {\n",
              "      background-color: #E2EBFA;\n",
              "      box-shadow: 0px 1px 2px rgba(60, 64, 67, 0.3), 0px 1px 3px 1px rgba(60, 64, 67, 0.15);\n",
              "      fill: #174EA6;\n",
              "    }\n",
              "\n",
              "    [theme=dark] .colab-df-convert {\n",
              "      background-color: #3B4455;\n",
              "      fill: #D2E3FC;\n",
              "    }\n",
              "\n",
              "    [theme=dark] .colab-df-convert:hover {\n",
              "      background-color: #434B5C;\n",
              "      box-shadow: 0px 1px 3px 1px rgba(0, 0, 0, 0.15);\n",
              "      filter: drop-shadow(0px 1px 2px rgba(0, 0, 0, 0.3));\n",
              "      fill: #FFFFFF;\n",
              "    }\n",
              "  </style>\n",
              "\n",
              "      <script>\n",
              "        const buttonEl =\n",
              "          document.querySelector('#df-60fcb245-db75-4532-b776-fc4dbef50bf0 button.colab-df-convert');\n",
              "        buttonEl.style.display =\n",
              "          google.colab.kernel.accessAllowed ? 'block' : 'none';\n",
              "\n",
              "        async function convertToInteractive(key) {\n",
              "          const element = document.querySelector('#df-60fcb245-db75-4532-b776-fc4dbef50bf0');\n",
              "          const dataTable =\n",
              "            await google.colab.kernel.invokeFunction('convertToInteractive',\n",
              "                                                     [key], {});\n",
              "          if (!dataTable) return;\n",
              "\n",
              "          const docLinkHtml = 'Like what you see? Visit the ' +\n",
              "            '<a target=\"_blank\" href=https://colab.research.google.com/notebooks/data_table.ipynb>data table notebook</a>'\n",
              "            + ' to learn more about interactive tables.';\n",
              "          element.innerHTML = '';\n",
              "          dataTable['output_type'] = 'display_data';\n",
              "          await google.colab.output.renderOutput(dataTable, element);\n",
              "          const docLink = document.createElement('div');\n",
              "          docLink.innerHTML = docLinkHtml;\n",
              "          element.appendChild(docLink);\n",
              "        }\n",
              "      </script>\n",
              "    </div>\n",
              "  </div>\n",
              "  "
            ]
          },
          "metadata": {},
          "execution_count": 68
        }
      ]
    },
    {
      "cell_type": "code",
      "source": [
        "df3.dropna(inplace=True)"
      ],
      "metadata": {
        "id": "kfV4WPoD3W9-"
      },
      "execution_count": 14,
      "outputs": []
    },
    {
      "cell_type": "code",
      "source": [
        "df3['category']=data['category']"
      ],
      "metadata": {
        "id": "PfxW7ZIjG6nC"
      },
      "execution_count": 69,
      "outputs": []
    },
    {
      "cell_type": "code",
      "execution_count": 16,
      "metadata": {
        "colab": {
          "base_uri": "https://localhost:8080/",
          "height": 206
        },
        "id": "l4NHECBUDQAt",
        "outputId": "c97dc0ed-5448-457d-8f71-75fc294caca0"
      },
      "outputs": [
        {
          "output_type": "execute_result",
          "data": {
            "text/plain": [
              "                                               title  \\\n",
              "0     Reminder - Optimus -  Best People Manager 2022   \n",
              "1  It starts this 23 October, till 26 October 202...   \n",
              "2  Congratulations Triveni Arun Bhalerao | Long S...   \n",
              "3   Long Service Awards - 5 years - Triveni Arun ...   \n",
              "4                                     tweets testing   \n",
              "\n",
              "                                         clean_title  \n",
              "0       reminder  optimus   best people manager 2022  \n",
              "1  it starts this 23 october till 26 october 2022...  \n",
              "2  congratulations triveni arun bhalerao  long se...  \n",
              "3   long service awards  5 years  triveni arun bh...  \n",
              "4                                     tweets testing  "
            ],
            "text/html": [
              "\n",
              "  <div id=\"df-e25b4d6b-ba81-47a1-9442-54a4863e0b93\">\n",
              "    <div class=\"colab-df-container\">\n",
              "      <div>\n",
              "<style scoped>\n",
              "    .dataframe tbody tr th:only-of-type {\n",
              "        vertical-align: middle;\n",
              "    }\n",
              "\n",
              "    .dataframe tbody tr th {\n",
              "        vertical-align: top;\n",
              "    }\n",
              "\n",
              "    .dataframe thead th {\n",
              "        text-align: right;\n",
              "    }\n",
              "</style>\n",
              "<table border=\"1\" class=\"dataframe\">\n",
              "  <thead>\n",
              "    <tr style=\"text-align: right;\">\n",
              "      <th></th>\n",
              "      <th>title</th>\n",
              "      <th>clean_title</th>\n",
              "    </tr>\n",
              "  </thead>\n",
              "  <tbody>\n",
              "    <tr>\n",
              "      <th>0</th>\n",
              "      <td>Reminder - Optimus -  Best People Manager 2022</td>\n",
              "      <td>reminder  optimus   best people manager 2022</td>\n",
              "    </tr>\n",
              "    <tr>\n",
              "      <th>1</th>\n",
              "      <td>It starts this 23 October, till 26 October 202...</td>\n",
              "      <td>it starts this 23 october till 26 october 2022...</td>\n",
              "    </tr>\n",
              "    <tr>\n",
              "      <th>2</th>\n",
              "      <td>Congratulations Triveni Arun Bhalerao | Long S...</td>\n",
              "      <td>congratulations triveni arun bhalerao  long se...</td>\n",
              "    </tr>\n",
              "    <tr>\n",
              "      <th>3</th>\n",
              "      <td>Long Service Awards - 5 years - Triveni Arun ...</td>\n",
              "      <td>long service awards  5 years  triveni arun bh...</td>\n",
              "    </tr>\n",
              "    <tr>\n",
              "      <th>4</th>\n",
              "      <td>tweets testing</td>\n",
              "      <td>tweets testing</td>\n",
              "    </tr>\n",
              "  </tbody>\n",
              "</table>\n",
              "</div>\n",
              "      <button class=\"colab-df-convert\" onclick=\"convertToInteractive('df-e25b4d6b-ba81-47a1-9442-54a4863e0b93')\"\n",
              "              title=\"Convert this dataframe to an interactive table.\"\n",
              "              style=\"display:none;\">\n",
              "        \n",
              "  <svg xmlns=\"http://www.w3.org/2000/svg\" height=\"24px\"viewBox=\"0 0 24 24\"\n",
              "       width=\"24px\">\n",
              "    <path d=\"M0 0h24v24H0V0z\" fill=\"none\"/>\n",
              "    <path d=\"M18.56 5.44l.94 2.06.94-2.06 2.06-.94-2.06-.94-.94-2.06-.94 2.06-2.06.94zm-11 1L8.5 8.5l.94-2.06 2.06-.94-2.06-.94L8.5 2.5l-.94 2.06-2.06.94zm10 10l.94 2.06.94-2.06 2.06-.94-2.06-.94-.94-2.06-.94 2.06-2.06.94z\"/><path d=\"M17.41 7.96l-1.37-1.37c-.4-.4-.92-.59-1.43-.59-.52 0-1.04.2-1.43.59L10.3 9.45l-7.72 7.72c-.78.78-.78 2.05 0 2.83L4 21.41c.39.39.9.59 1.41.59.51 0 1.02-.2 1.41-.59l7.78-7.78 2.81-2.81c.8-.78.8-2.07 0-2.86zM5.41 20L4 18.59l7.72-7.72 1.47 1.35L5.41 20z\"/>\n",
              "  </svg>\n",
              "      </button>\n",
              "      \n",
              "  <style>\n",
              "    .colab-df-container {\n",
              "      display:flex;\n",
              "      flex-wrap:wrap;\n",
              "      gap: 12px;\n",
              "    }\n",
              "\n",
              "    .colab-df-convert {\n",
              "      background-color: #E8F0FE;\n",
              "      border: none;\n",
              "      border-radius: 50%;\n",
              "      cursor: pointer;\n",
              "      display: none;\n",
              "      fill: #1967D2;\n",
              "      height: 32px;\n",
              "      padding: 0 0 0 0;\n",
              "      width: 32px;\n",
              "    }\n",
              "\n",
              "    .colab-df-convert:hover {\n",
              "      background-color: #E2EBFA;\n",
              "      box-shadow: 0px 1px 2px rgba(60, 64, 67, 0.3), 0px 1px 3px 1px rgba(60, 64, 67, 0.15);\n",
              "      fill: #174EA6;\n",
              "    }\n",
              "\n",
              "    [theme=dark] .colab-df-convert {\n",
              "      background-color: #3B4455;\n",
              "      fill: #D2E3FC;\n",
              "    }\n",
              "\n",
              "    [theme=dark] .colab-df-convert:hover {\n",
              "      background-color: #434B5C;\n",
              "      box-shadow: 0px 1px 3px 1px rgba(0, 0, 0, 0.15);\n",
              "      filter: drop-shadow(0px 1px 2px rgba(0, 0, 0, 0.3));\n",
              "      fill: #FFFFFF;\n",
              "    }\n",
              "  </style>\n",
              "\n",
              "      <script>\n",
              "        const buttonEl =\n",
              "          document.querySelector('#df-e25b4d6b-ba81-47a1-9442-54a4863e0b93 button.colab-df-convert');\n",
              "        buttonEl.style.display =\n",
              "          google.colab.kernel.accessAllowed ? 'block' : 'none';\n",
              "\n",
              "        async function convertToInteractive(key) {\n",
              "          const element = document.querySelector('#df-e25b4d6b-ba81-47a1-9442-54a4863e0b93');\n",
              "          const dataTable =\n",
              "            await google.colab.kernel.invokeFunction('convertToInteractive',\n",
              "                                                     [key], {});\n",
              "          if (!dataTable) return;\n",
              "\n",
              "          const docLinkHtml = 'Like what you see? Visit the ' +\n",
              "            '<a target=\"_blank\" href=https://colab.research.google.com/notebooks/data_table.ipynb>data table notebook</a>'\n",
              "            + ' to learn more about interactive tables.';\n",
              "          element.innerHTML = '';\n",
              "          dataTable['output_type'] = 'display_data';\n",
              "          await google.colab.output.renderOutput(dataTable, element);\n",
              "          const docLink = document.createElement('div');\n",
              "          docLink.innerHTML = docLinkHtml;\n",
              "          element.appendChild(docLink);\n",
              "        }\n",
              "      </script>\n",
              "    </div>\n",
              "  </div>\n",
              "  "
            ]
          },
          "metadata": {},
          "execution_count": 16
        }
      ],
      "source": [
        "#defining the function to remove punctuation\n",
        "def remove_punctuation(text):\n",
        "    punctuationfree=\"\".join([i for i in text if i not in string.punctuation])\n",
        "    punctuationfree_lower=punctuationfree.lower()\n",
        "    return punctuationfree_lower\n",
        "#storing the puntuation free text\n",
        "df3['clean_title']= df3['title'].apply(lambda x: remove_punctuation(x))\n",
        "df3.head()"
      ]
    },
    {
      "cell_type": "code",
      "source": [
        "df4=df3.copy()"
      ],
      "metadata": {
        "id": "j8SsIFD93KF7"
      },
      "execution_count": 17,
      "outputs": []
    },
    {
      "cell_type": "code",
      "source": [
        "# #defining function for tokenization\n",
        "# import re\n",
        "# def tokenization(text):\n",
        "#     tokens = re.split(' ',text)\n",
        "#     return tokens\n",
        "# #applying function to the column\n",
        "# df3['title_tokenied']= df3['clean_title'].apply(lambda x: tokenization(x))"
      ],
      "metadata": {
        "id": "8c4MuZKI3KKQ"
      },
      "execution_count": 34,
      "outputs": []
    },
    {
      "cell_type": "code",
      "source": [
        "df3.drop(['title_tokenied'],axis=1,inplace=True)"
      ],
      "metadata": {
        "id": "n_Wse8qW7MRW"
      },
      "execution_count": 39,
      "outputs": []
    },
    {
      "cell_type": "code",
      "source": [
        "df3.head()"
      ],
      "metadata": {
        "colab": {
          "base_uri": "https://localhost:8080/",
          "height": 206
        },
        "id": "PEKrcehp7MV-",
        "outputId": "a6294709-44d6-4d47-a968-6324db0e799e"
      },
      "execution_count": 40,
      "outputs": [
        {
          "output_type": "execute_result",
          "data": {
            "text/plain": [
              "                                               title  \\\n",
              "0     Reminder - Optimus -  Best People Manager 2022   \n",
              "1  It starts this 23 October, till 26 October 202...   \n",
              "2  Congratulations Triveni Arun Bhalerao | Long S...   \n",
              "3   Long Service Awards - 5 years - Triveni Arun ...   \n",
              "4                                     tweets testing   \n",
              "\n",
              "                                         clean_title  \n",
              "0       reminder  optimus   best people manager 2022  \n",
              "1  it starts this 23 october till 26 october 2022...  \n",
              "2  congratulations triveni arun bhalerao  long se...  \n",
              "3   long service awards  5 years  triveni arun bh...  \n",
              "4                                     tweets testing  "
            ],
            "text/html": [
              "\n",
              "  <div id=\"df-0f3faf5d-f5dd-49ca-8253-9fb283d23b03\">\n",
              "    <div class=\"colab-df-container\">\n",
              "      <div>\n",
              "<style scoped>\n",
              "    .dataframe tbody tr th:only-of-type {\n",
              "        vertical-align: middle;\n",
              "    }\n",
              "\n",
              "    .dataframe tbody tr th {\n",
              "        vertical-align: top;\n",
              "    }\n",
              "\n",
              "    .dataframe thead th {\n",
              "        text-align: right;\n",
              "    }\n",
              "</style>\n",
              "<table border=\"1\" class=\"dataframe\">\n",
              "  <thead>\n",
              "    <tr style=\"text-align: right;\">\n",
              "      <th></th>\n",
              "      <th>title</th>\n",
              "      <th>clean_title</th>\n",
              "    </tr>\n",
              "  </thead>\n",
              "  <tbody>\n",
              "    <tr>\n",
              "      <th>0</th>\n",
              "      <td>Reminder - Optimus -  Best People Manager 2022</td>\n",
              "      <td>reminder  optimus   best people manager 2022</td>\n",
              "    </tr>\n",
              "    <tr>\n",
              "      <th>1</th>\n",
              "      <td>It starts this 23 October, till 26 October 202...</td>\n",
              "      <td>it starts this 23 october till 26 october 2022...</td>\n",
              "    </tr>\n",
              "    <tr>\n",
              "      <th>2</th>\n",
              "      <td>Congratulations Triveni Arun Bhalerao | Long S...</td>\n",
              "      <td>congratulations triveni arun bhalerao  long se...</td>\n",
              "    </tr>\n",
              "    <tr>\n",
              "      <th>3</th>\n",
              "      <td>Long Service Awards - 5 years - Triveni Arun ...</td>\n",
              "      <td>long service awards  5 years  triveni arun bh...</td>\n",
              "    </tr>\n",
              "    <tr>\n",
              "      <th>4</th>\n",
              "      <td>tweets testing</td>\n",
              "      <td>tweets testing</td>\n",
              "    </tr>\n",
              "  </tbody>\n",
              "</table>\n",
              "</div>\n",
              "      <button class=\"colab-df-convert\" onclick=\"convertToInteractive('df-0f3faf5d-f5dd-49ca-8253-9fb283d23b03')\"\n",
              "              title=\"Convert this dataframe to an interactive table.\"\n",
              "              style=\"display:none;\">\n",
              "        \n",
              "  <svg xmlns=\"http://www.w3.org/2000/svg\" height=\"24px\"viewBox=\"0 0 24 24\"\n",
              "       width=\"24px\">\n",
              "    <path d=\"M0 0h24v24H0V0z\" fill=\"none\"/>\n",
              "    <path d=\"M18.56 5.44l.94 2.06.94-2.06 2.06-.94-2.06-.94-.94-2.06-.94 2.06-2.06.94zm-11 1L8.5 8.5l.94-2.06 2.06-.94-2.06-.94L8.5 2.5l-.94 2.06-2.06.94zm10 10l.94 2.06.94-2.06 2.06-.94-2.06-.94-.94-2.06-.94 2.06-2.06.94z\"/><path d=\"M17.41 7.96l-1.37-1.37c-.4-.4-.92-.59-1.43-.59-.52 0-1.04.2-1.43.59L10.3 9.45l-7.72 7.72c-.78.78-.78 2.05 0 2.83L4 21.41c.39.39.9.59 1.41.59.51 0 1.02-.2 1.41-.59l7.78-7.78 2.81-2.81c.8-.78.8-2.07 0-2.86zM5.41 20L4 18.59l7.72-7.72 1.47 1.35L5.41 20z\"/>\n",
              "  </svg>\n",
              "      </button>\n",
              "      \n",
              "  <style>\n",
              "    .colab-df-container {\n",
              "      display:flex;\n",
              "      flex-wrap:wrap;\n",
              "      gap: 12px;\n",
              "    }\n",
              "\n",
              "    .colab-df-convert {\n",
              "      background-color: #E8F0FE;\n",
              "      border: none;\n",
              "      border-radius: 50%;\n",
              "      cursor: pointer;\n",
              "      display: none;\n",
              "      fill: #1967D2;\n",
              "      height: 32px;\n",
              "      padding: 0 0 0 0;\n",
              "      width: 32px;\n",
              "    }\n",
              "\n",
              "    .colab-df-convert:hover {\n",
              "      background-color: #E2EBFA;\n",
              "      box-shadow: 0px 1px 2px rgba(60, 64, 67, 0.3), 0px 1px 3px 1px rgba(60, 64, 67, 0.15);\n",
              "      fill: #174EA6;\n",
              "    }\n",
              "\n",
              "    [theme=dark] .colab-df-convert {\n",
              "      background-color: #3B4455;\n",
              "      fill: #D2E3FC;\n",
              "    }\n",
              "\n",
              "    [theme=dark] .colab-df-convert:hover {\n",
              "      background-color: #434B5C;\n",
              "      box-shadow: 0px 1px 3px 1px rgba(0, 0, 0, 0.15);\n",
              "      filter: drop-shadow(0px 1px 2px rgba(0, 0, 0, 0.3));\n",
              "      fill: #FFFFFF;\n",
              "    }\n",
              "  </style>\n",
              "\n",
              "      <script>\n",
              "        const buttonEl =\n",
              "          document.querySelector('#df-0f3faf5d-f5dd-49ca-8253-9fb283d23b03 button.colab-df-convert');\n",
              "        buttonEl.style.display =\n",
              "          google.colab.kernel.accessAllowed ? 'block' : 'none';\n",
              "\n",
              "        async function convertToInteractive(key) {\n",
              "          const element = document.querySelector('#df-0f3faf5d-f5dd-49ca-8253-9fb283d23b03');\n",
              "          const dataTable =\n",
              "            await google.colab.kernel.invokeFunction('convertToInteractive',\n",
              "                                                     [key], {});\n",
              "          if (!dataTable) return;\n",
              "\n",
              "          const docLinkHtml = 'Like what you see? Visit the ' +\n",
              "            '<a target=\"_blank\" href=https://colab.research.google.com/notebooks/data_table.ipynb>data table notebook</a>'\n",
              "            + ' to learn more about interactive tables.';\n",
              "          element.innerHTML = '';\n",
              "          dataTable['output_type'] = 'display_data';\n",
              "          await google.colab.output.renderOutput(dataTable, element);\n",
              "          const docLink = document.createElement('div');\n",
              "          docLink.innerHTML = docLinkHtml;\n",
              "          element.appendChild(docLink);\n",
              "        }\n",
              "      </script>\n",
              "    </div>\n",
              "  </div>\n",
              "  "
            ]
          },
          "metadata": {},
          "execution_count": 40
        }
      ]
    },
    {
      "cell_type": "code",
      "source": [
        "import nltk\n",
        "from nltk.stem import WordNetLemmatizer\n",
        "nltk.download('stopwords')\n",
        "nltk.download('wordnet')\n",
        "from nltk.corpus import stopwords"
      ],
      "metadata": {
        "colab": {
          "base_uri": "https://localhost:8080/"
        },
        "id": "sM9S1e3M-Md4",
        "outputId": "254ab996-b521-44f9-d1e6-ffc1ae1e6bd0"
      },
      "execution_count": 41,
      "outputs": [
        {
          "output_type": "stream",
          "name": "stderr",
          "text": [
            "[nltk_data] Downloading package stopwords to /root/nltk_data...\n",
            "[nltk_data]   Unzipping corpora/stopwords.zip.\n",
            "[nltk_data] Downloading package wordnet to /root/nltk_data...\n"
          ]
        }
      ]
    },
    {
      "cell_type": "code",
      "source": [
        "#lets create an object of lemmatizer\n",
        "lm=WordNetLemmatizer()"
      ],
      "metadata": {
        "id": "wNIr1K7w-vJ-"
      },
      "execution_count": 42,
      "outputs": []
    },
    {
      "cell_type": "code",
      "source": [
        "def text_transformation(df_col):\n",
        "  corpus=[]\n",
        "  for i in df_col:\n",
        "    new_item=re.sub('[^a-zA-Z]',' ',str(i))\n",
        "    new_item=new_item.lower()\n",
        "    new_item=new_item.split()\n",
        "    new_item=[lm.lemmatize(j) for j in new_item if j not in set(stopwords.words('english'))]\n",
        "    corpus.append(' '.join(str(x) for x in new_item))\n",
        "  return corpus"
      ],
      "metadata": {
        "id": "KX0LFmFw7e9G"
      },
      "execution_count": 43,
      "outputs": []
    },
    {
      "cell_type": "code",
      "source": [
        "corpus=text_transformation(df3['clean_title'])"
      ],
      "metadata": {
        "id": "wZUa7j097fBw"
      },
      "execution_count": 46,
      "outputs": []
    },
    {
      "cell_type": "code",
      "source": [
        "import nltk\n",
        "nltk.download('omw-1.4')"
      ],
      "metadata": {
        "colab": {
          "base_uri": "https://localhost:8080/"
        },
        "id": "hqWc8L6F7fGW",
        "outputId": "f0fe6e0c-3775-4d83-c4cc-4bb6124f3bc7"
      },
      "execution_count": 45,
      "outputs": [
        {
          "output_type": "stream",
          "name": "stderr",
          "text": [
            "[nltk_data] Downloading package omw-1.4 to /root/nltk_data...\n"
          ]
        },
        {
          "output_type": "execute_result",
          "data": {
            "text/plain": [
              "True"
            ]
          },
          "metadata": {},
          "execution_count": 45
        }
      ]
    },
    {
      "cell_type": "code",
      "source": [
        "corpus"
      ],
      "metadata": {
        "colab": {
          "base_uri": "https://localhost:8080/"
        },
        "id": "GUQpHqbw7MZy",
        "outputId": "11353b61-c003-4b2a-9fc3-a8bb747b3777"
      },
      "execution_count": 47,
      "outputs": [
        {
          "output_type": "execute_result",
          "data": {
            "text/plain": [
              "['reminder optimus best people manager',\n",
              " 'start october till october would like invite visit booth quick catchup excited looking forward great conversation',\n",
              " 'congratulation triveni arun bhalerao long service award year',\n",
              " 'long service award year triveni arun bhalerao',\n",
              " 'tweet testing',\n",
              " 'tech live session istio service mesh',\n",
              " 'ensuring product co creation customer',\n",
              " 'tweet image size testing',\n",
              " 'long service award year shilpa jain',\n",
              " 'employee referral virtual drive may',\n",
              " 'wellness session summer health choice',\n",
              " 'marcus evans digital business recipe unlock unlimited growth potential',\n",
              " 'risk management strategy combat fraudsters',\n",
              " 'trend digital business conversation raj v executive chairman',\n",
              " 'world food day leave one behind',\n",
              " 'test tweet',\n",
              " 'yield forecasting planning platform leading food industry',\n",
              " 'ensuring product co creation customer',\n",
              " 'ensuring product co creation customer',\n",
              " 'ensuring product co creation customer',\n",
              " 'predict gptw ranking',\n",
              " 'altimetrik money',\n",
              " 'new benefit program college america education saving plan',\n",
              " 'altimetrik snowflake summit',\n",
              " 'test',\n",
              " 'test',\n",
              " 'time retailer shift omnichannel mindset',\n",
              " 'today altimeetrik meet first altimetrian colombian team',\n",
              " 'welcome aboard',\n",
              " 'altimetrik win bronze stevie award',\n",
              " 'tech live session istio service mesh',\n",
              " 'congratulation u',\n",
              " 'global tech live session nd aug',\n",
              " 'tst',\n",
              " 'global search new content',\n",
              " 'congratulation krishna muniramaiah time ascent top hr innovator',\n",
              " 'vote optimus best people manager',\n",
              " 'test',\n",
              " 'test',\n",
              " 'test',\n",
              " 'test',\n",
              " 'cuttingedge aimldriven solution leading automotive supplier',\n",
              " 'celebrating year altimetrik altimetrians india',\n",
              " 'test tweet image resolution',\n",
              " 'test tweet image resolution',\n",
              " 'exclusive employee referral drive june',\n",
              " 'think thursday disaster recovery cloud environment th jul',\n",
              " 'fun food tambola',\n",
              " 'altimetrik uruguay ranked th best place work woman uruguay gptw',\n",
              " 'digital revolution provide faster personalized healthcare',\n",
              " 'tweet test reaction card',\n",
              " 'search using filter',\n",
              " 'hiring woman career break',\n",
              " 'altimetrik dream force day',\n",
              " 'celebrate daan utsav child altimetrik',\n",
              " 'search using filter',\n",
              " 'search using filter',\n",
              " 'reload program statistical estimation training',\n",
              " 'hiring sre engineer',\n",
              " 'inauguration fully renovated office chennai',\n",
              " 'shishir saxena featured time india',\n",
              " 'meet three innovation disrupting future tech',\n",
              " 'look snowflake summit',\n",
              " 'security task devops team consider shifting left',\n",
              " 'day snowflake summit',\n",
              " 'looking woman tech rebound back work program',\n",
              " 'first lastmile data propel next phase supply chain transformation',\n",
              " 'salesforce practice marketing cloud training',\n",
              " 'international father day celebrating pillar strength',\n",
              " 'fulfilling journey altimetrik employee testimonial',\n",
              " 'qe test title',\n",
              " 'yield forecasting planning platform leading food industry',\n",
              " 'celebrating daan utsav altimetrik pune',\n",
              " 'congratulation krishna muniramaiah time ascent top hr innovator',\n",
              " 'vattikuti foundation k international robotic surgery video award sept',\n",
              " 'look back q hand meet',\n",
              " 'business win announcement western digital',\n",
              " 'look back q hand meet',\n",
              " 'here reap benefit digitalization banking trend',\n",
              " 'devops need better approach cloud networking',\n",
              " 'hyaluronic acid market demand nearly double sale pharmaceutical industry account rd overall sale future market insight inc',\n",
              " 'emerging technology ensure robust cyber security',\n",
              " 'g change public cloud know',\n",
              " 'five way agile thinking multiply value ux',\n",
              " 'realtime transaction monitoring next step compliance',\n",
              " 'great resignation reveals larger problem tech',\n",
              " 'need think differently digital transformation',\n",
              " 'test image resolution blurred vision',\n",
              " 'gptw certified',\n",
              " 'celebrate international father day u',\n",
              " 'altimetrik money',\n",
              " 'cpg retail industry practice altimetrik',\n",
              " 'altimetrik impact medical camp jaipur',\n",
              " 'deep linking content publishingunpublishing testing group',\n",
              " 'onestop competitor analysis dashboard gain sustainable business advantage',\n",
              " 'ensuring product co creation customer raj',\n",
              " 'extending daan utsav celebration altimetrik chennai office',\n",
              " 'envirocation pond restoration completed',\n",
              " 'test image resolution blurred vision',\n",
              " 'test',\n",
              " 'prevention sexual harassment posh',\n",
              " 'test',\n",
              " 'test tweet reflection',\n",
              " 'test image resolution blurred',\n",
              " 'product industry practice team turn strong',\n",
              " 'quality engineering automation',\n",
              " 'optimus best people manager vote',\n",
              " 'engage road experience',\n",
              " 'altimetrik rank th crain detroit business fast list',\n",
              " 'long service award sriram ramasamy',\n",
              " 'test',\n",
              " 'revision interview panel incentive',\n",
              " 'reward recognition stevie iba award diversity equity inclusion',\n",
              " 'digital leader raj vattikuti altimetrik executive chairman',\n",
              " 'digital twin accelerate healthcare transformation',\n",
              " 'garage present expert talk data th august',\n",
              " 'reward recognition stevie iba award diversity equity inclusion',\n",
              " 'altimetrik listed crains detroit business fast',\n",
              " 'altimetrik win bronze stevie award',\n",
              " 'dcult deep dive mlops st july',\n",
              " 'launching employee self service mobile app',\n",
              " 'test',\n",
              " 'digital enablement altimetrik type client enable digital business',\n",
              " 'sujatha rajesh rohini lingambhotla featured fintechly',\n",
              " 'employee referral dashboard september',\n",
              " 'optimus best people manager',\n",
              " 'business win oportun',\n",
              " 'altimetrik snowflake summit',\n",
              " 'launching new altimetrik intranet',\n",
              " 'long service award baskar kuppuswamy',\n",
              " 'global tech live session design thinking overview part',\n",
              " 'product platform engineering upskilling boot camp session',\n",
              " 'employee referral program',\n",
              " 'employee referral program',\n",
              " 'open mic ranga',\n",
              " 'complexity researcher idea improve care',\n",
              " 'think thursday applied iot ii th aug',\n",
              " 'wellness session giving gift second chance',\n",
              " 'learn craft weaving tale rakhi kapoor',\n",
              " 'long service award year arun prasath rajamohan',\n",
              " 'health camp child pune big thank',\n",
              " 'long service award year pradeep kumar reddy',\n",
              " 'certification program altimetrik employee experience',\n",
              " 'altimetrik rank th top software company',\n",
              " 'check digital leader finding faster profitable path exceptional growth',\n",
              " 'digital disruptor diary h',\n",
              " 'altimetrik poland blog embedded system solution commerce',\n",
              " 'altimetrik csr initiative ganamas hyderabad',\n",
              " 'altimetrik csr initiative ganamas hyderabad',\n",
              " 'altimetrik jaipur leadership meet greet session',\n",
              " 'wing voice matter pandemic effect gender violence',\n",
              " 'altimetrik uruguay ranked th best place work woman uruguay gptw',\n",
              " 'father day heart touching message altimetrians',\n",
              " 'share photograph place like work',\n",
              " 'sandy patel american society employer ase hr executive year',\n",
              " 'testing tweet',\n",
              " 'team join force deliver customer success',\n",
              " 'predict gptw ranking',\n",
              " 'good morning tweet testing',\n",
              " 'deep linking ensuring product co creation customer',\n",
              " 'dex console app test',\n",
              " 'bengaluru office consolidation rga tech park',\n",
              " 'point tribute ranga year journey altimetrik',\n",
              " 'think thursday disaster recovery cloud environment th jul',\n",
              " 'global tech live session sre automation improving ops efficiency communication jenkins',\n",
              " 'garage future ai june',\n",
              " 'engage road experience',\n",
              " 'hitting road conference',\n",
              " 'analytics cc reload program probability training',\n",
              " 'global search',\n",
              " 'world environment day',\n",
              " 'test',\n",
              " 'tweet image size testing',\n",
              " 'garage expert talk june rd',\n",
              " 'india workplace strategy',\n",
              " 'global tech live session quality engineering',\n",
              " 'tribute ranga year journey altimetrik',\n",
              " 'long service award rajendrakumar',\n",
              " 'think thursday practitioner introduction iot aws approach',\n",
              " 'summary salesforce marketing cloud technical bootcap series session',\n",
              " 'join voyage friday th july',\n",
              " 'salesforce marketing cloud bootcamp series session',\n",
              " 'employee referral program',\n",
              " 'digital enablement practice global tech live session june',\n",
              " 'congratulation long service award year vikrant alekar',\n",
              " 'think thursday architecting multitenant saas application',\n",
              " 'hiring woman career break',\n",
              " 'global tech live session system thinking agile product development',\n",
              " 'world mental health day oct remember take care',\n",
              " 'ideathon',\n",
              " 'community involvement engagement',\n",
              " 'test tweet show tweet channel',\n",
              " 'launch digital simplified digital leader',\n",
              " 'breakthebias one word time',\n",
              " 'gartner identifies three technology trend gaining traction banking investment service',\n",
              " 'sprint review retrospective hybrid work setting',\n",
              " 'xray search effective sourcing tool',\n",
              " 'growing internationally',\n",
              " 'searching code w detroit tech watch',\n",
              " 'test tweet channel immediately reflect',\n",
              " 'test tweet vibe channel',\n",
              " 'test tweet dex visible tweet channel',\n",
              " 'h',\n",
              " 'b',\n",
              " 'altimetrik expanded global footprint',\n",
              " 'voice priscilla cauchi',\n",
              " 'hitting road conference',\n",
              " 'congratulation sachin kothalkar receiving long service award year',\n",
              " 'business win oportun',\n",
              " 'pink october breast cancer awareness month',\n",
              " 'best people manager award altimetrik',\n",
              " 'deep linking time date displayed post',\n",
              " 'digital transformation need hour healthcare industry',\n",
              " 'asiapacific see fintech investment climb h despite drop global figure kpmg report',\n",
              " 'traditional idea innovation made simple',\n",
              " 'digital wallet push provisioning enlarge bank payment option',\n",
              " 'moving speed startup',\n",
              " 'longer fintech v bank fintech bank',\n",
              " 'harnessing power ai fight climate change achieve environmental sustainability',\n",
              " 'hiking towards world highest peak',\n",
              " 'employee referral dashboard jan sep',\n",
              " 'metaverse shape future automotive industry',\n",
              " 'employee referral program',\n",
              " 'here cloud computing drive future data analytics',\n",
              " 'pink october breast cancer awareness month',\n",
              " 'money matter share feedback',\n",
              " 'test tweet',\n",
              " 'garage future ai june',\n",
              " 'rupam lahkar digital disruptor innovation altimetrik',\n",
              " 'mind smash tech innovator unite',\n",
              " 'test',\n",
              " 'voice kishor ramachandra',\n",
              " 'analytics cc reload program probability training',\n",
              " 'devops world using sboms secure software supply chain',\n",
              " 'onestop competitor analysis dashboard gain sustainable business advantage',\n",
              " 'test',\n",
              " 'business win announcement wayfair inc',\n",
              " 'long service award year senthil',\n",
              " 'online mobile banking payment hit record high',\n",
              " 'agile team designfirst approach apis',\n",
              " 'digital maturity continues accelerate spread part company',\n",
              " 'garage future ai june',\n",
              " 'sdfdfaf',\n",
              " 'think thursday virtual altimetrik premiere league th jun',\n",
              " 'prevention sexual harassment posh',\n",
              " 'test mexico',\n",
              " 'pink october breast cancer awareness month',\n",
              " 'altimetrik impact medical camp vaniyambadi',\n",
              " 'get cyber security',\n",
              " 'healthcare pharma sector benefit integrating lowcode technology',\n",
              " 'celebrating daan utsav altimetrik pune',\n",
              " 'platform engineering different devops sre',\n",
              " 'vattikuti foundation k international robotic surgery video award september',\n",
              " 'analytics capability center reload program',\n",
              " 'cross country altimetrians meet',\n",
              " 'vote optimus best people manager',\n",
              " 'digital disruptor award h',\n",
              " 'altimetrik solution enable smart factory cloudbased planning simulator',\n",
              " 'inauguration chennai office raj may',\n",
              " 'virtual townhall raj ceo',\n",
              " 'takeaway future healthcare',\n",
              " 'hiring salesforce developer lead',\n",
              " 'global tech live session nd aug',\n",
              " 'altimetrik intern journey salesforce practice',\n",
              " 'inauguration chennai office raj',\n",
              " 'partner digital dragon accelerate digital business',\n",
              " 'hiking towards world highest peak',\n",
              " 'happy gptw certification nation day',\n",
              " 'vijay veerra featured cxo today',\n",
              " 'content publish raj vattikuti quoted economic time',\n",
              " 'reload program upskilling session statistic probability',\n",
              " 'employee referral drive th june st july',\n",
              " 'virtual hiring event th june',\n",
              " 'garage expert talk june rd',\n",
              " 'business win announcement wayfair inc',\n",
              " 'test qe',\n",
              " 'join u insightful think thursday session topic designing web accessibility',\n",
              " 'thank joining session presence participation made even lively fun would great take short survey let u know feedback',\n",
              " 'new qe ensuring product co creation customer',\n",
              " 'launch digital simplified digital leader',\n",
              " 'world food day leave one behind',\n",
              " 'global search',\n",
              " 'roll royce expensive',\n",
              " 'hello world',\n",
              " 'muthu',\n",
              " 'raj vattikuti entrepreneur year national award winner',\n",
              " 'best workplace woman',\n",
              " 'test',\n",
              " 'suraj',\n",
              " 'adad',\n",
              " 'fad',\n",
              " 'digital business key accelerate business outcome',\n",
              " '',\n",
              " '',\n",
              " 'hey',\n",
              " 'h',\n",
              " 'hsj',\n",
              " 'test',\n",
              " 'testing tweet',\n",
              " 'hey',\n",
              " 'high resolution image',\n",
              " 'testing without background',\n",
              " 'test',\n",
              " 'potrait',\n",
              " 'testing mobile device',\n",
              " 'test',\n",
              " 'muthu',\n",
              " '',\n",
              " '',\n",
              " '',\n",
              " 'ceo desk',\n",
              " 'appointment coo',\n",
              " 'learning altimetrik',\n",
              " 'global career architecture',\n",
              " '',\n",
              " 'virtual reality retail cpg company market size',\n",
              " 'soaring natural gas price ripple heavy industry supply chain',\n",
              " 'explained facebook whatsapp instagram went',\n",
              " 'quantum cryptography airfilled fiber optic cable transport unhackable key say researcher',\n",
              " 'covid permanently changed business strategy expert say',\n",
              " 'meeting suck make fun',\n",
              " 'digital superpower need thrive',\n",
              " 'yahoo built culture cybersecurity',\n",
              " 'guygjhgjhgjhgjhgjhgjhgjhgjhgjhgjhgjhgjgjhgjhgjhgjh',\n",
              " 'image',\n",
              " 'altimetrik transforming leading retailer phygital world',\n",
              " 'altimetrik demand management engine',\n",
              " 'congratulation',\n",
              " 'tweet',\n",
              " 'congratulation',\n",
              " 'kn',\n",
              " '',\n",
              " 'prism',\n",
              " 'launch prism',\n",
              " 'nm',\n",
              " 'award recognition',\n",
              " 'stride',\n",
              " 'business growth update',\n",
              " 'voice balaji',\n",
              " 'voice marcelo restuccia',\n",
              " 'voice mir taqeeulla',\n",
              " 'fmkf',\n",
              " 'dknfdkjdh',\n",
              " 'comment automation',\n",
              " 'comment automation',\n",
              " 'congratulation altimetrians',\n",
              " 'congratulation',\n",
              " 'congratulation winner',\n",
              " 'digital business',\n",
              " 'covid disrupted workforce supply chain',\n",
              " 'digital payment led rise buynowpaylater model',\n",
              " 'embeddable banking towards financial inclusion',\n",
              " 'must rebuild digital trust cyberinclusive future',\n",
              " 'multidimensional testing invehicle highspeed data network',\n",
              " 'destroying silo integrated data analytics platform',\n",
              " 'acknowledging application security clarity crisis',\n",
              " 'g important tech',\n",
              " 'five factor effective execution data science model',\n",
              " 'securing innovation devsecops culture',\n",
              " 'altimetrik growth story',\n",
              " 'voice alvaro callero',\n",
              " 'voice jeremy usher',\n",
              " 'voice aamitt parvatkar',\n",
              " 'voice minal sharma',\n",
              " 'appointment cfo',\n",
              " 'digital business future',\n",
              " 'voice sangram patil',\n",
              " 'voice alvaro castillo correa',\n",
              " 'voice abhirami meenakshisundaram',\n",
              " 'voice aravindkumar ravindran',\n",
              " 'voice priscila mu oz',\n",
              " 'voice prerana',\n",
              " 'banking blockchain',\n",
              " 'dataops future healthcare automation',\n",
              " 'spotlight life altimetrik',\n",
              " 'hear altimetrians say',\n",
              " 'scaling global supply chain pandemic',\n",
              " 'navigate supply chain crisis holiday',\n",
              " 'raj named big award business',\n",
              " 'altimetrik certified safe gold partner',\n",
              " 'business growth update putnam investment',\n",
              " 'inc magazine awarded altimetrik',\n",
              " 'global career architecture',\n",
              " 'learning altimetrik',\n",
              " 'soaring natural gas price ripple heavy industry supply chain',\n",
              " 'happy holiday prosperous new year',\n",
              " 'appointment head talent acquisition north america',\n",
              " 'tip improving email privacy security',\n",
              " 'log shell vulnerability risk ot environment',\n",
              " 'cryptocurrencies cyber threat vulnerability rise',\n",
              " 'everything must know secops',\n",
              " 'agile asset digital agility evolution banking',\n",
              " 'embracing hybrid world',\n",
              " 'top artificial intelligence problem',\n",
              " 'toptwo data engineering challenge',\n",
              " 'synthetic data might impact ai',\n",
              " 'ai help therapist make therapy better',\n",
              " 'ai trend real hype',\n",
              " 'global metaverse market expected cross billion',\n",
              " 'cloudy future main trend set rocket cloud computing',\n",
              " 'better cloud stock snowflake v datadog',\n",
              " 'decoding technology trend shaping consumer experience retail',\n",
              " 'pivotal year altimetrik',\n",
              " 'voice lakshmeesh',\n",
              " 'voice magdalena',\n",
              " 'voice radek',\n",
              " 'voice sakthivel',\n",
              " 'voice victor',\n",
              " 'new year employee message ranga r kanapathy',\n",
              " 'populating tweet heading automation',\n",
              " 'populating tweet heading automation',\n",
              " 'populating tweet heading automation',\n",
              " 'populating tweet heading automation',\n",
              " 'populating tweet heading automation',\n",
              " 'populating tweet heading automation',\n",
              " 'populating tweet heading automation',\n",
              " 'tweet testing',\n",
              " 'identity access management help digital transformation initiative',\n",
              " 'looking beyond buzzword digital transformation',\n",
              " 'time unlock digital power redefine health',\n",
              " 'resale solution supply chain woe christmas',\n",
              " 'fintech harbinger india emerging digital economy',\n",
              " 'indian bank refines focus digital transformation cto',\n",
              " 'fintech security considering authentication across finance',\n",
              " 'future pharma cdmos shaping holistic industry',\n",
              " 'role ai pharma sale',\n",
              " 'g connectivity drive value car postsale',\n",
              " 'application apps new banking era',\n",
              " 'buynowpaylater model changing consumer shopping habit india',\n",
              " 'special meetup tensorflow user group tfug altimetrik chennai',\n",
              " 'business growth update citi group commercial card division',\n",
              " 'happy new year',\n",
              " 'congratulation altimetrik ranked gptw india',\n",
              " 'innovation altimetrik title',\n",
              " 'certified mar feb',\n",
              " 'salesforce',\n",
              " 'altimetrik growth story',\n",
              " 'digital business',\n",
              " 'raj vattikuti chairman',\n",
              " 'voice balaji test title length displayed test title length displayed test title length displayed test title length displayed test title length displayed',\n",
              " 'raj named executive year big award business',\n",
              " 'populating tweet heading automation',\n",
              " 'ensuring product co creation customer',\n",
              " 'ensuring product co creation customer',\n",
              " 'ensuring product co creation customer',\n",
              " 'innovation big idea',\n",
              " 'digital business pathway growth',\n",
              " 'take great pride becoming gold partner scaled agile inc',\n",
              " 'congratulation altimetrik ranked gptw india',\n",
              " 'newcongratulations altimetrik ranked gptw india',\n",
              " 'emergence digital business',\n",
              " 'prism big step forward redefining employee experience',\n",
              " 'altimetrik great place work',\n",
              " 'altimetrik top best place work itbpm category',\n",
              " 'raj named executive year big award business',\n",
              " 'altimetrik growth story',\n",
              " 'ensuring product co creation customer',\n",
              " 'ensuring product co creation customer',\n",
              " 'ensuring product co creation customer',\n",
              " 'ensuring product co creation customer',\n",
              " 'ensuring product co creation customer',\n",
              " 'ensuring product co creation customer',\n",
              " 'altimetrik growth',\n",
              " 'product platform engineering',\n",
              " 'product platform engineering',\n",
              " 'product platform engineering',\n",
              " 'product platform engineering',\n",
              " 'product platform engineering',\n",
              " 'product platform engineering',\n",
              " 'populating tweet heading automation',\n",
              " 'populating tweet heading automation null',\n",
              " 'populating tweet heading automation null',\n",
              " 'populating tweet heading automation null',\n",
              " 'business growth update central bu',\n",
              " 'business growth update fis automatenext program',\n",
              " 'welcoming nd batch rebound back work program',\n",
              " 'great place work survey',\n",
              " 'populating tweet heading automation null',\n",
              " 'gptw employee survey',\n",
              " 'testing',\n",
              " 'raj named executive year big award business',\n",
              " 'populating tweet heading automation',\n",
              " 'altimetrik certified safe gold partner',\n",
              " 'inc magazine awarded altimetrik',\n",
              " 'altimetriks global achievement',\n",
              " 'altimetrik growth story',\n",
              " 'hear altimetrians',\n",
              " 'spotlight life altimetrik',\n",
              " 'altimetrik top best place work itbpm category',\n",
              " 'big award business',\n",
              " 'altimetrik appoints noel samuel',\n",
              " 'covid disrupted workforce supply chain',\n",
              " 'certified',\n",
              " 'certified',\n",
              " 'workfromhome implementation',\n",
              " 'inc best business',\n",
              " 'ranking',\n",
              " 'raj vattikuti chairman',\n",
              " 'raj sundaresan chief executive officer',\n",
              " 'henk vlietstra chief operating officer',\n",
              " 'noel samuel chief financial officer',\n",
              " 'jeffrey fleischman chief marketing officer',\n",
              " 'voice jacob evan smith',\n",
              " 'voice marcelo restuccia',\n",
              " 'voice priscilla cauchi',\n",
              " 'voice priscila mu oz',\n",
              " 'voice magdalena',\n",
              " 'jgwjwfnsgnsgnsgmgmegnsgnsgnsgndmehnrhmdhmdddhmdhmr',\n",
              " 'teta',\n",
              " 'test',\n",
              " 'u',\n",
              " 'populating tweet heading automation null',\n",
              " 'pillar successful digital transformation',\n",
              " 'populating tweet heading automation',\n",
              " 'g',\n",
              " 'test',\n",
              " 'anil somani chief transformation office u west',\n",
              " 'uday deo chief transformation officer u central',\n",
              " 'mohammed farooqui chief transformation officer u east',\n",
              " 'bheem adavikolanu chief transformation officer uk ireland europe',\n",
              " 'ranga kanapathy head apac global delivery india technology centre',\n",
              " 'invisible vector change watch',\n",
              " 'tech may mostly white male thanks de thats change',\n",
              " 'single source truth vital datadominated world',\n",
              " 'changing consumer behaviour covid era new opportunity bank',\n",
              " 'security issue watch',\n",
              " 'voice mir taqeeulla',\n",
              " 'voice alvaro castillo correa',\n",
              " 'voice aravindkumar ravindran',\n",
              " 'voice aamitt parvatkar',\n",
              " 'voice abhirami meenakshisundaram',\n",
              " 'excited launch digital employee experience platform',\n",
              " 'bootcamp attendee became new altimetrians',\n",
              " '',\n",
              " '',\n",
              " 'populating tweet heading automation null',\n",
              " 'populating tweet heading automation null',\n",
              " 'value nfts digital collectible exciting us',\n",
              " 'bias ai finding fixing anomaly machine learning algorithm',\n",
              " 'actionable step software developer take',\n",
              " 'discover eventdriven architecture eda help get unstuck set scale',\n",
              " 'mind smash brightest tech brain unite',\n",
              " 'migrating cloud platform scalable solution',\n",
              " 'single source truth vital data dominated world',\n",
              " 'google secretly leap headset war starline hyperrealistic tech',\n",
              " 'big data untangling data terminology pursuit digital success',\n",
              " 'session based testing sbt',\n",
              " 'financial superapps expanding vista consumer banking digital platform',\n",
              " 'demand management past future',\n",
              " 'digital technology impacted nonprofit sector',\n",
              " 'digital business poised marketing success',\n",
              " 'breaking illusion physical store longer important',\n",
              " 'digital business drive continuous growth',\n",
              " 'digital business unlimited opportunity',\n",
              " 'altimetrik fun working home',\n",
              " 'karnataka rajyotsava celebration',\n",
              " 'populating tweet heading automation',\n",
              " 'populating tweet heading automation null',\n",
              " 'populating tweet heading automation null',\n",
              " 'populating tweet heading automation',\n",
              " 'make altimetrik great place work',\n",
              " 'practitioner ideathon',\n",
              " 'transforming leading retailer phygital world',\n",
              " 'demand management engine get better insight demand',\n",
              " 'work altimetrik glimpse',\n",
              " 'populating tweet heading automation',\n",
              " 'populating tweet heading automation',\n",
              " 'manuel vidal head uruguay technology center',\n",
              " 'jarek wawro head engineering poland technology center',\n",
              " 'omar arana head engineering mexico technology center',\n",
              " 'ranked software report',\n",
              " 'certified gold partner',\n",
              " 'omnichannel experience design',\n",
              " 'product platform engineering',\n",
              " 'agile devsecops cloud engineering',\n",
              " 'quality engineering automation',\n",
              " 'data engineering advanced analytics',\n",
              " 'testing',\n",
              " 'testing working fine',\n",
              " 'testing',\n",
              " 'salesforce team aws directtoconsumer streaming medium solution',\n",
              " 'congratulation nature sweet team',\n",
              " 'altimetrik ranked software report top software company',\n",
              " 'unlocking new strategy innovation using first principle',\n",
              " 'populating tweet heading automation',\n",
              " 'populating tweet heading automation',\n",
              " 'reflection live prism set goal',\n",
              " 'altimetrik virtual premier league',\n",
              " 'open mic ranga st session',\n",
              " 'reflection set goal prism',\n",
              " 'sample reflection set goal prism',\n",
              " 'sample reflection set goal prism',\n",
              " 'welcome new joiner february',\n",
              " 'populating tweet heading automation',\n",
              " 'altimetrik let grow together',\n",
              " 'altimetrik let grow together',\n",
              " 'digital business future business growth',\n",
              " 'excited participate gptw survey third consecutive year',\n",
              " 'situation ukraine escalated significantly past hour monitoring situation closely immediate concern safety ukrainian employee family',\n",
              " 'celebrating growth journey',\n",
              " 'appointment global head talent management michel deschapelles',\n",
              " 'wing charter',\n",
              " 'test',\n",
              " 'celebrating growth journey',\n",
              " 'talent acquisition initiative update',\n",
              " 'ukraine update',\n",
              " 'practitioner ideathon winner speak',\n",
              " 'practitioner ideathon winner speak',\n",
              " 'dean wampler noted author software developer sharing thought huge volume data great reason embrace functional programming',\n",
              " 'congratulation great place workcertified th time row',\n",
              " 'congratulation great place workcertified th time row',\n",
              " 'congratulation great place workcertified th time row',\n",
              " 'business growth update bny mellon pershing business unit',\n",
              " 'gptw certified',\n",
              " 'altimetrik great place workcertified th time row',\n",
              " 'reflection module live prism get started goal setting year',\n",
              " 'milestone year company many way testament dedication altimetrians',\n",
              " 'launch ptaas penetration testing service',\n",
              " 'launch ptaas penetration testing service',\n",
              " 'citi account strong india',\n",
              " 'congratulation altimetrik ranked gptw india',\n",
              " 'innovate inspire',\n",
              " 'help ukraine',\n",
              " 'altimetrik impact grant allocation',\n",
              " 'international woman day let celebrate breakthebias',\n",
              " 'breakthebias iwd',\n",
              " 'help ukraine',\n",
              " 'dbxhx',\n",
              " 'better api testing consumerdriven contract using pact',\n",
              " 'glad kickedoff first monthly open house session titled open mic ranga february',\n",
              " 'arguably company best year based performance growth',\n",
              " 'mind smash tech innovator unite virtual',\n",
              " 'citi account strong india',\n",
              " 'extremely happy share strategic win bny mellon pershing business unit',\n",
              " 'first year half company mexico region',\n",
              " 'reliability value add client quality product innovation defines u',\n",
              " 'congratulation big win divhersity award altimetrik india pvt ltd',\n",
              " 'congratulation big win divhersity award',\n",
              " 'unlocking new strategy innovation using first principle',\n",
              " 'voice radek',\n",
              " 'fddffd',\n",
              " 'woman ti',\n",
              " 'hi altimetrians march started time enjoy dex platform mobile waiting',\n",
              " 'people trust deepfake face generated ai real one study find',\n",
              " 'medium coverage altimetrik inc',\n",
              " 'first principle thinking drive digital business innovation',\n",
              " 'breakthebias one word time',\n",
              " 'speaking geographically dispersed team west grew new team member',\n",
              " 'truly excited announce citi account reached milestone altimetrians india today',\n",
              " 'ubuntu sale success',\n",
              " 'cio role flux business embrace tech',\n",
              " 'voice sakthivel',\n",
              " 'launching renewed global instagram page',\n",
              " 'pleased announce launch altimetrik renewed instagram handle altimetrikofficial',\n",
              " 'winner divhersity award',\n",
              " 'write test case react application',\n",
              " 'security issue watch',\n",
              " 'launching renewed global instagram page',\n",
              " 'divhersity award altimetrik india',\n",
              " 'test',\n",
              " 'test',\n",
              " 'michel deschapelles global head talent management',\n",
              " 'opportunity tech company seize',\n",
              " 'significant trend shaping supply chain operation beyond',\n",
              " 'talent acquisition organisation structure update',\n",
              " 'business win announcement gosite',\n",
              " 'talent acquisition organisation structure update',\n",
              " 'glad announce new business win gosite saas based startup headquartered san diego california',\n",
              " 'pleased announce recent business expansion citi commercial bank division',\n",
              " 'business growth update citi commercial bank division',\n",
              " 'sxsw virtual career fair',\n",
              " 'business growth update citi commercial bank division',\n",
              " 'business growth update citi commercial bank division',\n",
              " 'fashion embrace metaverse wardrobe become digital',\n",
              " 'hybrid cloud save money predict hybrid cloud cost',\n",
              " 'ebook',\n",
              " 'ebookdup',\n",
              " 'ebookdup',\n",
              " 'ebookdup',\n",
              " 'ebookdup',\n",
              " 'ebookdup',\n",
              " 'strong focus product engineering work progressing domain gosite ramping globally scrum team uruguay mexico',\n",
              " 'part business expansion citi commercial bank division engaged commercial bank modernization building commercial bank gateway building salesforce compass platform',\n",
              " 'company multicloud destiny conventional analytics keep',\n",
              " 'bank payment optimised using ai idc',\n",
              " 'marcus evans digital business recipe unlock unlimited growth potential',\n",
              " 'medium coverage jeffrey fleischman authority magazine',\n",
              " 'marcus evans digital business recipe unlock unlimited growth potential',\n",
              " 'altimetrik highly expanding india',\n",
              " 'jessitron talk philosophy domaindriven design',\n",
              " 'deepsea phishing defend attack',\n",
              " 'deepsea phishing defend attack read httpswwwcxotodaycomcornerofficedeepseaphishinghowtodefendagainstattacks',\n",
              " 'deepsea phishing defend attack',\n",
              " 'company moving zero trust model cyber security',\n",
              " 'medium coverage nayan naidu cso forum enterprise world',\n",
              " 'voice lakshmeesh',\n",
              " 'voice employee jeremy usher',\n",
              " 'big win divhersity award altimetrik india pvt ltd',\n",
              " 'cio starting become strategic partner advisor business unit',\n",
              " 'great start year continue expand offering global business market enable business achieve digital business roadmaps',\n",
              " 'medium coverage aladdin elston cio axis express computer',\n",
              " 'business win update defi devs',\n",
              " 'business win update defi devs',\n",
              " 'trend nocode devops orchestration boom',\n",
              " 'penetration testing service acquire world class security want',\n",
              " 'great reckoning collaboration reimagined consumer good industry',\n",
              " 'medium coverage jyoti chaudhary tech panda',\n",
              " 'medium coverage arun kumar indian retailer',\n",
              " 'medium coverage aladdin elston cio axis express computer',\n",
              " 'hiring india excellent trajectory',\n",
              " 'facilitate maximum engagement indian talent planning setup hybrid model base satellite office',\n",
              " 'medium coverage aladdin elston cio axis express computer',\n",
              " 'machine learning model best',\n",
              " 'aladdin elstons blog cio axis express computer',\n",
              " 'growth testament client value working altimetrik',\n",
              " 'happy share inked engagement defi devs lead community developer accumulate',\n",
              " 'business benefit agile networking approach',\n",
              " 'great reckoning collaboration reimagined consumer good industry',\n",
              " 'doubling pr campaign building brand presence uk europe region',\n",
              " 'altimetrians poland ukraine year actually grew mature site',\n",
              " 'wall street journal article innovation',\n",
              " 'woman tech pushing glass ceiling',\n",
              " 'brand incorporating sustainability factor supply chain',\n",
              " 'wall street journal article innovation',\n",
              " 'voice altimetrian prerana',\n",
              " 'agile consumer product testing environmentally friendly choice',\n",
              " 'top devops tool meeting pressure faster delivery',\n",
              " 'making online retail profitable',\n",
              " 'medium coverage dean chin enterprise world',\n",
              " 'retail brand soon recognise awash data lack ability derive insight',\n",
              " 'u central bu focused expanding presence clientele',\n",
              " 'proud strategic partnership scaled agile inc recognized gold partner',\n",
              " 'medium coverage dean chin enterprise world',\n",
              " 'rebound program mudapally sandhya rani staff engineer',\n",
              " 'rebound program mudapally sandhya rani staff engineer',\n",
              " 'conversation breakthebias international woman day',\n",
              " 'medium coverage shishir saxena cxotoday',\n",
              " 'medium coverage ranga kanapathy eletimes',\n",
              " 'congratulation altimetrik uruguay ranked company sector overall great place work uruguay',\n",
              " 'great pride share addition new client invoice cloud part west business unit business expansion effort',\n",
              " 'data opportunity cpg fresh pathway new product development',\n",
              " 'business win update invoice cloud',\n",
              " 'rebound program bindu bharathi yenugu staff engineer',\n",
              " 'rebound program bindu bharathi yenugu staff engineer',\n",
              " 'business win update invoice cloud',\n",
              " 'changing consumer behaviour covid era new opportunity bank',\n",
              " 'believe flexible work model best suited post pandemic world',\n",
              " 'successful implementation human resource information system bestinclass infrastructure place across business support growth expansion',\n",
              " 'great place work make u feel proud',\n",
              " 'top devops tool meeting pressure faster delivery',\n",
              " 'learning altimetrik',\n",
              " 'learning one avenue enable progress career partnership udemy proved highly beneficial',\n",
              " 'tsl speaks',\n",
              " 'business boost roi agile ai',\n",
              " 'say hi hybrid',\n",
              " 'ranked',\n",
              " 'dean chin byline published enterprise world website',\n",
              " 'learning altimetrik',\n",
              " 'hiring india excellent trajectory',\n",
              " 'medium coverage krishna muniramaiah people matter',\n",
              " 'official yet time come end workfromhome',\n",
              " 'cloud sustainability migration isnt efficiency anymore',\n",
              " 'im truly excited announce addition new client transaction data system tds amazon robotics part growth journey',\n",
              " 'dnewtech collider detroit virtual inperson',\n",
              " 'official yet time come end workfromhome',\n",
              " 'happy part dex',\n",
              " 'altimetrik poland partner tech rescue',\n",
              " 'happy announce altimetrik poland partner next edition woman techstyle poland th march',\n",
              " 'ready set goal',\n",
              " 'covid case dropping drastically life gradually returning back normal took opportunity visit connect team across base location',\n",
              " 'cross country altimetrians meet',\n",
              " 'award recognition rajesh ananth excellence customer service award',\n",
              " 'bug bounty initiative improve healthcare security',\n",
              " 'data center infrastructure spending still growing cloud provider keep buying',\n",
              " 'rajesh ananth excellence customer service award',\n",
              " 'glad announce incubation blockchain crypto defi practice work new client space',\n",
              " 'altimetrik recognised best organisation woman',\n",
              " 'six major factor shape global healthcare landscape',\n",
              " 'devops revolutionizing embedded development',\n",
              " 'blockchain crypto defi practice incubation',\n",
              " 'altimetrik recognised best organisation woman',\n",
              " 'altimetrik recognised best organisation woman',\n",
              " 'altimetrik recognised best organisation woman',\n",
              " 'henk vlietstra coo altimetrik visited india part leadership connect chennai bengaluru',\n",
              " 'supply chain crisis get lot worse',\n",
              " 'fintech engineer bringing modern technology legacy industry',\n",
              " 'medium coverage balaji santhana krishnan cxo today',\n",
              " 'festive referral program apr till apr',\n",
              " 'medium coverage balaji santhana krishnan cxo today',\n",
              " 'survey hybrid working model',\n",
              " 'menthership',\n",
              " 'avpl season winner announcement',\n",
              " 'expect datacenter cloud quantum computing',\n",
              " 'bigtech moving fintech territory',\n",
              " 'altimetrik festive referral program',\n",
              " 'quick look hybrid working model',\n",
              " 'quick look hybrid working model',\n",
              " 'design sample',\n",
              " 'design sample',\n",
              " 'sample',\n",
              " 'design sample',\n",
              " 'vapl season quick update',\n",
              " 'investment digital business increase productivity',\n",
              " 'agile intelligent green',\n",
              " 'investment digital business increase productivity',\n",
              " 'altimetrik one company covered article inc magazine',\n",
              " 'altimetrik recognised best organisation woman',\n",
              " 'big win divhersity award altimetrik india pvt ltd',\n",
              " 'voice minal sharma',\n",
              " 'altimetrik certified safe gold partner',\n",
              " 'important updated survey hybrid working model',\n",
              " 'agile intelligent green',\n",
              " 'aladdin interviewed ele time article',\n",
              " 'metamorphosis warfare cyber attack',\n",
              " 'question ask building customer experience strategy',\n",
              " 'altimetrik recognised best organisation woman',\n",
              " 'best organisation woman',\n",
              " 'aladdin elston head information security altimetrik interviewed ele time article',\n",
              " 'aladdin interviewed ele time article',\n",
              " 'business win announcement juno',\n",
              " 'happy announce new business win juno real estate startup radically rethinking housing apartment get designed built developed',\n",
              " 'medium coverage aladdin elston digitaltech medium',\n",
              " 'riskbased security keep business grounded migrating cloud',\n",
              " 'building ecommerce strategy serve digitalfirst b b buyer',\n",
              " 'voice jacob evan smith',\n",
              " 'digital business solution achieve effective business outcome speed without disrupting current business',\n",
              " 'business win announcement juno',\n",
              " 'today experience important product service',\n",
              " 'altimetrik polska building community growth',\n",
              " 'altimetrik poland operation update',\n",
              " 'india uruguay',\n",
              " 'altimetrik dex gateway world altimetrik',\n",
              " 'altimetrik dex aimed gateway world altimetrik reflects people culture success innovation',\n",
              " 'pharmaceutical company adopt technological intervention counter counterfeiting',\n",
              " 'think speak listen club testimonial',\n",
              " 'devops team play big role tackling metaverse challenge',\n",
              " 'altimetrik dex gateway world altimetrik',\n",
              " 'strongly believe duty modern leader stand right moral compass value also dear altimetrik',\n",
              " 'leadership promotion update ceo desk',\n",
              " 'stand strong commitment make altimetrik career destination nurture recognize celebrate talent',\n",
              " 'leadership promotion update ceo desk',\n",
              " 'insight emerging prevalence software vulnerability',\n",
              " 'overcoming supply chain challenge ai large manufacturer need know',\n",
              " 'becoming digital business survive pandemic',\n",
              " 'wing menthership ready',\n",
              " 'investment company make drive sustainable growth organizational agility create value',\n",
              " 'agile auto industry workflow require storage memory',\n",
              " 'ubuntu sale success podcast series',\n",
              " 'congratulation proud winner employee referral jackpot',\n",
              " 'rajesh ananth win frontline pro year award',\n",
              " 'pleased announce rajesh ananth engagement lead winner frontline pro year category',\n",
              " 'digital disruptor award h',\n",
              " 'businessfintech risk digital bank exposed imf blog',\n",
              " 'complex layer cloud computing sustainability',\n",
              " 'rajesh ananth win frontline pro year award',\n",
              " 'blockchain poised revolutionise lending fintech',\n",
              " 'glad announce welcomed amol sandip india office montevideo uruguay',\n",
              " 'wing menthership ready unleash true potential',\n",
              " 'rebound batch congratulation welcome onboard',\n",
              " 'altimetrik recognized preferred partner lpl financial',\n",
              " 'comparing devops privacyops aiops role organization',\n",
              " 'altimetrik recognized preferred partner lpl financial',\n",
              " 'award recognition rajesh ananth business intelligence group customer service award',\n",
              " 'award recognition carol may excellence customer service award',\n",
              " 'raj vattikutis blog featured cxo today',\n",
              " 'great pleasure announce onboarding completion rebound batch back work program woman',\n",
              " 'unwrapping gratitude',\n",
              " 'bank need create national digital presence',\n",
              " 'low code platform bolster machine learning project',\n",
              " 'back work program woman rebound batch',\n",
              " 'raj vattikutis blog featured cxo today',\n",
              " 'raj vattikutis blog featured cxo today',\n",
              " 'mind smash tech innovator unite virtual',\n",
              " 'mind smash tech innovator unite virtual',\n",
              " 'spring reboot detroit tech happy hour success',\n",
              " 'extremely happy share recognized preferred partner lpl financial',\n",
              " 'beginner guide cloud computing migrating cloud platform',\n",
              " 'digital transformation social good',\n",
              " 'detroit tech watch week debugging save hour tla',\n",
              " 'thanking week unwrapping gratitude',\n",
              " 'voice',\n",
              " 'quickly test scale enterprise apps eventdriven architecture',\n",
              " 'festive referral program final update',\n",
              " 'three way ai impacting automobile industry',\n",
              " 'beginner guide cloud computing migrating cloud platform',\n",
              " 'gptw certified',\n",
              " 'business win announcement stepladder holding',\n",
              " 'voice',\n",
              " 'glad share addition new client stepladder holding private equity holding company technology startup',\n",
              " 'delighted share altimetrik u certified great place work rd consecutive year',\n",
              " 'common cloud computing security issue challenge',\n",
              " 'entrepreneur capitalize digital healthcare revolution',\n",
              " 'digital disruptor diary',\n",
              " 'medium coverage nayan naidu cxotoday',\n",
              " 'medium coverage jayaprakash nair new stack',\n",
              " 'key secure code reducing risk software team',\n",
              " 'digital disruptor h winner',\n",
              " 'vapl new feature launch dream team edit',\n",
              " 'vapl new feature launch dream team edit',\n",
              " 'key secure code reducing risk software team',\n",
              " 'thanking week unwrapping gratitude',\n",
              " 'nayan naidu cxotoday medium coverage',\n",
              " 'jayaprakash nair featured new stack medium coverage',\n",
              " 'digital transformation social good',\n",
              " 'quickly test scale enterprise apps eventdriven architecture',\n",
              " 'gptw certified',\n",
              " 'join wing water cooler conversation relationship changed technology good bad',\n",
              " 'voice global employee opinion survey',\n",
              " 'data job hot get one',\n",
              " 'aiops future',\n",
              " 'internet thing innovation among pharmaceutical industry company dropped last quarter',\n",
              " 'voice global employee opinion survey',\n",
              " 'wing water cooler conversation th april',\n",
              " 'altimetrik wing equity diversity inclusion',\n",
              " 'altimetrik wing equity diversity inclusion',\n",
              " 'cyber security become matter national security',\n",
              " 'way innovative retail brand futureproofing company',\n",
              " 'agile trending way agile make work better',\n",
              " 'altimetrik wing equity diversity inclusion',\n",
              " 'think speak listen club',\n",
              " 'business win announcement gigzter',\n",
              " 'glad announce partnership new client gigzter',\n",
              " 'crypto move herald era blockchain buyout',\n",
              " 'digitisation transformed forex market',\n",
              " 'change speed innovation',\n",
              " 'quantum computing key protect environment',\n",
              " 'quick look altimetrik uruguay',\n",
              " 'showcase technical genius chandigarh',\n",
              " 'business win announcement gigzter',\n",
              " 'bhaskar mulakaluri head talent acquisition north america',\n",
              " 'advantage cloud computing ai banking',\n",
              " 'five way digitalized data improves supply chain planning agile responsiveness',\n",
              " 'reason business need digital payment',\n",
              " 'business steer clear digital strategy mistake',\n",
              " 'advantage cloud computing ai banking',\n",
              " 'digital disruptor award h',\n",
              " 'think thursday behaviordriven development bdd cucumber',\n",
              " 'srijan west winner',\n",
              " 'security visibility supporting essential eight cyber mitigation strategy',\n",
              " 'top business need driving spending today',\n",
              " 'srijan west winner',\n",
              " 'analytics capability center reload program',\n",
              " 'glad announce altimetrik analytics capability center cc embarked large scale organizational upskilling initiative reload',\n",
              " 'business win announcement blue sky financial',\n",
              " 'tribute mother working altimetrik',\n",
              " 'mind smash tech innovator unite virtual',\n",
              " 'mind smash tech innovator unite virtual',\n",
              " 'tech help car maker cut waste',\n",
              " 'datacentric architecture must business ecosystem',\n",
              " 'award recognition jeffrey fleischman marketing executive year american business award',\n",
              " 'award recognition jeffrey fleischman marketing executive year american business award',\n",
              " 'medium coverage pen testing service hackernoon',\n",
              " 'medium coverage pen testing service hackernoon',\n",
              " 'tribute mother working altimetrik',\n",
              " 'build career altimetrik mexico',\n",
              " 'build career altimetrik mexico',\n",
              " 'risk management strategy combat fraudsters',\n",
              " 'happy announce new business win blue sky financial discount mortgage brokerage us digital efficiency save customer money',\n",
              " 'top threat detection strategy fintech company',\n",
              " 'award recognition jeffrey fleischman marketing executive year american business award',\n",
              " 'member spotlight adrian laurenzi jetsetting startup ceo',\n",
              " 'yndnsgjskye',\n",
              " 'member spotlight adrian laurenzi jetsetting startup ceo',\n",
              " 'takeaway future healthcare',\n",
              " 'thrilled announce jeff conferred bronze stevie award marketing executive year american business award held u last week',\n",
              " 'cloud computing power world financial exchange',\n",
              " 'test tweet',\n",
              " 'test tweet srinivas h',\n",
              " 'test tweet android',\n",
              " 'milestone linkedin follower surpass k',\n",
              " 'tweet',\n",
              " 'tweet sprinter',\n",
              " 'tweet vibe channel test',\n",
              " 'sprinter tweet',\n",
              " 'sprinter tweet',\n",
              " 'tweet sprinter',\n",
              " 'tweet sprinter',\n",
              " 'tweet sprinter',\n",
              " 'exclusive session agile way working',\n",
              " 'innovate inspire',\n",
              " 'innovate inspire',\n",
              " 'collider back owasp top part ii',\n",
              " 'key secure code pt ii reducing risk software team',\n",
              " 'long service award year suraj bhojkar',\n",
              " 'inauguration chennai office raj may',\n",
              " 'come part chennai office inauguration presence raj ceo altimetrik',\n",
              " 'milestone linkedin follower surpass k',\n",
              " 'take break mental health',\n",
              " 'employee referral virtual drive may',\n",
              " 'future trend mobility transportation',\n",
              " 'key pricing power recession loom',\n",
              " 'intelligence unified data governance age multicloud',\n",
              " 'creating defined data centric space ai data analytics']"
            ]
          },
          "metadata": {},
          "execution_count": 47
        }
      ]
    },
    {
      "cell_type": "code",
      "source": [
        "from sklearn.feature_extraction.text import TfidfVectorizer"
      ],
      "metadata": {
        "id": "kXoK32V37MeM"
      },
      "execution_count": 48,
      "outputs": []
    },
    {
      "cell_type": "code",
      "source": [
        "vec=TfidfVectorizer()"
      ],
      "metadata": {
        "id": "b4zcXLVi-_ZD"
      },
      "execution_count": 49,
      "outputs": []
    },
    {
      "cell_type": "code",
      "source": [
        "corpus_matrix=vec.fit_transform(corpus)"
      ],
      "metadata": {
        "id": "7LvK04ZP-_dV"
      },
      "execution_count": 53,
      "outputs": []
    },
    {
      "cell_type": "code",
      "source": [
        "corpus_matrix"
      ],
      "metadata": {
        "colab": {
          "base_uri": "https://localhost:8080/"
        },
        "id": "y6OZUGrk-_hu",
        "outputId": "0702b7c9-fe28-4a5e-e33d-00c4b0899262"
      },
      "execution_count": 54,
      "outputs": [
        {
          "output_type": "execute_result",
          "data": {
            "text/plain": [
              "<993x1545 sparse matrix of type '<class 'numpy.float64'>'\n",
              "\twith 4962 stored elements in Compressed Sparse Row format>"
            ]
          },
          "metadata": {},
          "execution_count": 54
        }
      ]
    },
    {
      "cell_type": "code",
      "source": [
        "print(\"Feature Names n\",vec.get_feature_names_out())"
      ],
      "metadata": {
        "colab": {
          "base_uri": "https://localhost:8080/"
        },
        "id": "AxBpyATr7Mii",
        "outputId": "f99f6b3c-5fff-43fc-e7e4-96f6a6bb6a41"
      },
      "execution_count": 52,
      "outputs": [
        {
          "output_type": "stream",
          "name": "stdout",
          "text": [
            "Feature Names n ['aamitt' 'abhirami' 'ability' ... 'yield' 'yndnsgjskye' 'zero']\n"
          ]
        }
      ]
    },
    {
      "cell_type": "code",
      "source": [
        "print(\"Sparse Matrix n\",corpus_matrix.shape,\"n\",corpus_matrix.toarray())"
      ],
      "metadata": {
        "colab": {
          "base_uri": "https://localhost:8080/"
        },
        "id": "k9g0Ldpj_sSw",
        "outputId": "f84396bf-2db2-4e56-b9b2-bb1e9411b10b"
      },
      "execution_count": 55,
      "outputs": [
        {
          "output_type": "stream",
          "name": "stdout",
          "text": [
            "Sparse Matrix n (993, 1545) n [[0. 0. 0. ... 0. 0. 0.]\n",
            " [0. 0. 0. ... 0. 0. 0.]\n",
            " [0. 0. 0. ... 0. 0. 0.]\n",
            " ...\n",
            " [0. 0. 0. ... 0. 0. 0.]\n",
            " [0. 0. 0. ... 0. 0. 0.]\n",
            " [0. 0. 0. ... 0. 0. 0.]]\n"
          ]
        }
      ]
    },
    {
      "cell_type": "markdown",
      "source": [
        "DBSCAN"
      ],
      "metadata": {
        "id": "cS1GUNEH_sXl"
      }
    },
    {
      "cell_type": "code",
      "source": [
        "import seaborn as sns\n",
        "from sklearn.cluster import DBSCAN\n",
        "from sklearn.metrics import silhouette_score\n",
        "from sklearn.metrics import v_measure_score"
      ],
      "metadata": {
        "id": "tsRQAgQW_scO"
      },
      "execution_count": 56,
      "outputs": []
    },
    {
      "cell_type": "code",
      "execution_count": 57,
      "metadata": {
        "id": "Dy4dWpubDz0V"
      },
      "outputs": [],
      "source": [
        "traindata=corpus_matrix"
      ]
    },
    {
      "cell_type": "markdown",
      "source": [
        "Applying Sklearn DBSCAN Clustering with default parameters"
      ],
      "metadata": {
        "id": "xNawroBu3XIR"
      }
    },
    {
      "cell_type": "code",
      "execution_count": 58,
      "metadata": {
        "id": "YSwH0qBb3XMl",
        "colab": {
          "base_uri": "https://localhost:8080/"
        },
        "outputId": "fbb967c5-a0f2-40a4-bdea-593094c38c9a"
      },
      "outputs": [
        {
          "output_type": "execute_result",
          "data": {
            "text/plain": [
              "DBSCAN()"
            ]
          },
          "metadata": {},
          "execution_count": 58
        }
      ],
      "source": [
        "dbscan_cluster1 = DBSCAN()\n",
        "dbscan_cluster1.fit(traindata)"
      ]
    },
    {
      "cell_type": "code",
      "execution_count": 59,
      "metadata": {
        "id": "ZvCHo2Ho0_6r"
      },
      "outputs": [],
      "source": [
        "# Number of Clusters\n",
        "labels=dbscan_cluster1.labels_"
      ]
    },
    {
      "cell_type": "code",
      "execution_count": 60,
      "metadata": {
        "id": "TnNTDjVm0_9W",
        "colab": {
          "base_uri": "https://localhost:8080/"
        },
        "outputId": "a83758f2-633f-401c-a5e6-b3dc55008240"
      },
      "outputs": [
        {
          "output_type": "execute_result",
          "data": {
            "text/plain": [
              "array([-1, -1, -1, -1, -1, -1,  0, -1, -1, -1, -1, -1, -1, -1, -1, -1, -1,\n",
              "        0,  0,  0, -1, -1, -1, -1,  1,  1, -1, -1, -1, -1, -1, -1, -1, -1,\n",
              "       -1, -1, -1,  1,  1,  1,  1, -1, -1, -1, -1, -1, -1, -1, -1, -1, -1,\n",
              "       -1, -1, -1, -1, -1, -1, -1, -1, -1, -1, -1, -1, -1, -1, -1, -1, -1,\n",
              "       -1, -1, -1, -1, -1, -1, -1, -1, -1, -1, -1, -1, -1, -1, -1, -1, -1,\n",
              "       -1, -1, -1, -1, -1, -1, -1, -1, -1, -1,  0, -1, -1, -1,  1, -1,  1,\n",
              "       -1, -1, -1, -1, -1, -1, -1, -1,  1, -1, -1, -1, -1, -1, -1, -1, -1,\n",
              "       -1, -1,  1, -1, -1, -1, -1, -1, -1, -1, -1, -1, -1, -1, -1, -1, -1,\n",
              "       -1, -1, -1, -1, -1, -1, -1, -1, -1, -1, -1, -1, -1, -1, -1, -1, -1,\n",
              "       -1, -1, -1, -1, -1, -1, -1, -1, -1, -1, -1, -1, -1, -1, -1, -1, -1,\n",
              "       -1,  1, -1, -1, -1, -1, -1, -1, -1, -1, -1, -1, -1, -1, -1, -1, -1,\n",
              "       -1, -1, -1, -1, -1, -1, -1, -1, -1, -1, -1, -1, -1, -1, -1,  2,  2,\n",
              "       -1, -1, -1, -1, -1, -1, -1, -1, -1, -1, -1, -1, -1, -1, -1, -1, -1,\n",
              "       -1, -1, -1, -1, -1, -1, -1, -1,  3,  1, -1, -1, -1, -1,  1, -1, -1,\n",
              "       -1, -1, -1, -1, -1, -1, -1, -1, -1, -1, -1, -1, -1, -1, -1, -1, -1,\n",
              "       -1, -1, -1, -1, -1, -1, -1, -1, -1, -1, -1, -1, -1, -1, -1, -1, -1,\n",
              "       -1, -1, -1, -1, -1, -1, -1, -1, -1, -1, -1, -1, -1, -1, -1,  1, -1,\n",
              "       -1, -1, -1,  2,  2, -1,  2, -1,  1, -1, -1, -1, -1,  1, -1, -1,  1,\n",
              "       -1,  2,  2,  2, -1, -1, -1, -1,  2, -1, -1, -1, -1, -1, -1, -1, -1,\n",
              "       -1, -1, -1, -1, -1, -1, -1, -1,  2, -1, -1, -1, -1, -1, -1, -1, -1,\n",
              "       -1, -1, -1, -1, -1, -1, -1, -1, -1, -1, -1, -1, -1, -1, -1, -1, -1,\n",
              "       -1, -1, -1, -1, -1, -1, -1, -1, -1, -1, -1, -1, -1, -1, -1, -1, -1,\n",
              "       -1, -1, -1, -1, -1, -1, -1, -1, -1, -1, -1, -1, -1, -1, -1, -1, -1,\n",
              "       -1, -1, -1, -1, -1, -1, -1, -1, -1, -1, -1, -1, -1, -1, -1, -1, -1,\n",
              "       -1,  4,  4,  4,  4,  4,  4,  4, -1, -1, -1, -1, -1, -1, -1, -1, -1,\n",
              "       -1, -1, -1, -1, -1, -1, -1, -1, -1, -1, -1, -1, -1, -1, -1, -1,  4,\n",
              "        0,  0,  0, -1, -1, -1, -1, -1, -1, -1, -1, -1, -1, -1,  0,  0,  0,\n",
              "        0,  0,  0, -1,  5,  5,  5,  5,  5,  5,  4,  6,  6,  6, -1, -1, -1,\n",
              "       -1,  6, -1, -1, -1,  4, -1, -1, -1, -1, -1, -1, -1, -1, -1, -1, -1,\n",
              "       -1, -1, -1, -1, -1, -1, -1, -1, -1, -1, -1, -1, -1, -1, -1, -1,  1,\n",
              "        2,  6, -1,  4,  2,  1, -1, -1, -1, -1, -1, -1, -1, -1, -1, -1, -1,\n",
              "       -1, -1, -1, -1, -1, -1,  2,  2,  6,  6, -1, -1, -1, -1, -1, -1, -1,\n",
              "       -1, -1, -1, -1, -1, -1, -1, -1, -1, -1, -1, -1,  4,  6,  6,  4, -1,\n",
              "       -1, -1, -1, -1,  4,  4, -1, -1, -1, -1, -1, -1,  5, -1, -1, -1, -1,\n",
              "       -1, -1, -1, -1, -1, -1,  4,  4, -1, -1, -1, -1, -1, -1, -1,  4, -1,\n",
              "       -1, -1, -1, -1, -1, -1, -1,  1, -1, -1, -1, -1, -1, -1, -1, -1, -1,\n",
              "       -1, -1, -1, -1, -1, -1, -1, -1, -1, -1, -1, -1, -1, -1, -1, -1, -1,\n",
              "       -1, -1,  3, -1, -1, -1, -1, -1, -1, -1, -1, -1, -1, -1, -1, -1, -1,\n",
              "       -1, -1, -1, -1, -1, -1, -1, -1, -1, -1, -1, -1, -1,  1,  1, -1, -1,\n",
              "       -1, -1, -1, -1, -1, -1, -1, -1, -1, -1, -1, -1, -1,  7,  7,  7,  7,\n",
              "        7, -1, -1, -1, -1, -1, -1, -1, -1, -1, -1, -1, -1, -1, -1, -1, -1,\n",
              "       -1, -1, -1, -1, -1, -1, -1, -1, -1, -1, -1, -1, -1, -1, -1, -1, -1,\n",
              "       -1, -1, -1, -1, -1, -1, -1, -1, -1, -1, -1, -1, -1, -1, -1, -1, -1,\n",
              "       -1, -1, -1, -1, -1, -1, -1, -1, -1, -1, -1, -1, -1, -1, -1, -1, -1,\n",
              "       -1, -1, -1, -1, -1, -1, -1, -1, -1, -1, -1, -1, -1, -1, -1, -1, -1,\n",
              "       -1, -1, -1, -1, -1, -1, -1, -1, -1, -1, -1,  8, -1, -1, -1,  8,  8,\n",
              "        8, -1, -1, -1, -1, -1, -1, -1, -1, -1, -1, -1, -1, -1, -1, -1, -1,\n",
              "       -1, -1, -1, -1, -1, -1, -1,  8, -1, -1, -1, -1, -1, -1, -1, -1,  8,\n",
              "       -1, -1, -1, -1, -1, -1, -1, -1, -1, -1, -1, -1, -1, -1, -1, -1, -1,\n",
              "       -1, -1, -1, -1, -1, -1, -1, -1, -1, -1, -1, -1, -1, -1, -1, -1, -1,\n",
              "       -1, -1, -1, -1, -1, -1, -1, -1, -1, -1, -1, -1, -1, -1, -1, -1, -1,\n",
              "       -1, -1, -1, -1, -1,  3,  3, -1, -1, -1, -1, -1, -1, -1, -1, -1, -1,\n",
              "       -1, -1, -1, -1, -1, -1, -1, -1, -1, -1, -1, -1, -1, -1, -1, -1, -1,\n",
              "       -1, -1, -1, -1, -1, -1, -1, -1, -1, -1, -1, -1, -1, -1, -1, -1, -1,\n",
              "       -1, -1, -1, -1, -1, -1, -1, -1, -1, -1, -1, -1, -1, -1, -1, -1, -1,\n",
              "       -1, -1, -1, -1, -1, -1, -1, -1, -1, -1,  3,  3, -1, -1, -1, -1, -1,\n",
              "       -1, -1, -1, -1, -1, -1, -1, -1, -1, -1, -1, -1, -1, -1, -1, -1, -1,\n",
              "       -1, -1,  9, -1,  9,  9,  9,  9,  9, -1, -1, -1, -1, -1, -1, -1, -1,\n",
              "       -1, -1, -1, -1, -1, -1, -1])"
            ]
          },
          "metadata": {},
          "execution_count": 60
        }
      ],
      "source": [
        "labels"
      ]
    },
    {
      "cell_type": "code",
      "execution_count": 61,
      "metadata": {
        "id": "CJhUmKA_1AA-"
      },
      "outputs": [],
      "source": [
        "# Number of Clusters\n",
        "n_clusters=len(set(labels))-(1 if -1 in labels else 0)"
      ]
    },
    {
      "cell_type": "code",
      "source": [
        "n_clusters\n"
      ],
      "metadata": {
        "colab": {
          "base_uri": "https://localhost:8080/"
        },
        "id": "N_1bGYA7DHK6",
        "outputId": "2e26613f-ca48-4391-920e-17ed14bf844c"
      },
      "execution_count": 62,
      "outputs": [
        {
          "output_type": "execute_result",
          "data": {
            "text/plain": [
              "10"
            ]
          },
          "metadata": {},
          "execution_count": 62
        }
      ]
    },
    {
      "cell_type": "code",
      "source": [
        "# Identify Noise\n",
        "n_noise=list(dbscan_cluster1.labels_).count(-1)"
      ],
      "metadata": {
        "id": "gq2mRDJ4Da7N"
      },
      "execution_count": 63,
      "outputs": []
    },
    {
      "cell_type": "code",
      "source": [
        "n_noise"
      ],
      "metadata": {
        "colab": {
          "base_uri": "https://localhost:8080/"
        },
        "id": "He0sZ8uzDa_c",
        "outputId": "25eec2bc-e02f-42ed-c162-5da06d9f1b57"
      },
      "execution_count": 64,
      "outputs": [
        {
          "output_type": "execute_result",
          "data": {
            "text/plain": [
              "886"
            ]
          },
          "metadata": {},
          "execution_count": 64
        }
      ]
    },
    {
      "cell_type": "code",
      "source": [
        "# Calculating v_measure\n",
        "print('v_measure =', v_measure_score(df3['category'],labels))"
      ],
      "metadata": {
        "colab": {
          "base_uri": "https://localhost:8080/"
        },
        "id": "zR-5Imi8DHPs",
        "outputId": "04410871-75c7-41e5-c77e-10a02b6082f8"
      },
      "execution_count": 71,
      "outputs": [
        {
          "output_type": "stream",
          "name": "stdout",
          "text": [
            "v_measure = 0.1532142874698278\n"
          ]
        }
      ]
    },
    {
      "cell_type": "markdown",
      "source": [
        "Applying DBSCAN with eps = 0.1 and min_samples = 8"
      ],
      "metadata": {
        "id": "mRaSoqxlD0Oc"
      }
    },
    {
      "cell_type": "code",
      "source": [
        "dbscan_cluster = DBSCAN(eps=0.1, min_samples=8)\n",
        "dbscan_cluster.fit(traindata)"
      ],
      "metadata": {
        "colab": {
          "base_uri": "https://localhost:8080/"
        },
        "id": "gsDI7Go4D0Sy",
        "outputId": "26abf5c4-abb2-4948-eb88-d67ab231aae4"
      },
      "execution_count": 72,
      "outputs": [
        {
          "output_type": "execute_result",
          "data": {
            "text/plain": [
              "DBSCAN(eps=0.1, min_samples=8)"
            ]
          },
          "metadata": {},
          "execution_count": 72
        }
      ]
    },
    {
      "cell_type": "code",
      "source": [
        "# Number of Clusters\n",
        "labels=dbscan_cluster.labels_\n",
        "labels"
      ],
      "metadata": {
        "colab": {
          "base_uri": "https://localhost:8080/"
        },
        "id": "wauSsNYhHKve",
        "outputId": "bcec5a7a-6749-4eef-c284-a0048286684c"
      },
      "execution_count": 76,
      "outputs": [
        {
          "output_type": "execute_result",
          "data": {
            "text/plain": [
              "array([-1, -1, -1, -1, -1, -1,  0, -1, -1, -1, -1, -1, -1, -1, -1, -1, -1,\n",
              "        0,  0,  0, -1, -1, -1, -1,  1,  1, -1, -1, -1, -1, -1, -1, -1, -1,\n",
              "       -1, -1, -1,  1,  1,  1,  1, -1, -1, -1, -1, -1, -1, -1, -1, -1, -1,\n",
              "       -1, -1, -1, -1, -1, -1, -1, -1, -1, -1, -1, -1, -1, -1, -1, -1, -1,\n",
              "       -1, -1, -1, -1, -1, -1, -1, -1, -1, -1, -1, -1, -1, -1, -1, -1, -1,\n",
              "       -1, -1, -1, -1, -1, -1, -1, -1, -1, -1, -1, -1, -1, -1,  1, -1,  1,\n",
              "       -1, -1, -1, -1, -1, -1, -1, -1,  1, -1, -1, -1, -1, -1, -1, -1, -1,\n",
              "       -1, -1,  1, -1, -1, -1, -1, -1, -1, -1, -1, -1, -1, -1, -1, -1, -1,\n",
              "       -1, -1, -1, -1, -1, -1, -1, -1, -1, -1, -1, -1, -1, -1, -1, -1, -1,\n",
              "       -1, -1, -1, -1, -1, -1, -1, -1, -1, -1, -1, -1, -1, -1, -1, -1, -1,\n",
              "       -1,  1, -1, -1, -1, -1, -1, -1, -1, -1, -1, -1, -1, -1, -1, -1, -1,\n",
              "       -1, -1, -1, -1, -1, -1, -1, -1, -1, -1, -1, -1, -1, -1, -1,  2,  2,\n",
              "       -1, -1, -1, -1, -1, -1, -1, -1, -1, -1, -1, -1, -1, -1, -1, -1, -1,\n",
              "       -1, -1, -1, -1, -1, -1, -1, -1, -1,  1, -1, -1, -1, -1,  1, -1, -1,\n",
              "       -1, -1, -1, -1, -1, -1, -1, -1, -1, -1, -1, -1, -1, -1, -1, -1, -1,\n",
              "       -1, -1, -1, -1, -1, -1, -1, -1, -1, -1, -1, -1, -1, -1, -1, -1, -1,\n",
              "       -1, -1, -1, -1, -1, -1, -1, -1, -1, -1, -1, -1, -1, -1, -1,  1, -1,\n",
              "       -1, -1, -1,  2,  2, -1,  2, -1,  1, -1, -1, -1, -1,  1, -1, -1,  1,\n",
              "       -1,  2,  2,  2, -1, -1, -1, -1,  2, -1, -1, -1, -1, -1, -1, -1, -1,\n",
              "       -1, -1, -1, -1, -1, -1, -1, -1,  2, -1, -1, -1, -1, -1, -1, -1, -1,\n",
              "       -1, -1, -1, -1, -1, -1, -1, -1, -1, -1, -1, -1, -1, -1, -1, -1, -1,\n",
              "       -1, -1, -1, -1, -1, -1, -1, -1, -1, -1, -1, -1, -1, -1, -1, -1, -1,\n",
              "       -1, -1, -1, -1, -1, -1, -1, -1, -1, -1, -1, -1, -1, -1, -1, -1, -1,\n",
              "       -1, -1, -1, -1, -1, -1, -1, -1, -1, -1, -1, -1, -1, -1, -1, -1, -1,\n",
              "       -1,  3,  3,  3,  3,  3,  3,  3, -1, -1, -1, -1, -1, -1, -1, -1, -1,\n",
              "       -1, -1, -1, -1, -1, -1, -1, -1, -1, -1, -1, -1, -1, -1, -1, -1,  3,\n",
              "        0,  0,  0, -1, -1, -1, -1, -1, -1, -1, -1, -1, -1, -1,  0,  0,  0,\n",
              "        0,  0,  0, -1, -1, -1, -1, -1, -1, -1,  3,  4,  4,  4, -1, -1, -1,\n",
              "       -1,  4, -1, -1, -1,  3, -1, -1, -1, -1, -1, -1, -1, -1, -1, -1, -1,\n",
              "       -1, -1, -1, -1, -1, -1, -1, -1, -1, -1, -1, -1, -1, -1, -1, -1,  1,\n",
              "        2,  4, -1,  3,  2,  1, -1, -1, -1, -1, -1, -1, -1, -1, -1, -1, -1,\n",
              "       -1, -1, -1, -1, -1, -1,  2,  2,  4,  4, -1, -1, -1, -1, -1, -1, -1,\n",
              "       -1, -1, -1, -1, -1, -1, -1, -1, -1, -1, -1, -1,  3,  4,  4,  3, -1,\n",
              "       -1, -1, -1, -1,  3,  3, -1, -1, -1, -1, -1, -1, -1, -1, -1, -1, -1,\n",
              "       -1, -1, -1, -1, -1, -1,  3,  3, -1, -1, -1, -1, -1, -1, -1,  3, -1,\n",
              "       -1, -1, -1, -1, -1, -1, -1,  1, -1, -1, -1, -1, -1, -1, -1, -1, -1,\n",
              "       -1, -1, -1, -1, -1, -1, -1, -1, -1, -1, -1, -1, -1, -1, -1, -1, -1,\n",
              "       -1, -1, -1, -1, -1, -1, -1, -1, -1, -1, -1, -1, -1, -1, -1, -1, -1,\n",
              "       -1, -1, -1, -1, -1, -1, -1, -1, -1, -1, -1, -1, -1,  1,  1, -1, -1,\n",
              "       -1, -1, -1, -1, -1, -1, -1, -1, -1, -1, -1, -1, -1, -1, -1, -1, -1,\n",
              "       -1, -1, -1, -1, -1, -1, -1, -1, -1, -1, -1, -1, -1, -1, -1, -1, -1,\n",
              "       -1, -1, -1, -1, -1, -1, -1, -1, -1, -1, -1, -1, -1, -1, -1, -1, -1,\n",
              "       -1, -1, -1, -1, -1, -1, -1, -1, -1, -1, -1, -1, -1, -1, -1, -1, -1,\n",
              "       -1, -1, -1, -1, -1, -1, -1, -1, -1, -1, -1, -1, -1, -1, -1, -1, -1,\n",
              "       -1, -1, -1, -1, -1, -1, -1, -1, -1, -1, -1, -1, -1, -1, -1, -1, -1,\n",
              "       -1, -1, -1, -1, -1, -1, -1, -1, -1, -1, -1, -1, -1, -1, -1, -1, -1,\n",
              "       -1, -1, -1, -1, -1, -1, -1, -1, -1, -1, -1, -1, -1, -1, -1, -1, -1,\n",
              "       -1, -1, -1, -1, -1, -1, -1, -1, -1, -1, -1, -1, -1, -1, -1, -1, -1,\n",
              "       -1, -1, -1, -1, -1, -1, -1, -1, -1, -1, -1, -1, -1, -1, -1, -1, -1,\n",
              "       -1, -1, -1, -1, -1, -1, -1, -1, -1, -1, -1, -1, -1, -1, -1, -1, -1,\n",
              "       -1, -1, -1, -1, -1, -1, -1, -1, -1, -1, -1, -1, -1, -1, -1, -1, -1,\n",
              "       -1, -1, -1, -1, -1, -1, -1, -1, -1, -1, -1, -1, -1, -1, -1, -1, -1,\n",
              "       -1, -1, -1, -1, -1, -1, -1, -1, -1, -1, -1, -1, -1, -1, -1, -1, -1,\n",
              "       -1, -1, -1, -1, -1, -1, -1, -1, -1, -1, -1, -1, -1, -1, -1, -1, -1,\n",
              "       -1, -1, -1, -1, -1, -1, -1, -1, -1, -1, -1, -1, -1, -1, -1, -1, -1,\n",
              "       -1, -1, -1, -1, -1, -1, -1, -1, -1, -1, -1, -1, -1, -1, -1, -1, -1,\n",
              "       -1, -1, -1, -1, -1, -1, -1, -1, -1, -1, -1, -1, -1, -1, -1, -1, -1,\n",
              "       -1, -1, -1, -1, -1, -1, -1, -1, -1, -1, -1, -1, -1, -1, -1, -1, -1,\n",
              "       -1, -1, -1, -1, -1, -1, -1])"
            ]
          },
          "metadata": {},
          "execution_count": 76
        }
      ]
    },
    {
      "cell_type": "code",
      "source": [
        "# Number of Clusters\n",
        "n_clusters=len(set(labels))-(1 if -1 in labels else 0)\n",
        "n_clusters"
      ],
      "metadata": {
        "colab": {
          "base_uri": "https://localhost:8080/"
        },
        "id": "TdW0qLpCHKyX",
        "outputId": "4b37c000-134c-476a-dad8-198b4009f9b4"
      },
      "execution_count": 77,
      "outputs": [
        {
          "output_type": "execute_result",
          "data": {
            "text/plain": [
              "5"
            ]
          },
          "metadata": {},
          "execution_count": 77
        }
      ]
    },
    {
      "cell_type": "code",
      "source": [
        "# Identify Noise\n",
        "n_noise=list(dbscan_cluster.labels_).count(-1)\n",
        "n_noise"
      ],
      "metadata": {
        "colab": {
          "base_uri": "https://localhost:8080/"
        },
        "id": "nxAfDTg8HK37",
        "outputId": "f80dbec3-2757-4fbb-bab8-77cd7e2f9a47"
      },
      "execution_count": 79,
      "outputs": [
        {
          "output_type": "execute_result",
          "data": {
            "text/plain": [
              "917"
            ]
          },
          "metadata": {},
          "execution_count": 79
        }
      ]
    },
    {
      "cell_type": "code",
      "source": [
        "# Calculating v_measure\n",
        "print('v_measure =', v_measure_score(df3['category'],labels))"
      ],
      "metadata": {
        "colab": {
          "base_uri": "https://localhost:8080/"
        },
        "id": "0DJuwwdZHdC0",
        "outputId": "1815a545-251e-4498-858a-d522fb0618f6"
      },
      "execution_count": 80,
      "outputs": [
        {
          "output_type": "stream",
          "name": "stdout",
          "text": [
            "v_measure = 0.10053354620108265\n"
          ]
        }
      ]
    },
    {
      "cell_type": "markdown",
      "source": [
        "Finding the Optimal value of Epsilon"
      ],
      "metadata": {
        "id": "_tRPRiE1Hm0c"
      }
    },
    {
      "cell_type": "code",
      "source": [
        "import numpy as np\n",
        "from sklearn.neighbors import NearestNeighbors\n",
        "\n",
        "nearest_neighbors = NearestNeighbors(n_neighbors=11)\n",
        "neighbors = nearest_neighbors.fit(traindata)\n",
        "\n",
        "distances, indices = neighbors.kneighbors(traindata)\n",
        "distances = np.sort(distances[:,10], axis=0)"
      ],
      "metadata": {
        "id": "QmaqdhJmHm8t"
      },
      "execution_count": 84,
      "outputs": []
    },
    {
      "cell_type": "code",
      "source": [
        "distances"
      ],
      "metadata": {
        "colab": {
          "base_uri": "https://localhost:8080/"
        },
        "id": "gvOazfmtHdIg",
        "outputId": "5ff67177-2dd6-47c4-9264-ee59d25ba404"
      },
      "execution_count": 85,
      "outputs": [
        {
          "output_type": "execute_result",
          "data": {
            "text/plain": [
              "array([0.        , 0.        , 0.        , 0.        , 0.        ,\n",
              "       0.        , 0.        , 0.        , 0.        , 0.        ,\n",
              "       0.        , 0.        , 0.        , 0.        , 0.        ,\n",
              "       0.        , 0.        , 0.        , 0.        , 0.        ,\n",
              "       0.        , 0.        , 0.        , 0.        , 0.        ,\n",
              "       0.        , 0.        , 0.        , 0.        , 0.        ,\n",
              "       0.        , 0.        , 0.        , 0.        , 0.        ,\n",
              "       0.        , 0.        , 0.        , 0.        , 0.        ,\n",
              "       0.        , 0.        , 0.        , 0.        , 0.        ,\n",
              "       0.        , 0.        , 0.        , 0.        , 0.        ,\n",
              "       0.        , 0.        , 0.        , 0.        , 0.        ,\n",
              "       0.        , 0.        , 0.        , 0.        , 0.        ,\n",
              "       0.        , 0.        , 0.        , 0.        , 0.        ,\n",
              "       0.        , 0.        , 0.41575579, 0.56378781, 0.56378781,\n",
              "       0.56378781, 0.56378781, 0.56378781, 0.56378781, 0.56378781,\n",
              "       0.56378781, 0.56378781, 0.61862368, 0.67906179, 0.74520027,\n",
              "       0.74520027, 0.74520027, 0.91769458, 0.91769458, 0.91769458,\n",
              "       0.91769458, 0.93759111, 0.95176358, 0.95176358, 0.97356331,\n",
              "       0.98204846, 0.98204846, 1.        , 1.        , 1.        ,\n",
              "       1.        , 1.        , 1.        , 1.        , 1.        ,\n",
              "       1.        , 1.        , 1.        , 1.        , 1.        ,\n",
              "       1.        , 1.        , 1.        , 1.        , 1.        ,\n",
              "       1.        , 1.        , 1.        , 1.        , 1.        ,\n",
              "       1.        , 1.        , 1.        , 1.        , 1.        ,\n",
              "       1.        , 1.        , 1.        , 1.        , 1.        ,\n",
              "       1.        , 1.        , 1.        , 1.        , 1.        ,\n",
              "       1.        , 1.        , 1.        , 1.        , 1.        ,\n",
              "       1.        , 1.        , 1.        , 1.        , 1.        ,\n",
              "       1.        , 1.        , 1.        , 1.        , 1.        ,\n",
              "       1.        , 1.        , 1.        , 1.        , 1.        ,\n",
              "       1.        , 1.        , 1.        , 1.        , 1.        ,\n",
              "       1.        , 1.        , 1.        , 1.        , 1.        ,\n",
              "       1.        , 1.        , 1.        , 1.        , 1.        ,\n",
              "       1.        , 1.        , 1.        , 1.        , 1.        ,\n",
              "       1.        , 1.        , 1.        , 1.        , 1.        ,\n",
              "       1.        , 1.        , 1.        , 1.        , 1.        ,\n",
              "       1.        , 1.        , 1.        , 1.        , 1.        ,\n",
              "       1.        , 1.        , 1.        , 1.        , 1.        ,\n",
              "       1.        , 1.        , 1.        , 1.        , 1.        ,\n",
              "       1.        , 1.        , 1.        , 1.        , 1.        ,\n",
              "       1.        , 1.        , 1.        , 1.        , 1.        ,\n",
              "       1.        , 1.        , 1.        , 1.        , 1.        ,\n",
              "       1.        , 1.        , 1.        , 1.        , 1.        ,\n",
              "       1.        , 1.        , 1.        , 1.        , 1.        ,\n",
              "       1.        , 1.        , 1.        , 1.        , 1.        ,\n",
              "       1.        , 1.        , 1.        , 1.        , 1.        ,\n",
              "       1.        , 1.        , 1.        , 1.        , 1.        ,\n",
              "       1.        , 1.        , 1.        , 1.        , 1.        ,\n",
              "       1.        , 1.        , 1.        , 1.        , 1.        ,\n",
              "       1.        , 1.        , 1.        , 1.        , 1.        ,\n",
              "       1.        , 1.        , 1.        , 1.        , 1.        ,\n",
              "       1.        , 1.        , 1.        , 1.        , 1.        ,\n",
              "       1.        , 1.        , 1.        , 1.        , 1.        ,\n",
              "       1.        , 1.        , 1.        , 1.        , 1.        ,\n",
              "       1.        , 1.        , 1.        , 1.        , 1.        ,\n",
              "       1.        , 1.        , 1.        , 1.        , 1.        ,\n",
              "       1.        , 1.        , 1.        , 1.        , 1.        ,\n",
              "       1.        , 1.        , 1.        , 1.        , 1.        ,\n",
              "       1.        , 1.        , 1.        , 1.        , 1.        ,\n",
              "       1.        , 1.        , 1.        , 1.        , 1.        ,\n",
              "       1.        , 1.        , 1.        , 1.        , 1.        ,\n",
              "       1.        , 1.        , 1.        , 1.        , 1.        ,\n",
              "       1.        , 1.        , 1.        , 1.        , 1.        ,\n",
              "       1.        , 1.        , 1.        , 1.        , 1.        ,\n",
              "       1.        , 1.        , 1.        , 1.        , 1.        ,\n",
              "       1.        , 1.        , 1.        , 1.        , 1.        ,\n",
              "       1.        , 1.        , 1.        , 1.        , 1.        ,\n",
              "       1.        , 1.        , 1.        , 1.        , 1.        ,\n",
              "       1.        , 1.        , 1.        , 1.        , 1.        ,\n",
              "       1.        , 1.        , 1.        , 1.        , 1.        ,\n",
              "       1.        , 1.        , 1.        , 1.        , 1.        ,\n",
              "       1.        , 1.        , 1.        , 1.        , 1.        ,\n",
              "       1.        , 1.        , 1.        , 1.        , 1.        ,\n",
              "       1.        , 1.        , 1.        , 1.        , 1.        ,\n",
              "       1.        , 1.        , 1.        , 1.        , 1.        ,\n",
              "       1.        , 1.        , 1.        , 1.        , 1.        ,\n",
              "       1.        , 1.        , 1.        , 1.        , 1.        ,\n",
              "       1.        , 1.        , 1.        , 1.        , 1.        ,\n",
              "       1.        , 1.        , 1.        , 1.        , 1.        ,\n",
              "       1.        , 1.        , 1.        , 1.        , 1.        ,\n",
              "       1.        , 1.        , 1.        , 1.        , 1.        ,\n",
              "       1.        , 1.        , 1.        , 1.        , 1.        ,\n",
              "       1.        , 1.        , 1.        , 1.        , 1.        ,\n",
              "       1.        , 1.        , 1.        , 1.        , 1.        ,\n",
              "       1.        , 1.        , 1.        , 1.        , 1.        ,\n",
              "       1.        , 1.        , 1.        , 1.        , 1.        ,\n",
              "       1.        , 1.        , 1.        , 1.        , 1.        ,\n",
              "       1.        , 1.        , 1.        , 1.        , 1.        ,\n",
              "       1.        , 1.        , 1.        , 1.        , 1.        ,\n",
              "       1.        , 1.        , 1.        , 1.        , 1.        ,\n",
              "       1.        , 1.        , 1.        , 1.        , 1.        ,\n",
              "       1.        , 1.        , 1.        , 1.        , 1.        ,\n",
              "       1.        , 1.        , 1.        , 1.        , 1.        ,\n",
              "       1.        , 1.        , 1.        , 1.        , 1.        ,\n",
              "       1.        , 1.        , 1.        , 1.        , 1.        ,\n",
              "       1.        , 1.        , 1.        , 1.        , 1.        ,\n",
              "       1.        , 1.        , 1.        , 1.        , 1.        ,\n",
              "       1.        , 1.        , 1.        , 1.        , 1.        ,\n",
              "       1.        , 1.        , 1.        , 1.        , 1.        ,\n",
              "       1.        , 1.        , 1.        , 1.        , 1.        ,\n",
              "       1.        , 1.        , 1.        , 1.        , 1.        ,\n",
              "       1.        , 1.        , 1.        , 1.        , 1.        ,\n",
              "       1.        , 1.        , 1.        , 1.        , 1.        ,\n",
              "       1.        , 1.        , 1.        , 1.        , 1.        ,\n",
              "       1.        , 1.        , 1.        , 1.        , 1.        ,\n",
              "       1.        , 1.        , 1.        , 1.        , 1.        ,\n",
              "       1.        , 1.        , 1.        , 1.        , 1.        ,\n",
              "       1.        , 1.        , 1.        , 1.        , 1.        ,\n",
              "       1.        , 1.        , 1.        , 1.        , 1.        ,\n",
              "       1.        , 1.        , 1.        , 1.        , 1.        ,\n",
              "       1.        , 1.        , 1.        , 1.        , 1.        ,\n",
              "       1.        , 1.        , 1.        , 1.        , 1.        ,\n",
              "       1.        , 1.        , 1.        , 1.        , 1.        ,\n",
              "       1.        , 1.        , 1.        , 1.        , 1.        ,\n",
              "       1.        , 1.        , 1.        , 1.        , 1.        ,\n",
              "       1.        , 1.        , 1.        , 1.        , 1.        ,\n",
              "       1.        , 1.        , 1.        , 1.        , 1.        ,\n",
              "       1.        , 1.        , 1.        , 1.        , 1.        ,\n",
              "       1.        , 1.        , 1.        , 1.        , 1.        ,\n",
              "       1.        , 1.        , 1.        , 1.        , 1.        ,\n",
              "       1.        , 1.        , 1.        , 1.        , 1.        ,\n",
              "       1.        , 1.        , 1.        , 1.        , 1.        ,\n",
              "       1.        , 1.        , 1.        , 1.        , 1.        ,\n",
              "       1.        , 1.        , 1.        , 1.        , 1.        ,\n",
              "       1.        , 1.        , 1.        , 1.        , 1.        ,\n",
              "       1.        , 1.        , 1.        , 1.        , 1.        ,\n",
              "       1.        , 1.        , 1.        , 1.        , 1.        ,\n",
              "       1.        , 1.        , 1.        , 1.        , 1.        ,\n",
              "       1.        , 1.        , 1.        , 1.        , 1.        ,\n",
              "       1.        , 1.        , 1.        , 1.        , 1.        ,\n",
              "       1.        , 1.        , 1.        , 1.        , 1.        ,\n",
              "       1.        , 1.        , 1.        , 1.        , 1.        ,\n",
              "       1.        , 1.        , 1.        , 1.        , 1.        ,\n",
              "       1.        , 1.        , 1.        , 1.        , 1.        ,\n",
              "       1.        , 1.        , 1.        , 1.        , 1.        ,\n",
              "       1.        , 1.        , 1.        , 1.        , 1.        ,\n",
              "       1.        , 1.        , 1.        , 1.        , 1.        ,\n",
              "       1.        , 1.        , 1.        , 1.        , 1.        ,\n",
              "       1.        , 1.        , 1.        , 1.        , 1.        ,\n",
              "       1.        , 1.        , 1.        , 1.        , 1.        ,\n",
              "       1.        , 1.        , 1.        , 1.        , 1.        ,\n",
              "       1.        , 1.        , 1.        , 1.        , 1.        ,\n",
              "       1.        , 1.        , 1.        , 1.        , 1.        ,\n",
              "       1.        , 1.        , 1.        , 1.        , 1.        ,\n",
              "       1.        , 1.        , 1.        , 1.        , 1.        ,\n",
              "       1.        , 1.        , 1.        , 1.        , 1.        ,\n",
              "       1.        , 1.        , 1.        , 1.        , 1.        ,\n",
              "       1.        , 1.        , 1.        , 1.        , 1.        ,\n",
              "       1.        , 1.        , 1.        , 1.        , 1.        ,\n",
              "       1.        , 1.        , 1.        , 1.        , 1.        ,\n",
              "       1.        , 1.        , 1.        , 1.        , 1.        ,\n",
              "       1.        , 1.        , 1.        , 1.        , 1.        ,\n",
              "       1.        , 1.        , 1.        , 1.        , 1.        ,\n",
              "       1.        , 1.        , 1.        , 1.        , 1.        ,\n",
              "       1.        , 1.        , 1.        , 1.        , 1.        ,\n",
              "       1.        , 1.        , 1.        , 1.        , 1.        ,\n",
              "       1.        , 1.        , 1.        , 1.        , 1.        ,\n",
              "       1.        , 1.        , 1.        , 1.        , 1.        ,\n",
              "       1.        , 1.        , 1.        , 1.        , 1.        ,\n",
              "       1.        , 1.        , 1.        , 1.        , 1.        ,\n",
              "       1.        , 1.        , 1.        , 1.        , 1.        ,\n",
              "       1.        , 1.        , 1.        , 1.        , 1.        ,\n",
              "       1.        , 1.        , 1.        , 1.        , 1.        ,\n",
              "       1.        , 1.        , 1.        , 1.        , 1.        ,\n",
              "       1.        , 1.        , 1.        , 1.        , 1.        ,\n",
              "       1.        , 1.        , 1.        , 1.        , 1.        ,\n",
              "       1.        , 1.        , 1.        , 1.        , 1.        ,\n",
              "       1.        , 1.        , 1.        , 1.        , 1.        ,\n",
              "       1.        , 1.        , 1.        , 1.        , 1.        ,\n",
              "       1.        , 1.        , 1.        , 1.        , 1.        ,\n",
              "       1.        , 1.        , 1.        , 1.        , 1.        ,\n",
              "       1.        , 1.        , 1.        , 1.        , 1.        ,\n",
              "       1.        , 1.        , 1.        , 1.        , 1.        ,\n",
              "       1.        , 1.        , 1.        , 1.        , 1.        ,\n",
              "       1.        , 1.        , 1.        , 1.        , 1.        ,\n",
              "       1.        , 1.        , 1.        , 1.        , 1.        ,\n",
              "       1.        , 1.        , 1.        , 1.        , 1.        ,\n",
              "       1.        , 1.        , 1.        , 1.        , 1.        ,\n",
              "       1.        , 1.        , 1.        , 1.        , 1.        ,\n",
              "       1.        , 1.        , 1.        , 1.        , 1.        ,\n",
              "       1.        , 1.        , 1.        , 1.        , 1.        ,\n",
              "       1.        , 1.        , 1.        , 1.        , 1.        ,\n",
              "       1.        , 1.        , 1.        , 1.        , 1.        ,\n",
              "       1.        , 1.        , 1.        , 1.        , 1.        ,\n",
              "       1.        , 1.        , 1.        , 1.        , 1.        ,\n",
              "       1.        , 1.        , 1.        , 1.        , 1.        ,\n",
              "       1.        , 1.        , 1.        , 1.        , 1.        ,\n",
              "       1.        , 1.        , 1.        , 1.        , 1.        ,\n",
              "       1.        , 1.        , 1.        , 1.        , 1.        ,\n",
              "       1.        , 1.        , 1.        , 1.        , 1.        ,\n",
              "       1.        , 1.        , 1.        , 1.        , 1.        ,\n",
              "       1.        , 1.        , 1.        , 1.        , 1.        ,\n",
              "       1.        , 1.        , 1.        , 1.        , 1.        ,\n",
              "       1.        , 1.        , 1.        , 1.        , 1.        ,\n",
              "       1.        , 1.        , 1.        , 1.        , 1.        ,\n",
              "       1.        , 1.        , 1.        , 1.        , 1.        ,\n",
              "       1.        , 1.        , 1.        , 1.        , 1.        ,\n",
              "       1.        , 1.        , 1.        , 1.        , 1.        ,\n",
              "       1.        , 1.        , 1.        ])"
            ]
          },
          "metadata": {},
          "execution_count": 85
        }
      ]
    },
    {
      "cell_type": "code",
      "source": [
        "import matplotlib.pyplot as plt\n",
        "fig = plt.figure(figsize=(5, 5))\n",
        "plt.plot(distances)\n",
        "plt.xlabel(\"Points\")\n",
        "plt.ylabel(\"Distance\")"
      ],
      "metadata": {
        "colab": {
          "base_uri": "https://localhost:8080/",
          "height": 351
        },
        "id": "BRKQ-Sp1IMDd",
        "outputId": "db9e6bec-16df-43bf-ee06-6361319728b6"
      },
      "execution_count": 88,
      "outputs": [
        {
          "output_type": "execute_result",
          "data": {
            "text/plain": [
              "Text(0, 0.5, 'Distance')"
            ]
          },
          "metadata": {},
          "execution_count": 88
        },
        {
          "output_type": "display_data",
          "data": {
            "text/plain": [
              "<Figure size 360x360 with 1 Axes>"
            ],
            "image/png": "[encoded data removed]"
          },
          "metadata": {
            "needs_background": "light"
          }
        }
      ]
    },
    {
      "cell_type": "markdown",
      "source": [
        "Identifying Elbow Point with Kneed Package \n",
        "To determine the location of maximum curvature visually can be difficult. Hence, a Python package called kneed can be used to detect the knee or elbow point. \n",
        "This can be installed with ‘pip install kneed’"
      ],
      "metadata": {
        "id": "4z233SaoIMNs"
      }
    },
    {
      "cell_type": "code",
      "source": [
        "pip install kneed"
      ],
      "metadata": {
        "colab": {
          "base_uri": "https://localhost:8080/"
        },
        "id": "hmAcsoKAIMSC",
        "outputId": "a2b9a983-7c2e-40f9-a3a3-e7917db5a8a4"
      },
      "execution_count": 89,
      "outputs": [
        {
          "output_type": "stream",
          "name": "stdout",
          "text": [
            "Looking in indexes: https://pypi.org/simple, https://us-python.pkg.dev/colab-wheels/public/simple/\n",
            "Collecting kneed\n",
            "  Downloading kneed-0.8.1-py2.py3-none-any.whl (10 kB)\n",
            "Requirement already satisfied: scipy>=1.0.0 in /usr/local/lib/python3.7/dist-packages (from kneed) (1.7.3)\n",
            "Requirement already satisfied: numpy>=1.14.2 in /usr/local/lib/python3.7/dist-packages (from kneed) (1.21.6)\n",
            "Installing collected packages: kneed\n",
            "Successfully installed kneed-0.8.1\n"
          ]
        }
      ]
    },
    {
      "cell_type": "code",
      "source": [
        "from kneed import KneeLocator\n",
        "\n",
        "i = np.arange(len(distances))\n",
        "knee = KneeLocator(i, distances, S=1, curve='convex', direction='increasing', interp_method='polynomial')"
      ],
      "metadata": {
        "id": "s3sPflPOI1yR"
      },
      "execution_count": 90,
      "outputs": []
    },
    {
      "cell_type": "code",
      "source": [
        "print(distances[knee.knee])"
      ],
      "metadata": {
        "colab": {
          "base_uri": "https://localhost:8080/"
        },
        "id": "8xx0Tq40I_5P",
        "outputId": "00d5bf2b-4e4e-438e-c74f-349b1eb1485e"
      },
      "execution_count": 91,
      "outputs": [
        {
          "output_type": "stream",
          "name": "stdout",
          "text": [
            "1.0000000000000002\n"
          ]
        }
      ]
    },
    {
      "cell_type": "code",
      "source": [
        "#Applying DBSCAN with Optimal value of Epsilon = 1\n",
        "dbscan_cluster2 = DBSCAN(eps=1, min_samples=8)\n",
        "dbscan_cluster2.fit(traindata)"
      ],
      "metadata": {
        "colab": {
          "base_uri": "https://localhost:8080/"
        },
        "id": "tMFo522JJB6Z",
        "outputId": "4b58627c-666c-412d-95d8-b06c77dd2447"
      },
      "execution_count": 93,
      "outputs": [
        {
          "output_type": "execute_result",
          "data": {
            "text/plain": [
              "DBSCAN(eps=1, min_samples=8)"
            ]
          },
          "metadata": {},
          "execution_count": 93
        }
      ]
    },
    {
      "cell_type": "code",
      "source": [
        "# Number of Clusters\n",
        "labels1=dbscan_cluster2.labels_\n",
        "labels1"
      ],
      "metadata": {
        "colab": {
          "base_uri": "https://localhost:8080/"
        },
        "id": "SRRs3X88JG3e",
        "outputId": "b435a9c1-349f-4d45-9fc6-650362fa74cd"
      },
      "execution_count": 98,
      "outputs": [
        {
          "output_type": "execute_result",
          "data": {
            "text/plain": [
              "array([ 0,  0,  0,  0,  0,  0,  0,  0,  0,  0,  0,  0,  0,  0,  0,  0,  0,\n",
              "        0,  0,  0,  0, -1,  0,  0,  0,  0,  0,  0,  0,  0,  0,  0,  0,  0,\n",
              "        0,  0,  0,  0,  0,  0,  0,  0,  0,  0,  0,  0,  0,  0,  0, -1,  0,\n",
              "        0,  0,  0,  0,  0,  0,  0,  0,  0,  0,  0,  0, -1,  0,  0, -1,  0,\n",
              "        0, -1,  0,  0,  0,  0,  0,  0,  0,  0,  0,  0,  0,  0,  0,  0,  0,\n",
              "        0,  0,  0,  0,  0, -1, -1,  0,  0,  0,  0,  0,  0,  0,  0,  0,  0,\n",
              "        0,  0,  0,  0,  0,  0, -1,  0,  0,  0,  0,  0,  0,  0,  0,  0,  0,\n",
              "        0,  0,  0,  0,  0,  0,  0,  0,  0,  0,  0,  0,  0,  0,  0,  0,  0,\n",
              "        0,  0,  0,  0,  0,  0,  0,  0,  0,  0,  0, -1, -1,  0,  0,  0,  0,\n",
              "        0,  0,  0,  0,  0,  0,  0,  0, -1,  0,  0,  0,  0,  0,  0,  0,  0,\n",
              "       -1,  0,  0,  0,  0,  0,  0,  0, -1,  0,  0,  0,  0, -1,  0,  0,  0,\n",
              "        0,  0,  0,  0,  0,  0,  0,  0,  0,  0,  0,  0, -1,  0,  0,  0,  0,\n",
              "        0,  0,  0,  0,  0,  0,  0,  0,  0,  0,  0,  0,  0, -1,  0,  0,  0,\n",
              "        0,  0,  0,  0,  0,  0,  0,  0,  0,  0,  0,  0,  0,  0,  0,  0,  0,\n",
              "        0,  0,  0,  0,  0,  0,  0,  0,  0,  0,  0,  0,  0,  0,  0,  0, -1,\n",
              "        0,  0,  0,  0, -1,  0,  0,  0,  0,  0,  0,  0,  0,  0,  0,  0,  0,\n",
              "        0,  0,  0,  0, -1,  0,  0,  0,  0,  0,  0,  0,  0,  0,  0,  0,  0,\n",
              "        0,  0,  0,  0,  0,  0,  0,  0,  0,  0,  0,  0,  0,  0,  0, -1,  0,\n",
              "        0,  0,  0,  0,  0,  0, -1,  0,  0, -1,  0,  0, -1,  0,  0,  0,  0,\n",
              "        0,  0,  0,  0,  0,  0,  0,  0,  0,  0,  0,  0,  0,  0,  0,  0,  0,\n",
              "        0,  0,  0,  0,  0,  0,  0,  0,  0,  0,  0,  0,  0,  0,  0,  0,  0,\n",
              "        0,  0,  0,  0,  0,  0,  0,  0,  0,  0,  0,  0,  0,  0,  0,  0,  0,\n",
              "        0,  0,  0, -1,  0,  0,  0,  0,  0, -1,  0,  0,  0,  0, -1,  0,  0,\n",
              "        0, -1,  0,  0,  0,  0,  0,  0, -1,  0,  0,  0,  0,  0,  0,  0,  0,\n",
              "        0,  0,  0,  0,  0,  0,  0,  0,  0,  0,  0,  0,  0,  0,  0,  0,  0,\n",
              "        0,  0,  0,  0,  0,  0,  0,  0, -1, -1,  0,  0,  0,  0,  0,  0,  0,\n",
              "        0,  0,  0, -1,  0,  0,  0,  0,  0, -1,  0,  0,  0,  0,  0,  0,  0,\n",
              "        0,  0,  0,  0,  0,  0,  0,  0,  0,  0,  0,  0,  0,  0,  0,  0,  0,\n",
              "        0,  0,  0,  0,  0,  0,  0,  0,  0,  0,  0,  0,  0,  0,  0,  0,  0,\n",
              "        0,  0, -1,  0,  0,  0,  0,  0,  0,  0,  0,  0,  0,  0,  0,  0,  0,\n",
              "        0,  0,  0,  0,  0,  0,  0, -1,  0,  0,  0,  0,  0,  0,  0, -1,  0,\n",
              "        0,  0,  0,  0,  0,  0,  0,  0,  0,  0, -1, -1,  0, -1,  0,  0,  0,\n",
              "        0,  0,  0, -1,  0,  0,  0,  0, -1,  0,  0,  0,  0,  0,  0,  0,  0,\n",
              "        0,  0,  0,  0,  0,  0,  0,  0,  0,  0,  0,  0,  0, -1,  0, -1,  0,\n",
              "       -1,  0,  0,  0,  0,  0,  0,  0,  0, -1,  0,  0,  0,  0,  0,  0,  0,\n",
              "        0,  0,  0,  0,  0,  0,  0,  0,  0,  0,  0,  0,  0,  0,  0,  0,  0,\n",
              "        0,  0,  0,  0,  0,  0,  0, -1,  0,  0,  0,  0,  0,  0,  0,  0, -1,\n",
              "        0,  0,  0, -1,  0,  0,  0,  0,  0,  0,  0,  0,  0, -1,  0,  0,  0,\n",
              "        0,  0,  0,  0,  0,  0,  0,  0,  0,  0, -1,  0,  0,  0,  0,  0, -1,\n",
              "        0,  0,  0,  0, -1,  0,  0,  0,  0,  0,  0,  0,  0,  0,  0,  0,  0,\n",
              "        0,  0,  0,  0,  0,  0,  0,  0,  0,  0,  0,  0,  0,  0,  0,  0,  0,\n",
              "        0,  0,  0,  0,  0,  0,  0,  0,  0,  0,  0,  0, -1,  0,  0,  0,  0,\n",
              "        0,  0,  0,  0,  0,  0, -1, -1, -1, -1,  0,  0,  0,  0,  0, -1,  0,\n",
              "        0,  0,  0,  0,  0,  0,  0,  0,  0,  0,  0,  0,  0,  0,  0,  0, -1,\n",
              "        0,  0, -1,  0, -1,  0,  0,  0,  0, -1, -1,  0,  0,  0, -1, -1,  0,\n",
              "        0, -1,  0,  0, -1, -1,  0,  0,  0,  0,  0,  0,  0,  0,  0,  0,  0,\n",
              "        0,  0,  0,  0,  0, -1,  0,  0,  0,  0,  0,  0,  0,  0,  0,  0,  0,\n",
              "        0,  0,  0,  0,  0,  0,  0,  0,  0,  0,  0,  0,  0,  0,  0, -1,  0,\n",
              "        0,  0,  0,  0,  0,  0,  0,  0,  0,  0,  0,  0, -1,  0,  0,  0,  0,\n",
              "        0,  0,  0,  0, -1,  0,  0,  0,  0, -1,  0,  0,  0, -1,  0,  0,  0,\n",
              "        0,  0, -1, -1,  0,  0,  0,  0,  0,  0,  0,  0,  0,  0,  0,  0,  0,\n",
              "        0,  0,  0,  0,  0,  0,  0,  0,  0,  0,  0, -1,  0,  0, -1, -1,  0,\n",
              "        0,  0,  0,  0, -1,  0,  0,  0,  0,  0,  0,  0,  0, -1, -1,  0,  0,\n",
              "        0,  0,  0, -1,  0,  0,  0,  0,  0,  0,  0,  0,  0,  0,  0,  0,  0,\n",
              "        0,  0,  0,  0,  0,  0,  0,  0,  0,  0,  0,  0,  0,  0, -1,  0,  0,\n",
              "        0,  0,  0,  0,  0,  0,  0,  0, -1,  0,  0,  0,  0,  0,  0,  0,  0,\n",
              "        0,  0,  0,  0,  0,  0,  0,  0,  0,  0,  0,  0,  0,  0,  0,  0,  0,\n",
              "        0,  0,  0,  0,  0,  0,  0,  0,  0,  0,  0,  0,  0,  0,  0,  0,  0,\n",
              "        0,  0,  0,  0,  0,  0,  0])"
            ]
          },
          "metadata": {},
          "execution_count": 98
        }
      ]
    },
    {
      "cell_type": "code",
      "source": [
        "# Number of Clusters\n",
        "n_clusters=len(set(labels1))-(1 if -1 in labels else 0)\n",
        "n_clusters"
      ],
      "metadata": {
        "colab": {
          "base_uri": "https://localhost:8080/"
        },
        "id": "uqSl2WIxJG5x",
        "outputId": "3f155e25-7688-46c1-978a-ee894d0b4ed2"
      },
      "execution_count": 99,
      "outputs": [
        {
          "output_type": "execute_result",
          "data": {
            "text/plain": [
              "1"
            ]
          },
          "metadata": {},
          "execution_count": 99
        }
      ]
    },
    {
      "cell_type": "code",
      "source": [
        "# Identify Noise\n",
        "n_noise=list(dbscan_cluster2.labels_).count(-1)\n",
        "n_noise"
      ],
      "metadata": {
        "colab": {
          "base_uri": "https://localhost:8080/"
        },
        "id": "1IDVehqKJG76",
        "outputId": "f1adf073-a172-4d04-9ac8-0bf05d26fa9f"
      },
      "execution_count": 100,
      "outputs": [
        {
          "output_type": "execute_result",
          "data": {
            "text/plain": [
              "84"
            ]
          },
          "metadata": {},
          "execution_count": 100
        }
      ]
    },
    {
      "cell_type": "code",
      "source": [
        "# Calculating v_measure\n",
        "print('v_measure =', v_measure_score(df3['category'], labels))"
      ],
      "metadata": {
        "colab": {
          "base_uri": "https://localhost:8080/"
        },
        "id": "e4tImCOvJG-M",
        "outputId": "89d253d0-e9ec-417a-e9cb-4106be2a98c6"
      },
      "execution_count": 101,
      "outputs": [
        {
          "output_type": "stream",
          "name": "stdout",
          "text": [
            "v_measure = 0.00896867629958185\n"
          ]
        }
      ]
    },
    {
      "cell_type": "code",
      "source": [],
      "metadata": {
        "id": "jMrODeVuJHBx"
      },
      "execution_count": null,
      "outputs": []
    }
  ],
  "metadata": {
    "colab": {
      "provenance": [],
      "authorship_tag": "ABX9TyOdQYuzuA6XpdmgOjqe05GH",
      "include_colab_link": true
    },
    "kernelspec": {
      "display_name": "Python 3",
      "name": "python3"
    },
    "language_info": {
      "name": "python"
    }
  },
  "nbformat": 4,
  "nbformat_minor": 0
}
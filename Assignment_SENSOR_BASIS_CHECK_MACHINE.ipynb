{
  "cells": [
    {
      "cell_type": "markdown",
      "metadata": {
        "id": "view-in-github",
        "colab_type": "text"
      },
      "source": [
        "<a href=\"https://colab.research.google.com/github/RojaCM/Complete-Python-3-Bootcamp/blob/master/Assignment_SENSOR_BASIS_CHECK_MACHINE.ipynb\" target=\"_parent\"><img src=\"https://colab.research.google.com/assets/colab-badge.svg\" alt=\"Open In Colab\"/></a>"
      ]
    },
    {
      "cell_type": "markdown",
      "id": "284235d0",
      "metadata": {
        "id": "284235d0"
      },
      "source": [
        "Importing required Packages and Libraries"
      ]
    },
    {
      "cell_type": "code",
      "execution_count": null,
      "id": "68c96915",
      "metadata": {
        "id": "68c96915"
      },
      "outputs": [],
      "source": [
        "import pandas as pd\n",
        "import matplotlib.pyplot as plt\n",
        "import seaborn as sns\n",
        "import numpy as np\n",
        "import datetime\n",
        "\n",
        "\n",
        "from sklearn.model_selection import train_test_split\n",
        "from sklearn.preprocessing import LabelEncoder\n",
        "from sklearn.model_selection import GridSearchCV\n",
        "from sklearn.model_selection import cross_val_score\n",
        "from sklearn.metrics import roc_curve, auc, confusion_matrix, classification_report, accuracy_score\n",
        "from sklearn import metrics\n",
        "import warnings\n",
        "warnings.filterwarnings('ignore')\n",
        "\n",
        "\n",
        "from sklearn.linear_model import LogisticRegression\n",
        "from sklearn.naive_bayes import GaussianNB\n",
        "from sklearn.ensemble import RandomForestClassifier\n",
        "from sklearn.ensemble import AdaBoostClassifier\n",
        "from sklearn.ensemble import GradientBoostingClassifier\n",
        "\n",
        "\n",
        "from sklearn.svm import SVC\n",
        "%matplotlib inline\n",
        "\n",
        "plt.style.use('fast')\n",
        "sns.set_style('whitegrid')"
      ]
    },
    {
      "cell_type": "markdown",
      "id": "3f075304",
      "metadata": {
        "id": "3f075304"
      },
      "source": [
        "Reading healthy and Faulty datasets"
      ]
    },
    {
      "cell_type": "code",
      "execution_count": null,
      "id": "5378cece",
      "metadata": {
        "id": "5378cece"
      },
      "outputs": [],
      "source": [
        "healthy_dataset=pd.read_csv('HealthyDataset.csv',header=None)"
      ]
    },
    {
      "cell_type": "code",
      "execution_count": null,
      "id": "a4299eaf",
      "metadata": {
        "id": "a4299eaf",
        "outputId": "c4a84505-ed2e-4f53-95f9-b6303930a436"
      },
      "outputs": [
        {
          "data": {
            "text/html": [
              "<div>\n",
              "<style scoped>\n",
              "    .dataframe tbody tr th:only-of-type {\n",
              "        vertical-align: middle;\n",
              "    }\n",
              "\n",
              "    .dataframe tbody tr th {\n",
              "        vertical-align: top;\n",
              "    }\n",
              "\n",
              "    .dataframe thead th {\n",
              "        text-align: right;\n",
              "    }\n",
              "</style>\n",
              "<table border=\"1\" class=\"dataframe\">\n",
              "  <thead>\n",
              "    <tr style=\"text-align: right;\">\n",
              "      <th></th>\n",
              "      <th>0</th>\n",
              "      <th>1</th>\n",
              "      <th>2</th>\n",
              "      <th>3</th>\n",
              "    </tr>\n",
              "  </thead>\n",
              "  <tbody>\n",
              "    <tr>\n",
              "      <th>0</th>\n",
              "      <td>-19.000</td>\n",
              "      <td>-0.250</td>\n",
              "      <td>-0.188</td>\n",
              "      <td>1.0600</td>\n",
              "    </tr>\n",
              "    <tr>\n",
              "      <th>1</th>\n",
              "      <td>-9.940</td>\n",
              "      <td>8.530</td>\n",
              "      <td>7.550</td>\n",
              "      <td>4.7000</td>\n",
              "    </tr>\n",
              "    <tr>\n",
              "      <th>2</th>\n",
              "      <td>21.400</td>\n",
              "      <td>-4.740</td>\n",
              "      <td>-0.278</td>\n",
              "      <td>5.9500</td>\n",
              "    </tr>\n",
              "    <tr>\n",
              "      <th>3</th>\n",
              "      <td>8.520</td>\n",
              "      <td>-0.593</td>\n",
              "      <td>1.260</td>\n",
              "      <td>3.6400</td>\n",
              "    </tr>\n",
              "    <tr>\n",
              "      <th>4</th>\n",
              "      <td>-21.100</td>\n",
              "      <td>-0.558</td>\n",
              "      <td>8.980</td>\n",
              "      <td>0.0193</td>\n",
              "    </tr>\n",
              "    <tr>\n",
              "      <th>...</th>\n",
              "      <td>...</td>\n",
              "      <td>...</td>\n",
              "      <td>...</td>\n",
              "      <td>...</td>\n",
              "    </tr>\n",
              "    <tr>\n",
              "      <th>99835</th>\n",
              "      <td>-7.610</td>\n",
              "      <td>-0.149</td>\n",
              "      <td>1.200</td>\n",
              "      <td>0.7800</td>\n",
              "    </tr>\n",
              "    <tr>\n",
              "      <th>99836</th>\n",
              "      <td>-0.584</td>\n",
              "      <td>1.620</td>\n",
              "      <td>-1.850</td>\n",
              "      <td>4.4500</td>\n",
              "    </tr>\n",
              "    <tr>\n",
              "      <th>99837</th>\n",
              "      <td>1.190</td>\n",
              "      <td>2.870</td>\n",
              "      <td>-1.310</td>\n",
              "      <td>8.0100</td>\n",
              "    </tr>\n",
              "    <tr>\n",
              "      <th>99838</th>\n",
              "      <td>-0.940</td>\n",
              "      <td>-1.160</td>\n",
              "      <td>1.560</td>\n",
              "      <td>6.0000</td>\n",
              "    </tr>\n",
              "    <tr>\n",
              "      <th>99839</th>\n",
              "      <td>-1.650</td>\n",
              "      <td>6.120</td>\n",
              "      <td>1.910</td>\n",
              "      <td>-0.0293</td>\n",
              "    </tr>\n",
              "  </tbody>\n",
              "</table>\n",
              "<p>99840 rows × 4 columns</p>\n",
              "</div>"
            ],
            "text/plain": [
              "            0      1      2       3\n",
              "0     -19.000 -0.250 -0.188  1.0600\n",
              "1      -9.940  8.530  7.550  4.7000\n",
              "2      21.400 -4.740 -0.278  5.9500\n",
              "3       8.520 -0.593  1.260  3.6400\n",
              "4     -21.100 -0.558  8.980  0.0193\n",
              "...       ...    ...    ...     ...\n",
              "99835  -7.610 -0.149  1.200  0.7800\n",
              "99836  -0.584  1.620 -1.850  4.4500\n",
              "99837   1.190  2.870 -1.310  8.0100\n",
              "99838  -0.940 -1.160  1.560  6.0000\n",
              "99839  -1.650  6.120  1.910 -0.0293\n",
              "\n",
              "[99840 rows x 4 columns]"
            ]
          },
          "execution_count": 3,
          "metadata": {},
          "output_type": "execute_result"
        }
      ],
      "source": [
        "healthy_dataset"
      ]
    },
    {
      "cell_type": "code",
      "execution_count": null,
      "id": "7907c35d",
      "metadata": {
        "id": "7907c35d"
      },
      "outputs": [],
      "source": [
        "#assigning column names \n",
        "healthy_dataset.columns=['Sensor1','Sensor2','Sensor3','Sensor4']"
      ]
    },
    {
      "cell_type": "code",
      "execution_count": null,
      "id": "8307f964",
      "metadata": {
        "id": "8307f964",
        "outputId": "4d1915f5-05e3-4ab0-ee3d-7a805daa96d7"
      },
      "outputs": [
        {
          "data": {
            "text/html": [
              "<div>\n",
              "<style scoped>\n",
              "    .dataframe tbody tr th:only-of-type {\n",
              "        vertical-align: middle;\n",
              "    }\n",
              "\n",
              "    .dataframe tbody tr th {\n",
              "        vertical-align: top;\n",
              "    }\n",
              "\n",
              "    .dataframe thead th {\n",
              "        text-align: right;\n",
              "    }\n",
              "</style>\n",
              "<table border=\"1\" class=\"dataframe\">\n",
              "  <thead>\n",
              "    <tr style=\"text-align: right;\">\n",
              "      <th></th>\n",
              "      <th>Sensor1</th>\n",
              "      <th>Sensor2</th>\n",
              "      <th>Sensor3</th>\n",
              "      <th>Sensor4</th>\n",
              "    </tr>\n",
              "  </thead>\n",
              "  <tbody>\n",
              "    <tr>\n",
              "      <th>0</th>\n",
              "      <td>-19.00</td>\n",
              "      <td>-0.250</td>\n",
              "      <td>-0.188</td>\n",
              "      <td>1.0600</td>\n",
              "    </tr>\n",
              "    <tr>\n",
              "      <th>1</th>\n",
              "      <td>-9.94</td>\n",
              "      <td>8.530</td>\n",
              "      <td>7.550</td>\n",
              "      <td>4.7000</td>\n",
              "    </tr>\n",
              "    <tr>\n",
              "      <th>2</th>\n",
              "      <td>21.40</td>\n",
              "      <td>-4.740</td>\n",
              "      <td>-0.278</td>\n",
              "      <td>5.9500</td>\n",
              "    </tr>\n",
              "    <tr>\n",
              "      <th>3</th>\n",
              "      <td>8.52</td>\n",
              "      <td>-0.593</td>\n",
              "      <td>1.260</td>\n",
              "      <td>3.6400</td>\n",
              "    </tr>\n",
              "    <tr>\n",
              "      <th>4</th>\n",
              "      <td>-21.10</td>\n",
              "      <td>-0.558</td>\n",
              "      <td>8.980</td>\n",
              "      <td>0.0193</td>\n",
              "    </tr>\n",
              "  </tbody>\n",
              "</table>\n",
              "</div>"
            ],
            "text/plain": [
              "   Sensor1  Sensor2  Sensor3  Sensor4\n",
              "0   -19.00   -0.250   -0.188   1.0600\n",
              "1    -9.94    8.530    7.550   4.7000\n",
              "2    21.40   -4.740   -0.278   5.9500\n",
              "3     8.52   -0.593    1.260   3.6400\n",
              "4   -21.10   -0.558    8.980   0.0193"
            ]
          },
          "execution_count": 5,
          "metadata": {},
          "output_type": "execute_result"
        }
      ],
      "source": [
        "healthy_dataset.head()"
      ]
    },
    {
      "cell_type": "code",
      "execution_count": null,
      "id": "cf787d95",
      "metadata": {
        "id": "cf787d95",
        "outputId": "7af7c157-ca78-4f77-81ff-80ffb4644a7a"
      },
      "outputs": [
        {
          "data": {
            "text/plain": [
              "(99840, 5)"
            ]
          },
          "execution_count": 6,
          "metadata": {},
          "output_type": "execute_result"
        }
      ],
      "source": [
        "#creating a column wuth value 1 for healthy dataset and appending the column to the dataset.\n",
        "a=np.ones(99840,dtype=int)\n",
        "a\n",
        "b=pd.DataFrame(a)\n",
        "b\n",
        "# add a column named 'Target' for the Faulty dataset with value '0' .\n",
        "# VALUE 0 Indicates machine is Faulty one\n",
        "healthy_dataset['Target']=b\n",
        "healthy_dataset.shape"
      ]
    },
    {
      "cell_type": "code",
      "execution_count": null,
      "id": "ca254b16",
      "metadata": {
        "id": "ca254b16",
        "outputId": "91c846a1-d6db-4f1d-831c-2cf7ef8a0c3a"
      },
      "outputs": [
        {
          "data": {
            "text/html": [
              "<div>\n",
              "<style scoped>\n",
              "    .dataframe tbody tr th:only-of-type {\n",
              "        vertical-align: middle;\n",
              "    }\n",
              "\n",
              "    .dataframe tbody tr th {\n",
              "        vertical-align: top;\n",
              "    }\n",
              "\n",
              "    .dataframe thead th {\n",
              "        text-align: right;\n",
              "    }\n",
              "</style>\n",
              "<table border=\"1\" class=\"dataframe\">\n",
              "  <thead>\n",
              "    <tr style=\"text-align: right;\">\n",
              "      <th></th>\n",
              "      <th>Sensor1</th>\n",
              "      <th>Sensor2</th>\n",
              "      <th>Sensor3</th>\n",
              "      <th>Sensor4</th>\n",
              "      <th>Target</th>\n",
              "    </tr>\n",
              "  </thead>\n",
              "  <tbody>\n",
              "    <tr>\n",
              "      <th>0</th>\n",
              "      <td>-19.00</td>\n",
              "      <td>-0.250</td>\n",
              "      <td>-0.188</td>\n",
              "      <td>1.0600</td>\n",
              "      <td>1</td>\n",
              "    </tr>\n",
              "    <tr>\n",
              "      <th>1</th>\n",
              "      <td>-9.94</td>\n",
              "      <td>8.530</td>\n",
              "      <td>7.550</td>\n",
              "      <td>4.7000</td>\n",
              "      <td>1</td>\n",
              "    </tr>\n",
              "    <tr>\n",
              "      <th>2</th>\n",
              "      <td>21.40</td>\n",
              "      <td>-4.740</td>\n",
              "      <td>-0.278</td>\n",
              "      <td>5.9500</td>\n",
              "      <td>1</td>\n",
              "    </tr>\n",
              "    <tr>\n",
              "      <th>3</th>\n",
              "      <td>8.52</td>\n",
              "      <td>-0.593</td>\n",
              "      <td>1.260</td>\n",
              "      <td>3.6400</td>\n",
              "      <td>1</td>\n",
              "    </tr>\n",
              "    <tr>\n",
              "      <th>4</th>\n",
              "      <td>-21.10</td>\n",
              "      <td>-0.558</td>\n",
              "      <td>8.980</td>\n",
              "      <td>0.0193</td>\n",
              "      <td>1</td>\n",
              "    </tr>\n",
              "  </tbody>\n",
              "</table>\n",
              "</div>"
            ],
            "text/plain": [
              "   Sensor1  Sensor2  Sensor3  Sensor4  Target\n",
              "0   -19.00   -0.250   -0.188   1.0600       1\n",
              "1    -9.94    8.530    7.550   4.7000       1\n",
              "2    21.40   -4.740   -0.278   5.9500       1\n",
              "3     8.52   -0.593    1.260   3.6400       1\n",
              "4   -21.10   -0.558    8.980   0.0193       1"
            ]
          },
          "execution_count": 7,
          "metadata": {},
          "output_type": "execute_result"
        }
      ],
      "source": [
        "healthy_dataset.head()"
      ]
    },
    {
      "cell_type": "code",
      "execution_count": null,
      "id": "ececdf0e",
      "metadata": {
        "id": "ececdf0e",
        "outputId": "8cedb7d0-b761-4aa9-ec04-e987e065969e"
      },
      "outputs": [
        {
          "data": {
            "text/html": [
              "<div>\n",
              "<style scoped>\n",
              "    .dataframe tbody tr th:only-of-type {\n",
              "        vertical-align: middle;\n",
              "    }\n",
              "\n",
              "    .dataframe tbody tr th {\n",
              "        vertical-align: top;\n",
              "    }\n",
              "\n",
              "    .dataframe thead th {\n",
              "        text-align: right;\n",
              "    }\n",
              "</style>\n",
              "<table border=\"1\" class=\"dataframe\">\n",
              "  <thead>\n",
              "    <tr style=\"text-align: right;\">\n",
              "      <th></th>\n",
              "      <th>Sensor1</th>\n",
              "      <th>Sensor2</th>\n",
              "      <th>Sensor3</th>\n",
              "      <th>Sensor4</th>\n",
              "      <th>Target</th>\n",
              "    </tr>\n",
              "  </thead>\n",
              "  <tbody>\n",
              "    <tr>\n",
              "      <th>count</th>\n",
              "      <td>99840.000000</td>\n",
              "      <td>99840.000000</td>\n",
              "      <td>99840.000000</td>\n",
              "      <td>99840.000000</td>\n",
              "      <td>99840.0</td>\n",
              "    </tr>\n",
              "    <tr>\n",
              "      <th>mean</th>\n",
              "      <td>0.006417</td>\n",
              "      <td>-0.004324</td>\n",
              "      <td>0.015985</td>\n",
              "      <td>0.009514</td>\n",
              "      <td>1.0</td>\n",
              "    </tr>\n",
              "    <tr>\n",
              "      <th>std</th>\n",
              "      <td>8.101257</td>\n",
              "      <td>4.610642</td>\n",
              "      <td>4.490550</td>\n",
              "      <td>5.153772</td>\n",
              "      <td>0.0</td>\n",
              "    </tr>\n",
              "    <tr>\n",
              "      <th>min</th>\n",
              "      <td>-50.800000</td>\n",
              "      <td>-28.500000</td>\n",
              "      <td>-27.000000</td>\n",
              "      <td>-31.300000</td>\n",
              "      <td>1.0</td>\n",
              "    </tr>\n",
              "    <tr>\n",
              "      <th>25%</th>\n",
              "      <td>-4.620000</td>\n",
              "      <td>-2.630000</td>\n",
              "      <td>-2.560000</td>\n",
              "      <td>-2.870000</td>\n",
              "      <td>1.0</td>\n",
              "    </tr>\n",
              "    <tr>\n",
              "      <th>50%</th>\n",
              "      <td>-0.254000</td>\n",
              "      <td>0.093900</td>\n",
              "      <td>0.085200</td>\n",
              "      <td>0.217500</td>\n",
              "      <td>1.0</td>\n",
              "    </tr>\n",
              "    <tr>\n",
              "      <th>75%</th>\n",
              "      <td>4.460000</td>\n",
              "      <td>2.750000</td>\n",
              "      <td>2.680000</td>\n",
              "      <td>3.040000</td>\n",
              "      <td>1.0</td>\n",
              "    </tr>\n",
              "    <tr>\n",
              "      <th>max</th>\n",
              "      <td>52.700000</td>\n",
              "      <td>28.400000</td>\n",
              "      <td>25.100000</td>\n",
              "      <td>33.400000</td>\n",
              "      <td>1.0</td>\n",
              "    </tr>\n",
              "  </tbody>\n",
              "</table>\n",
              "</div>"
            ],
            "text/plain": [
              "            Sensor1       Sensor2       Sensor3       Sensor4   Target\n",
              "count  99840.000000  99840.000000  99840.000000  99840.000000  99840.0\n",
              "mean       0.006417     -0.004324      0.015985      0.009514      1.0\n",
              "std        8.101257      4.610642      4.490550      5.153772      0.0\n",
              "min      -50.800000    -28.500000    -27.000000    -31.300000      1.0\n",
              "25%       -4.620000     -2.630000     -2.560000     -2.870000      1.0\n",
              "50%       -0.254000      0.093900      0.085200      0.217500      1.0\n",
              "75%        4.460000      2.750000      2.680000      3.040000      1.0\n",
              "max       52.700000     28.400000     25.100000     33.400000      1.0"
            ]
          },
          "execution_count": 8,
          "metadata": {},
          "output_type": "execute_result"
        }
      ],
      "source": [
        "healthy_dataset.describe()"
      ]
    },
    {
      "cell_type": "code",
      "execution_count": null,
      "id": "1325f85a",
      "metadata": {
        "id": "1325f85a"
      },
      "outputs": [],
      "source": [
        "#importing datasets - fault dataset"
      ]
    },
    {
      "cell_type": "code",
      "execution_count": null,
      "id": "ed9bb561",
      "metadata": {
        "id": "ed9bb561"
      },
      "outputs": [],
      "source": [
        "faulty_dataset=pd.read_csv('FaultyDataset.csv',header=None)"
      ]
    },
    {
      "cell_type": "code",
      "execution_count": null,
      "id": "3d62a0d0",
      "metadata": {
        "id": "3d62a0d0",
        "outputId": "06195cef-f39c-41a5-d718-2b8ce5402569"
      },
      "outputs": [
        {
          "data": {
            "text/html": [
              "<div>\n",
              "<style scoped>\n",
              "    .dataframe tbody tr th:only-of-type {\n",
              "        vertical-align: middle;\n",
              "    }\n",
              "\n",
              "    .dataframe tbody tr th {\n",
              "        vertical-align: top;\n",
              "    }\n",
              "\n",
              "    .dataframe thead th {\n",
              "        text-align: right;\n",
              "    }\n",
              "</style>\n",
              "<table border=\"1\" class=\"dataframe\">\n",
              "  <thead>\n",
              "    <tr style=\"text-align: right;\">\n",
              "      <th></th>\n",
              "      <th>0</th>\n",
              "      <th>1</th>\n",
              "      <th>2</th>\n",
              "      <th>3</th>\n",
              "    </tr>\n",
              "  </thead>\n",
              "  <tbody>\n",
              "    <tr>\n",
              "      <th>0</th>\n",
              "      <td>-3.93</td>\n",
              "      <td>6.55</td>\n",
              "      <td>-1.240</td>\n",
              "      <td>20.30</td>\n",
              "    </tr>\n",
              "    <tr>\n",
              "      <th>1</th>\n",
              "      <td>2.40</td>\n",
              "      <td>9.99</td>\n",
              "      <td>-3.240</td>\n",
              "      <td>8.31</td>\n",
              "    </tr>\n",
              "    <tr>\n",
              "      <th>2</th>\n",
              "      <td>6.24</td>\n",
              "      <td>-3.18</td>\n",
              "      <td>-0.687</td>\n",
              "      <td>-4.19</td>\n",
              "    </tr>\n",
              "    <tr>\n",
              "      <th>3</th>\n",
              "      <td>-3.99</td>\n",
              "      <td>-14.10</td>\n",
              "      <td>3.850</td>\n",
              "      <td>-5.66</td>\n",
              "    </tr>\n",
              "    <tr>\n",
              "      <th>4</th>\n",
              "      <td>1.77</td>\n",
              "      <td>-6.46</td>\n",
              "      <td>5.100</td>\n",
              "      <td>-9.00</td>\n",
              "    </tr>\n",
              "  </tbody>\n",
              "</table>\n",
              "</div>"
            ],
            "text/plain": [
              "      0      1      2      3\n",
              "0 -3.93   6.55 -1.240  20.30\n",
              "1  2.40   9.99 -3.240   8.31\n",
              "2  6.24  -3.18 -0.687  -4.19\n",
              "3 -3.99 -14.10  3.850  -5.66\n",
              "4  1.77  -6.46  5.100  -9.00"
            ]
          },
          "execution_count": 11,
          "metadata": {},
          "output_type": "execute_result"
        }
      ],
      "source": [
        "faulty_dataset.head()"
      ]
    },
    {
      "cell_type": "code",
      "execution_count": null,
      "id": "7f19c718",
      "metadata": {
        "id": "7f19c718"
      },
      "outputs": [],
      "source": [
        "#assigning column names \n",
        "faulty_dataset.columns=['Sensor1','Sensor2','Sensor3','Sensor4']"
      ]
    },
    {
      "cell_type": "code",
      "execution_count": null,
      "id": "ac24a2ad",
      "metadata": {
        "id": "ac24a2ad",
        "outputId": "5011e4f7-ec51-4c10-89d3-5ff2a06039e2"
      },
      "outputs": [
        {
          "data": {
            "text/html": [
              "<div>\n",
              "<style scoped>\n",
              "    .dataframe tbody tr th:only-of-type {\n",
              "        vertical-align: middle;\n",
              "    }\n",
              "\n",
              "    .dataframe tbody tr th {\n",
              "        vertical-align: top;\n",
              "    }\n",
              "\n",
              "    .dataframe thead th {\n",
              "        text-align: right;\n",
              "    }\n",
              "</style>\n",
              "<table border=\"1\" class=\"dataframe\">\n",
              "  <thead>\n",
              "    <tr style=\"text-align: right;\">\n",
              "      <th></th>\n",
              "      <th>Sensor1</th>\n",
              "      <th>Sensor2</th>\n",
              "      <th>Sensor3</th>\n",
              "      <th>Sensor4</th>\n",
              "    </tr>\n",
              "  </thead>\n",
              "  <tbody>\n",
              "    <tr>\n",
              "      <th>0</th>\n",
              "      <td>-3.93</td>\n",
              "      <td>6.55</td>\n",
              "      <td>-1.240</td>\n",
              "      <td>20.30</td>\n",
              "    </tr>\n",
              "    <tr>\n",
              "      <th>1</th>\n",
              "      <td>2.40</td>\n",
              "      <td>9.99</td>\n",
              "      <td>-3.240</td>\n",
              "      <td>8.31</td>\n",
              "    </tr>\n",
              "    <tr>\n",
              "      <th>2</th>\n",
              "      <td>6.24</td>\n",
              "      <td>-3.18</td>\n",
              "      <td>-0.687</td>\n",
              "      <td>-4.19</td>\n",
              "    </tr>\n",
              "    <tr>\n",
              "      <th>3</th>\n",
              "      <td>-3.99</td>\n",
              "      <td>-14.10</td>\n",
              "      <td>3.850</td>\n",
              "      <td>-5.66</td>\n",
              "    </tr>\n",
              "    <tr>\n",
              "      <th>4</th>\n",
              "      <td>1.77</td>\n",
              "      <td>-6.46</td>\n",
              "      <td>5.100</td>\n",
              "      <td>-9.00</td>\n",
              "    </tr>\n",
              "  </tbody>\n",
              "</table>\n",
              "</div>"
            ],
            "text/plain": [
              "   Sensor1  Sensor2  Sensor3  Sensor4\n",
              "0    -3.93     6.55   -1.240    20.30\n",
              "1     2.40     9.99   -3.240     8.31\n",
              "2     6.24    -3.18   -0.687    -4.19\n",
              "3    -3.99   -14.10    3.850    -5.66\n",
              "4     1.77    -6.46    5.100    -9.00"
            ]
          },
          "execution_count": 13,
          "metadata": {},
          "output_type": "execute_result"
        }
      ],
      "source": [
        "faulty_dataset.head()"
      ]
    },
    {
      "cell_type": "code",
      "execution_count": null,
      "id": "185c2df6",
      "metadata": {
        "id": "185c2df6",
        "outputId": "dde4520e-6729-4370-90aa-50dc862b8ece"
      },
      "outputs": [
        {
          "data": {
            "text/plain": [
              "(94208, 5)"
            ]
          },
          "execution_count": 14,
          "metadata": {},
          "output_type": "execute_result"
        }
      ],
      "source": [
        "# add a column named 'Target' for the Faulty dataset with value '0' .\n",
        "# VALUE 0 Indicates machine is Faulty one\n",
        "c=np.zeros(94208,dtype=int)\n",
        "c.shape\n",
        "d=pd.DataFrame(c)\n",
        "d.shape\n",
        "faulty_dataset['Target']=d\n",
        "faulty_dataset.shape"
      ]
    },
    {
      "cell_type": "code",
      "execution_count": null,
      "id": "5fa8ae3c",
      "metadata": {
        "id": "5fa8ae3c",
        "outputId": "385e2a7d-0ab8-4caf-da48-ce4706cedb34"
      },
      "outputs": [
        {
          "data": {
            "text/html": [
              "<div>\n",
              "<style scoped>\n",
              "    .dataframe tbody tr th:only-of-type {\n",
              "        vertical-align: middle;\n",
              "    }\n",
              "\n",
              "    .dataframe tbody tr th {\n",
              "        vertical-align: top;\n",
              "    }\n",
              "\n",
              "    .dataframe thead th {\n",
              "        text-align: right;\n",
              "    }\n",
              "</style>\n",
              "<table border=\"1\" class=\"dataframe\">\n",
              "  <thead>\n",
              "    <tr style=\"text-align: right;\">\n",
              "      <th></th>\n",
              "      <th>Sensor1</th>\n",
              "      <th>Sensor2</th>\n",
              "      <th>Sensor3</th>\n",
              "      <th>Sensor4</th>\n",
              "      <th>Target</th>\n",
              "    </tr>\n",
              "  </thead>\n",
              "  <tbody>\n",
              "    <tr>\n",
              "      <th>0</th>\n",
              "      <td>-3.93</td>\n",
              "      <td>6.55</td>\n",
              "      <td>-1.240</td>\n",
              "      <td>20.30</td>\n",
              "      <td>0</td>\n",
              "    </tr>\n",
              "    <tr>\n",
              "      <th>1</th>\n",
              "      <td>2.40</td>\n",
              "      <td>9.99</td>\n",
              "      <td>-3.240</td>\n",
              "      <td>8.31</td>\n",
              "      <td>0</td>\n",
              "    </tr>\n",
              "    <tr>\n",
              "      <th>2</th>\n",
              "      <td>6.24</td>\n",
              "      <td>-3.18</td>\n",
              "      <td>-0.687</td>\n",
              "      <td>-4.19</td>\n",
              "      <td>0</td>\n",
              "    </tr>\n",
              "    <tr>\n",
              "      <th>3</th>\n",
              "      <td>-3.99</td>\n",
              "      <td>-14.10</td>\n",
              "      <td>3.850</td>\n",
              "      <td>-5.66</td>\n",
              "      <td>0</td>\n",
              "    </tr>\n",
              "    <tr>\n",
              "      <th>4</th>\n",
              "      <td>1.77</td>\n",
              "      <td>-6.46</td>\n",
              "      <td>5.100</td>\n",
              "      <td>-9.00</td>\n",
              "      <td>0</td>\n",
              "    </tr>\n",
              "  </tbody>\n",
              "</table>\n",
              "</div>"
            ],
            "text/plain": [
              "   Sensor1  Sensor2  Sensor3  Sensor4  Target\n",
              "0    -3.93     6.55   -1.240    20.30       0\n",
              "1     2.40     9.99   -3.240     8.31       0\n",
              "2     6.24    -3.18   -0.687    -4.19       0\n",
              "3    -3.99   -14.10    3.850    -5.66       0\n",
              "4     1.77    -6.46    5.100    -9.00       0"
            ]
          },
          "execution_count": 15,
          "metadata": {},
          "output_type": "execute_result"
        }
      ],
      "source": [
        "faulty_dataset.head()"
      ]
    },
    {
      "cell_type": "code",
      "execution_count": null,
      "id": "ba9090b0",
      "metadata": {
        "id": "ba9090b0",
        "outputId": "d6e57d8f-6702-4e39-e4c4-350c5e0ae7c4"
      },
      "outputs": [
        {
          "data": {
            "text/html": [
              "<div>\n",
              "<style scoped>\n",
              "    .dataframe tbody tr th:only-of-type {\n",
              "        vertical-align: middle;\n",
              "    }\n",
              "\n",
              "    .dataframe tbody tr th {\n",
              "        vertical-align: top;\n",
              "    }\n",
              "\n",
              "    .dataframe thead th {\n",
              "        text-align: right;\n",
              "    }\n",
              "</style>\n",
              "<table border=\"1\" class=\"dataframe\">\n",
              "  <thead>\n",
              "    <tr style=\"text-align: right;\">\n",
              "      <th></th>\n",
              "      <th>Sensor1</th>\n",
              "      <th>Sensor2</th>\n",
              "      <th>Sensor3</th>\n",
              "      <th>Sensor4</th>\n",
              "      <th>Target</th>\n",
              "    </tr>\n",
              "  </thead>\n",
              "  <tbody>\n",
              "    <tr>\n",
              "      <th>count</th>\n",
              "      <td>94208.000000</td>\n",
              "      <td>94208.000000</td>\n",
              "      <td>94208.000000</td>\n",
              "      <td>94208.000000</td>\n",
              "      <td>94208.0</td>\n",
              "    </tr>\n",
              "    <tr>\n",
              "      <th>mean</th>\n",
              "      <td>-0.009915</td>\n",
              "      <td>0.002396</td>\n",
              "      <td>-0.014725</td>\n",
              "      <td>0.005150</td>\n",
              "      <td>0.0</td>\n",
              "    </tr>\n",
              "    <tr>\n",
              "      <th>std</th>\n",
              "      <td>4.757352</td>\n",
              "      <td>4.355543</td>\n",
              "      <td>3.910184</td>\n",
              "      <td>4.596443</td>\n",
              "      <td>0.0</td>\n",
              "    </tr>\n",
              "    <tr>\n",
              "      <th>min</th>\n",
              "      <td>-24.300000</td>\n",
              "      <td>-28.600000</td>\n",
              "      <td>-18.600000</td>\n",
              "      <td>-27.300000</td>\n",
              "      <td>0.0</td>\n",
              "    </tr>\n",
              "    <tr>\n",
              "      <th>25%</th>\n",
              "      <td>-3.040000</td>\n",
              "      <td>-2.500000</td>\n",
              "      <td>-2.190000</td>\n",
              "      <td>-2.540000</td>\n",
              "      <td>0.0</td>\n",
              "    </tr>\n",
              "    <tr>\n",
              "      <th>50%</th>\n",
              "      <td>-0.131000</td>\n",
              "      <td>0.147000</td>\n",
              "      <td>0.057150</td>\n",
              "      <td>0.188000</td>\n",
              "      <td>0.0</td>\n",
              "    </tr>\n",
              "    <tr>\n",
              "      <th>75%</th>\n",
              "      <td>2.870000</td>\n",
              "      <td>2.740000</td>\n",
              "      <td>2.220000</td>\n",
              "      <td>2.690000</td>\n",
              "      <td>0.0</td>\n",
              "    </tr>\n",
              "    <tr>\n",
              "      <th>max</th>\n",
              "      <td>24.000000</td>\n",
              "      <td>24.500000</td>\n",
              "      <td>23.800000</td>\n",
              "      <td>27.600000</td>\n",
              "      <td>0.0</td>\n",
              "    </tr>\n",
              "  </tbody>\n",
              "</table>\n",
              "</div>"
            ],
            "text/plain": [
              "            Sensor1       Sensor2       Sensor3       Sensor4   Target\n",
              "count  94208.000000  94208.000000  94208.000000  94208.000000  94208.0\n",
              "mean      -0.009915      0.002396     -0.014725      0.005150      0.0\n",
              "std        4.757352      4.355543      3.910184      4.596443      0.0\n",
              "min      -24.300000    -28.600000    -18.600000    -27.300000      0.0\n",
              "25%       -3.040000     -2.500000     -2.190000     -2.540000      0.0\n",
              "50%       -0.131000      0.147000      0.057150      0.188000      0.0\n",
              "75%        2.870000      2.740000      2.220000      2.690000      0.0\n",
              "max       24.000000     24.500000     23.800000     27.600000      0.0"
            ]
          },
          "execution_count": 16,
          "metadata": {},
          "output_type": "execute_result"
        }
      ],
      "source": [
        "faulty_dataset.describe()"
      ]
    },
    {
      "cell_type": "code",
      "execution_count": null,
      "id": "cf49e3ea",
      "metadata": {
        "id": "cf49e3ea",
        "outputId": "08fe0be5-d6cc-4c08-a813-144f4dd4823e"
      },
      "outputs": [
        {
          "data": {
            "text/plain": [
              "False"
            ]
          },
          "execution_count": 17,
          "metadata": {},
          "output_type": "execute_result"
        }
      ],
      "source": [
        "#checking if any duplicates records present\n",
        "healthy_dataset.duplicated().any()"
      ]
    },
    {
      "cell_type": "code",
      "execution_count": null,
      "id": "54b4d628",
      "metadata": {
        "id": "54b4d628",
        "outputId": "686e378f-9b85-4071-e4f3-5e093e6697a2"
      },
      "outputs": [
        {
          "data": {
            "text/plain": [
              "False"
            ]
          },
          "execution_count": 18,
          "metadata": {},
          "output_type": "execute_result"
        }
      ],
      "source": [
        "#checking if any duplicates records present\n",
        "faulty_dataset.duplicated().any()"
      ]
    },
    {
      "cell_type": "code",
      "execution_count": null,
      "id": "fe7b0f82",
      "metadata": {
        "id": "fe7b0f82",
        "outputId": "080d3bce-af60-4db0-9352-1d5b84049e1d"
      },
      "outputs": [
        {
          "data": {
            "text/html": [
              "<div>\n",
              "<style scoped>\n",
              "    .dataframe tbody tr th:only-of-type {\n",
              "        vertical-align: middle;\n",
              "    }\n",
              "\n",
              "    .dataframe tbody tr th {\n",
              "        vertical-align: top;\n",
              "    }\n",
              "\n",
              "    .dataframe thead th {\n",
              "        text-align: right;\n",
              "    }\n",
              "</style>\n",
              "<table border=\"1\" class=\"dataframe\">\n",
              "  <thead>\n",
              "    <tr style=\"text-align: right;\">\n",
              "      <th></th>\n",
              "      <th>Sensor1</th>\n",
              "      <th>Sensor2</th>\n",
              "      <th>Sensor3</th>\n",
              "      <th>Sensor4</th>\n",
              "      <th>Target</th>\n",
              "    </tr>\n",
              "  </thead>\n",
              "  <tbody>\n",
              "  </tbody>\n",
              "</table>\n",
              "</div>"
            ],
            "text/plain": [
              "Empty DataFrame\n",
              "Columns: [Sensor1, Sensor2, Sensor3, Sensor4, Target]\n",
              "Index: []"
            ]
          },
          "execution_count": 19,
          "metadata": {},
          "output_type": "execute_result"
        }
      ],
      "source": [
        "#check if any sensors are having zero value\n",
        "healthy_dataset[healthy_dataset['Sensor4']==0]"
      ]
    },
    {
      "cell_type": "code",
      "execution_count": null,
      "id": "ff2dbc3b",
      "metadata": {
        "id": "ff2dbc3b",
        "outputId": "590c26e2-2d3a-4375-a462-c5d0a37f7b40"
      },
      "outputs": [
        {
          "data": {
            "text/html": [
              "<div>\n",
              "<style scoped>\n",
              "    .dataframe tbody tr th:only-of-type {\n",
              "        vertical-align: middle;\n",
              "    }\n",
              "\n",
              "    .dataframe tbody tr th {\n",
              "        vertical-align: top;\n",
              "    }\n",
              "\n",
              "    .dataframe thead th {\n",
              "        text-align: right;\n",
              "    }\n",
              "</style>\n",
              "<table border=\"1\" class=\"dataframe\">\n",
              "  <thead>\n",
              "    <tr style=\"text-align: right;\">\n",
              "      <th></th>\n",
              "      <th>Sensor1</th>\n",
              "      <th>Sensor2</th>\n",
              "      <th>Sensor3</th>\n",
              "      <th>Sensor4</th>\n",
              "      <th>Target</th>\n",
              "    </tr>\n",
              "  </thead>\n",
              "  <tbody>\n",
              "  </tbody>\n",
              "</table>\n",
              "</div>"
            ],
            "text/plain": [
              "Empty DataFrame\n",
              "Columns: [Sensor1, Sensor2, Sensor3, Sensor4, Target]\n",
              "Index: []"
            ]
          },
          "execution_count": 20,
          "metadata": {},
          "output_type": "execute_result"
        }
      ],
      "source": [
        "#check if any sensors are having zero value\n",
        "faulty_dataset[healthy_dataset['Sensor4']==0]"
      ]
    },
    {
      "cell_type": "markdown",
      "id": "ba9b4f8c",
      "metadata": {
        "id": "ba9b4f8c"
      },
      "source": [
        "There is no duplicate rows in a dataset and no sensors having '0' values"
      ]
    },
    {
      "cell_type": "markdown",
      "id": "51408da3",
      "metadata": {
        "id": "51408da3"
      },
      "source": [
        "# Merging the both healthy dataset and faulty dataset into into one consolidated dataframe"
      ]
    },
    {
      "cell_type": "code",
      "execution_count": null,
      "id": "cbe77610",
      "metadata": {
        "id": "cbe77610"
      },
      "outputs": [],
      "source": [
        "dataset_final=pd.concat((healthy_dataset, faulty_dataset)).sort_index(axis = 0,ignore_index = True)"
      ]
    },
    {
      "cell_type": "code",
      "execution_count": null,
      "id": "a85295f1",
      "metadata": {
        "id": "a85295f1",
        "outputId": "cac90075-99b9-44ca-ddcb-091d216f88c7"
      },
      "outputs": [
        {
          "data": {
            "text/plain": [
              "(194048, 5)"
            ]
          },
          "execution_count": 22,
          "metadata": {},
          "output_type": "execute_result"
        }
      ],
      "source": [
        "# Let's check the dimensions of the dataframe\n",
        "dataset_final.shape"
      ]
    },
    {
      "cell_type": "code",
      "execution_count": null,
      "id": "f0ed902d",
      "metadata": {
        "id": "f0ed902d",
        "outputId": "648d413e-6478-418c-f992-d8b83f3983dd"
      },
      "outputs": [
        {
          "data": {
            "text/html": [
              "<div>\n",
              "<style scoped>\n",
              "    .dataframe tbody tr th:only-of-type {\n",
              "        vertical-align: middle;\n",
              "    }\n",
              "\n",
              "    .dataframe tbody tr th {\n",
              "        vertical-align: top;\n",
              "    }\n",
              "\n",
              "    .dataframe thead th {\n",
              "        text-align: right;\n",
              "    }\n",
              "</style>\n",
              "<table border=\"1\" class=\"dataframe\">\n",
              "  <thead>\n",
              "    <tr style=\"text-align: right;\">\n",
              "      <th></th>\n",
              "      <th>Sensor1</th>\n",
              "      <th>Sensor2</th>\n",
              "      <th>Sensor3</th>\n",
              "      <th>Sensor4</th>\n",
              "      <th>Target</th>\n",
              "    </tr>\n",
              "  </thead>\n",
              "  <tbody>\n",
              "    <tr>\n",
              "      <th>0</th>\n",
              "      <td>-19.00</td>\n",
              "      <td>-0.25</td>\n",
              "      <td>-0.188</td>\n",
              "      <td>1.06</td>\n",
              "      <td>1</td>\n",
              "    </tr>\n",
              "    <tr>\n",
              "      <th>1</th>\n",
              "      <td>-3.93</td>\n",
              "      <td>6.55</td>\n",
              "      <td>-1.240</td>\n",
              "      <td>20.30</td>\n",
              "      <td>0</td>\n",
              "    </tr>\n",
              "    <tr>\n",
              "      <th>2</th>\n",
              "      <td>2.40</td>\n",
              "      <td>9.99</td>\n",
              "      <td>-3.240</td>\n",
              "      <td>8.31</td>\n",
              "      <td>0</td>\n",
              "    </tr>\n",
              "    <tr>\n",
              "      <th>3</th>\n",
              "      <td>-9.94</td>\n",
              "      <td>8.53</td>\n",
              "      <td>7.550</td>\n",
              "      <td>4.70</td>\n",
              "      <td>1</td>\n",
              "    </tr>\n",
              "    <tr>\n",
              "      <th>4</th>\n",
              "      <td>21.40</td>\n",
              "      <td>-4.74</td>\n",
              "      <td>-0.278</td>\n",
              "      <td>5.95</td>\n",
              "      <td>1</td>\n",
              "    </tr>\n",
              "  </tbody>\n",
              "</table>\n",
              "</div>"
            ],
            "text/plain": [
              "   Sensor1  Sensor2  Sensor3  Sensor4  Target\n",
              "0   -19.00    -0.25   -0.188     1.06       1\n",
              "1    -3.93     6.55   -1.240    20.30       0\n",
              "2     2.40     9.99   -3.240     8.31       0\n",
              "3    -9.94     8.53    7.550     4.70       1\n",
              "4    21.40    -4.74   -0.278     5.95       1"
            ]
          },
          "execution_count": 23,
          "metadata": {},
          "output_type": "execute_result"
        }
      ],
      "source": [
        "# Let's see the head of our dataset\n",
        "dataset_final.head()"
      ]
    },
    {
      "cell_type": "code",
      "execution_count": null,
      "id": "19a9e474",
      "metadata": {
        "id": "19a9e474",
        "outputId": "5609d0ab-eda2-4fa3-837a-31dfac898c41"
      },
      "outputs": [
        {
          "data": {
            "text/html": [
              "<div>\n",
              "<style scoped>\n",
              "    .dataframe tbody tr th:only-of-type {\n",
              "        vertical-align: middle;\n",
              "    }\n",
              "\n",
              "    .dataframe tbody tr th {\n",
              "        vertical-align: top;\n",
              "    }\n",
              "\n",
              "    .dataframe thead th {\n",
              "        text-align: right;\n",
              "    }\n",
              "</style>\n",
              "<table border=\"1\" class=\"dataframe\">\n",
              "  <thead>\n",
              "    <tr style=\"text-align: right;\">\n",
              "      <th></th>\n",
              "      <th>Sensor1</th>\n",
              "      <th>Sensor2</th>\n",
              "      <th>Sensor3</th>\n",
              "      <th>Sensor4</th>\n",
              "      <th>Target</th>\n",
              "    </tr>\n",
              "  </thead>\n",
              "  <tbody>\n",
              "    <tr>\n",
              "      <th>194043</th>\n",
              "      <td>-7.610</td>\n",
              "      <td>-0.149</td>\n",
              "      <td>1.20</td>\n",
              "      <td>0.7800</td>\n",
              "      <td>1</td>\n",
              "    </tr>\n",
              "    <tr>\n",
              "      <th>194044</th>\n",
              "      <td>-0.584</td>\n",
              "      <td>1.620</td>\n",
              "      <td>-1.85</td>\n",
              "      <td>4.4500</td>\n",
              "      <td>1</td>\n",
              "    </tr>\n",
              "    <tr>\n",
              "      <th>194045</th>\n",
              "      <td>1.190</td>\n",
              "      <td>2.870</td>\n",
              "      <td>-1.31</td>\n",
              "      <td>8.0100</td>\n",
              "      <td>1</td>\n",
              "    </tr>\n",
              "    <tr>\n",
              "      <th>194046</th>\n",
              "      <td>-0.940</td>\n",
              "      <td>-1.160</td>\n",
              "      <td>1.56</td>\n",
              "      <td>6.0000</td>\n",
              "      <td>1</td>\n",
              "    </tr>\n",
              "    <tr>\n",
              "      <th>194047</th>\n",
              "      <td>-1.650</td>\n",
              "      <td>6.120</td>\n",
              "      <td>1.91</td>\n",
              "      <td>-0.0293</td>\n",
              "      <td>1</td>\n",
              "    </tr>\n",
              "  </tbody>\n",
              "</table>\n",
              "</div>"
            ],
            "text/plain": [
              "        Sensor1  Sensor2  Sensor3  Sensor4  Target\n",
              "194043   -7.610   -0.149     1.20   0.7800       1\n",
              "194044   -0.584    1.620    -1.85   4.4500       1\n",
              "194045    1.190    2.870    -1.31   8.0100       1\n",
              "194046   -0.940   -1.160     1.56   6.0000       1\n",
              "194047   -1.650    6.120     1.91  -0.0293       1"
            ]
          },
          "execution_count": 24,
          "metadata": {},
          "output_type": "execute_result"
        }
      ],
      "source": [
        "# Let's see the tail of our dataset\n",
        "dataset_final.tail()"
      ]
    },
    {
      "cell_type": "code",
      "execution_count": null,
      "id": "402f8c1a",
      "metadata": {
        "id": "402f8c1a"
      },
      "outputs": [],
      "source": [
        "dataset=dataset_final.copy()"
      ]
    },
    {
      "cell_type": "code",
      "execution_count": null,
      "id": "32f62871",
      "metadata": {
        "id": "32f62871",
        "outputId": "36f91324-2885-404c-9293-d943274d7777"
      },
      "outputs": [
        {
          "data": {
            "text/plain": [
              "1    99840\n",
              "0    94208\n",
              "Name: Target, dtype: int64"
            ]
          },
          "execution_count": 26,
          "metadata": {},
          "output_type": "execute_result"
        }
      ],
      "source": [
        "#looking on the count of healthy and faulty values in a Target column\n",
        "dataset['Target'].value_counts()"
      ]
    },
    {
      "cell_type": "code",
      "execution_count": null,
      "id": "cca2b9b7",
      "metadata": {
        "id": "cca2b9b7",
        "outputId": "bd2c52ee-1839-46af-a162-be67a6004bea"
      },
      "outputs": [
        {
          "name": "stdout",
          "output_type": "stream",
          "text": [
            "<class 'pandas.core.frame.DataFrame'>\n",
            "RangeIndex: 194048 entries, 0 to 194047\n",
            "Data columns (total 5 columns):\n",
            " #   Column   Non-Null Count   Dtype  \n",
            "---  ------   --------------   -----  \n",
            " 0   Sensor1  194048 non-null  float64\n",
            " 1   Sensor2  194048 non-null  float64\n",
            " 2   Sensor3  194048 non-null  float64\n",
            " 3   Sensor4  194048 non-null  float64\n",
            " 4   Target   194048 non-null  int32  \n",
            "dtypes: float64(4), int32(1)\n",
            "memory usage: 6.7 MB\n"
          ]
        }
      ],
      "source": [
        "#checking details /information of all the columns \n",
        "dataset.info()"
      ]
    },
    {
      "cell_type": "code",
      "execution_count": null,
      "id": "462d1f44",
      "metadata": {
        "id": "462d1f44",
        "outputId": "75dc66ba-2cd3-48b2-ae1a-7257a2029145"
      },
      "outputs": [
        {
          "data": {
            "text/html": [
              "<div>\n",
              "<style scoped>\n",
              "    .dataframe tbody tr th:only-of-type {\n",
              "        vertical-align: middle;\n",
              "    }\n",
              "\n",
              "    .dataframe tbody tr th {\n",
              "        vertical-align: top;\n",
              "    }\n",
              "\n",
              "    .dataframe thead th {\n",
              "        text-align: right;\n",
              "    }\n",
              "</style>\n",
              "<table border=\"1\" class=\"dataframe\">\n",
              "  <thead>\n",
              "    <tr style=\"text-align: right;\">\n",
              "      <th></th>\n",
              "      <th>Sensor1</th>\n",
              "      <th>Sensor2</th>\n",
              "      <th>Sensor3</th>\n",
              "      <th>Sensor4</th>\n",
              "      <th>Target</th>\n",
              "    </tr>\n",
              "  </thead>\n",
              "  <tbody>\n",
              "    <tr>\n",
              "      <th>count</th>\n",
              "      <td>194048.000000</td>\n",
              "      <td>194048.000000</td>\n",
              "      <td>194048.000000</td>\n",
              "      <td>194048.000000</td>\n",
              "      <td>194048.000000</td>\n",
              "    </tr>\n",
              "    <tr>\n",
              "      <th>mean</th>\n",
              "      <td>-0.001512</td>\n",
              "      <td>-0.001062</td>\n",
              "      <td>0.001076</td>\n",
              "      <td>0.007396</td>\n",
              "      <td>0.514512</td>\n",
              "    </tr>\n",
              "    <tr>\n",
              "      <th>std</th>\n",
              "      <td>6.689933</td>\n",
              "      <td>4.488596</td>\n",
              "      <td>4.218789</td>\n",
              "      <td>4.891122</td>\n",
              "      <td>0.499791</td>\n",
              "    </tr>\n",
              "    <tr>\n",
              "      <th>min</th>\n",
              "      <td>-50.800000</td>\n",
              "      <td>-28.600000</td>\n",
              "      <td>-27.000000</td>\n",
              "      <td>-31.300000</td>\n",
              "      <td>0.000000</td>\n",
              "    </tr>\n",
              "    <tr>\n",
              "      <th>25%</th>\n",
              "      <td>-3.720000</td>\n",
              "      <td>-2.570000</td>\n",
              "      <td>-2.370000</td>\n",
              "      <td>-2.700000</td>\n",
              "      <td>0.000000</td>\n",
              "    </tr>\n",
              "    <tr>\n",
              "      <th>50%</th>\n",
              "      <td>-0.184000</td>\n",
              "      <td>0.119000</td>\n",
              "      <td>0.069900</td>\n",
              "      <td>0.202000</td>\n",
              "      <td>1.000000</td>\n",
              "    </tr>\n",
              "    <tr>\n",
              "      <th>75%</th>\n",
              "      <td>3.530000</td>\n",
              "      <td>2.750000</td>\n",
              "      <td>2.440000</td>\n",
              "      <td>2.860000</td>\n",
              "      <td>1.000000</td>\n",
              "    </tr>\n",
              "    <tr>\n",
              "      <th>max</th>\n",
              "      <td>52.700000</td>\n",
              "      <td>28.400000</td>\n",
              "      <td>25.100000</td>\n",
              "      <td>33.400000</td>\n",
              "      <td>1.000000</td>\n",
              "    </tr>\n",
              "  </tbody>\n",
              "</table>\n",
              "</div>"
            ],
            "text/plain": [
              "             Sensor1        Sensor2        Sensor3        Sensor4  \\\n",
              "count  194048.000000  194048.000000  194048.000000  194048.000000   \n",
              "mean       -0.001512      -0.001062       0.001076       0.007396   \n",
              "std         6.689933       4.488596       4.218789       4.891122   \n",
              "min       -50.800000     -28.600000     -27.000000     -31.300000   \n",
              "25%        -3.720000      -2.570000      -2.370000      -2.700000   \n",
              "50%        -0.184000       0.119000       0.069900       0.202000   \n",
              "75%         3.530000       2.750000       2.440000       2.860000   \n",
              "max        52.700000      28.400000      25.100000      33.400000   \n",
              "\n",
              "              Target  \n",
              "count  194048.000000  \n",
              "mean        0.514512  \n",
              "std         0.499791  \n",
              "min         0.000000  \n",
              "25%         0.000000  \n",
              "50%         1.000000  \n",
              "75%         1.000000  \n",
              "max         1.000000  "
            ]
          },
          "execution_count": 28,
          "metadata": {},
          "output_type": "execute_result"
        }
      ],
      "source": [
        "# let's look at the statistical aspects of the dataframe*\n",
        "dataset.describe()"
      ]
    },
    {
      "cell_type": "markdown",
      "id": "0487c196",
      "metadata": {
        "id": "0487c196"
      },
      "source": [
        "From the above statistics measure we can see that ,there is a gap between the cluster of low numbers and the cluster of high numbers, and the number in the middle of all numbers,"
      ]
    },
    {
      "cell_type": "code",
      "execution_count": null,
      "id": "b2abc536",
      "metadata": {
        "id": "b2abc536",
        "outputId": "42ab97df-3629-4065-d11b-a66b87c559a7"
      },
      "outputs": [
        {
          "data": {
            "text/plain": [
              "Sensor1    0\n",
              "Sensor2    0\n",
              "Sensor3    0\n",
              "Sensor4    0\n",
              "Target     0\n",
              "dtype: int64"
            ]
          },
          "execution_count": 29,
          "metadata": {},
          "output_type": "execute_result"
        }
      ],
      "source": [
        "#checking null values\n",
        "dataset.isnull().sum()"
      ]
    },
    {
      "cell_type": "markdown",
      "id": "c664e4ea",
      "metadata": {
        "id": "c664e4ea"
      },
      "source": [
        "therse is no Nan VALUE present in the dataset"
      ]
    },
    {
      "cell_type": "markdown",
      "id": "aee028c4",
      "metadata": {
        "id": "aee028c4"
      },
      "source": [
        "# Data Preparation"
      ]
    },
    {
      "cell_type": "code",
      "execution_count": null,
      "id": "04e69b2e",
      "metadata": {
        "id": "04e69b2e"
      },
      "outputs": [],
      "source": [
        "#Checking for Outliers\n",
        "# Checking for outliers in the continuous variables\n",
        "# Checking outliers at 25%, 50%, 75%, 90%, 95% and 99%\n",
        "columns = dataset[['Sensor1', 'Sensor2', 'Sensor3', 'Sensor4', 'Target']]"
      ]
    },
    {
      "cell_type": "code",
      "execution_count": null,
      "id": "e28a5bf6",
      "metadata": {
        "id": "e28a5bf6",
        "outputId": "59b388d2-e3fe-44e2-8a0d-b04af38466b0"
      },
      "outputs": [
        {
          "data": {
            "text/html": [
              "<div>\n",
              "<style scoped>\n",
              "    .dataframe tbody tr th:only-of-type {\n",
              "        vertical-align: middle;\n",
              "    }\n",
              "\n",
              "    .dataframe tbody tr th {\n",
              "        vertical-align: top;\n",
              "    }\n",
              "\n",
              "    .dataframe thead th {\n",
              "        text-align: right;\n",
              "    }\n",
              "</style>\n",
              "<table border=\"1\" class=\"dataframe\">\n",
              "  <thead>\n",
              "    <tr style=\"text-align: right;\">\n",
              "      <th></th>\n",
              "      <th>Sensor1</th>\n",
              "      <th>Sensor2</th>\n",
              "      <th>Sensor3</th>\n",
              "      <th>Sensor4</th>\n",
              "      <th>Target</th>\n",
              "    </tr>\n",
              "  </thead>\n",
              "  <tbody>\n",
              "    <tr>\n",
              "      <th>0.25</th>\n",
              "      <td>-3.720</td>\n",
              "      <td>-2.570</td>\n",
              "      <td>-2.3700</td>\n",
              "      <td>-2.700</td>\n",
              "      <td>0.0</td>\n",
              "    </tr>\n",
              "    <tr>\n",
              "      <th>0.50</th>\n",
              "      <td>-0.184</td>\n",
              "      <td>0.119</td>\n",
              "      <td>0.0699</td>\n",
              "      <td>0.202</td>\n",
              "      <td>1.0</td>\n",
              "    </tr>\n",
              "    <tr>\n",
              "      <th>0.75</th>\n",
              "      <td>3.530</td>\n",
              "      <td>2.750</td>\n",
              "      <td>2.4400</td>\n",
              "      <td>2.860</td>\n",
              "      <td>1.0</td>\n",
              "    </tr>\n",
              "    <tr>\n",
              "      <th>0.90</th>\n",
              "      <td>7.850</td>\n",
              "      <td>5.310</td>\n",
              "      <td>4.9700</td>\n",
              "      <td>5.693</td>\n",
              "      <td>1.0</td>\n",
              "    </tr>\n",
              "    <tr>\n",
              "      <th>0.95</th>\n",
              "      <td>11.100</td>\n",
              "      <td>7.060</td>\n",
              "      <td>6.7900</td>\n",
              "      <td>7.690</td>\n",
              "      <td>1.0</td>\n",
              "    </tr>\n",
              "    <tr>\n",
              "      <th>0.99</th>\n",
              "      <td>18.500</td>\n",
              "      <td>10.800</td>\n",
              "      <td>10.7000</td>\n",
              "      <td>12.200</td>\n",
              "      <td>1.0</td>\n",
              "    </tr>\n",
              "  </tbody>\n",
              "</table>\n",
              "</div>"
            ],
            "text/plain": [
              "      Sensor1  Sensor2  Sensor3  Sensor4  Target\n",
              "0.25   -3.720   -2.570  -2.3700   -2.700     0.0\n",
              "0.50   -0.184    0.119   0.0699    0.202     1.0\n",
              "0.75    3.530    2.750   2.4400    2.860     1.0\n",
              "0.90    7.850    5.310   4.9700    5.693     1.0\n",
              "0.95   11.100    7.060   6.7900    7.690     1.0\n",
              "0.99   18.500   10.800  10.7000   12.200     1.0"
            ]
          },
          "execution_count": 31,
          "metadata": {},
          "output_type": "execute_result"
        }
      ],
      "source": [
        "# Checking outliers at 25%, 50%, 75%, 90%, 95% and 99%\n",
        "columns.quantile([0.25,.5,0.75,0.90,0.95,0.99])"
      ]
    },
    {
      "cell_type": "markdown",
      "id": "6d1d1a7c",
      "metadata": {
        "id": "6d1d1a7c"
      },
      "source": [
        "From the distribution shown above, you can see that there no outliers in your data. The numbers are gradually increasing."
      ]
    },
    {
      "cell_type": "code",
      "execution_count": null,
      "id": "31107381",
      "metadata": {
        "id": "31107381",
        "outputId": "8535a42a-0d5a-40b4-d814-4efb834d92db"
      },
      "outputs": [
        {
          "data": {
            "text/plain": [
              "<AxesSubplot:>"
            ]
          },
          "execution_count": 32,
          "metadata": {},
          "output_type": "execute_result"
        },
        {
          "data": {
            "image/png": "[encoded data removed]",
            "text/plain": [
              "<Figure size 432x288 with 2 Axes>"
            ]
          },
          "metadata": {},
          "output_type": "display_data"
        }
      ],
      "source": [
        "#Correlation check\n",
        "#Now lets check if some of the sensors are correlated\n",
        "corr = dataset.corr()\n",
        "sns.heatmap(corr,annot=True)"
      ]
    },
    {
      "cell_type": "markdown",
      "id": "bddc5197",
      "metadata": {
        "id": "bddc5197"
      },
      "source": [
        "From above We can see strongly correlated group of sensors"
      ]
    },
    {
      "cell_type": "code",
      "execution_count": null,
      "id": "69a8d4d8",
      "metadata": {
        "id": "69a8d4d8"
      },
      "outputs": [],
      "source": [
        "#CHECKING normality for the sensors columns"
      ]
    },
    {
      "cell_type": "code",
      "execution_count": null,
      "id": "aefcdffb",
      "metadata": {
        "id": "aefcdffb",
        "outputId": "120b398b-273f-4dd9-9d7f-053065479aa5"
      },
      "outputs": [
        {
          "data": {
            "text/plain": [
              "array([[<AxesSubplot:title={'center':'Sensor1'}>,\n",
              "        <AxesSubplot:title={'center':'Sensor2'}>],\n",
              "       [<AxesSubplot:title={'center':'Sensor3'}>,\n",
              "        <AxesSubplot:title={'center':'Sensor4'}>],\n",
              "       [<AxesSubplot:title={'center':'Target'}>, <AxesSubplot:>]],\n",
              "      dtype=object)"
            ]
          },
          "execution_count": 34,
          "metadata": {},
          "output_type": "execute_result"
        },
        {
          "data": {
            "image/png": "[encoded data removed]",
            "text/plain": [
              "<Figure size 432x288 with 6 Axes>"
            ]
          },
          "metadata": {},
          "output_type": "display_data"
        }
      ],
      "source": [
        "dataset.hist()"
      ]
    },
    {
      "cell_type": "code",
      "execution_count": null,
      "id": "7cecc712",
      "metadata": {
        "id": "7cecc712",
        "outputId": "75cf7b61-fed3-4205-aeba-3ecdd39507a3"
      },
      "outputs": [
        {
          "data": {
            "text/plain": [
              "Text(0.5, 0.98, 'Normality check over the sensors')"
            ]
          },
          "execution_count": 35,
          "metadata": {},
          "output_type": "execute_result"
        },
        {
          "data": {
            "image/png": "[encoded data removed]",
            "text/plain": [
              "<Figure size 1296x720 with 4 Axes>"
            ]
          },
          "metadata": {},
          "output_type": "display_data"
        }
      ],
      "source": [
        "fig, axes = plt.subplots(2, 2, figsize=(18, 10))\n",
        "sns.distplot(dataset['Sensor1'],ax=axes[0,0],kde=True)\n",
        "sns.distplot(dataset['Sensor2'],ax=axes[0,1],kde=True)\n",
        "sns.distplot(dataset['Sensor3'],ax=axes[1,0],kde=True)\n",
        "sns.distplot(dataset['Sensor4'],ax=axes[1,1],kde=True)\n",
        "fig.suptitle('Normality check over the sensors')        "
      ]
    },
    {
      "cell_type": "markdown",
      "id": "223b10eb",
      "metadata": {
        "id": "223b10eb"
      },
      "source": [
        " By looking at the above histogram and normality distribution graphs we can see clearly all the sensosrs are well normally  distributed and also we can see there is no any skewness present in the data"
      ]
    },
    {
      "cell_type": "markdown",
      "id": "6c8a36f7",
      "metadata": {
        "id": "6c8a36f7"
      },
      "source": [
        "# Test-Train Split"
      ]
    },
    {
      "cell_type": "markdown",
      "id": "c1e9b698",
      "metadata": {
        "id": "c1e9b698"
      },
      "source": [
        "since the dataset is very large ,just taking sample of 2000 dataset from our dataframe to analyze and build a model"
      ]
    },
    {
      "cell_type": "code",
      "execution_count": null,
      "id": "03ab56ba",
      "metadata": {
        "id": "03ab56ba"
      },
      "outputs": [],
      "source": [
        "sample_df=dataset[1:2000]"
      ]
    },
    {
      "cell_type": "code",
      "execution_count": null,
      "id": "7d598084",
      "metadata": {
        "id": "7d598084",
        "outputId": "4a55a4eb-8f8a-4fb0-d331-3814ad66c712"
      },
      "outputs": [
        {
          "data": {
            "text/plain": [
              "(1999, 5)"
            ]
          },
          "execution_count": 37,
          "metadata": {},
          "output_type": "execute_result"
        }
      ],
      "source": [
        "sample_df.shape"
      ]
    },
    {
      "cell_type": "code",
      "execution_count": null,
      "id": "1d680f76",
      "metadata": {
        "id": "1d680f76",
        "outputId": "b285346c-73db-4de7-9fe5-101cba975aca"
      },
      "outputs": [
        {
          "data": {
            "text/plain": [
              "0    1000\n",
              "1     999\n",
              "Name: Target, dtype: int64"
            ]
          },
          "execution_count": 38,
          "metadata": {},
          "output_type": "execute_result"
        }
      ],
      "source": [
        "#checking whether the target column is having equal number of classes or not\n",
        "sample_df['Target'].value_counts()"
      ]
    },
    {
      "cell_type": "code",
      "execution_count": null,
      "id": "63b6a1a1",
      "metadata": {
        "id": "63b6a1a1",
        "outputId": "83fcc3dd-bfe4-4055-983f-81c1efb9048d"
      },
      "outputs": [
        {
          "data": {
            "text/plain": [
              "Text(0.5, 0.98, 'Normality check over the sensors')"
            ]
          },
          "execution_count": 39,
          "metadata": {},
          "output_type": "execute_result"
        },
        {
          "data": {
            "image/png": "[encoded data removed]",
            "text/plain": [
              "<Figure size 1296x720 with 4 Axes>"
            ]
          },
          "metadata": {},
          "output_type": "display_data"
        }
      ],
      "source": [
        "#CHECKING normality for the sensors columns of sample data\n",
        "fig, axes = plt.subplots(2, 2, figsize=(18, 10))\n",
        "sns.distplot(sample_df['Sensor1'],ax=axes[0,0],kde=True)\n",
        "sns.distplot(sample_df['Sensor2'],ax=axes[0,1],kde=True)\n",
        "sns.distplot(sample_df['Sensor3'],ax=axes[1,0],kde=True)\n",
        "sns.distplot(sample_df['Sensor4'],ax=axes[1,1],kde=True)\n",
        "fig.suptitle('Normality check over the sensors')    "
      ]
    },
    {
      "cell_type": "markdown",
      "id": "78cebee2",
      "metadata": {
        "id": "78cebee2"
      },
      "source": [
        "By looking at the above histogram and normality distribution graphs we can see clearly all the sensosrs columns of our sample data are well normally  distributed and also we can see there is no any skewness present in the data"
      ]
    },
    {
      "cell_type": "markdown",
      "id": "30f40dfa",
      "metadata": {
        "id": "30f40dfa"
      },
      "source": [
        "# Test-Train Split"
      ]
    },
    {
      "cell_type": "code",
      "execution_count": null,
      "id": "1f74acf8",
      "metadata": {
        "id": "1f74acf8"
      },
      "outputs": [],
      "source": [
        "# Putting feature variable to X\n",
        "X = sample_df.drop(['Target'], axis=1)"
      ]
    },
    {
      "cell_type": "code",
      "execution_count": null,
      "id": "3a8f52c0",
      "metadata": {
        "id": "3a8f52c0"
      },
      "outputs": [],
      "source": [
        "# Putting response variable to y\n",
        "y = sample_df['Target']"
      ]
    },
    {
      "cell_type": "code",
      "execution_count": null,
      "id": "869c9e2c",
      "metadata": {
        "id": "869c9e2c"
      },
      "outputs": [],
      "source": [
        "# Splitting the data into train and test\n",
        "x_train,x_test, y_train, y_test = train_test_split(X,y, train_size=0.7, random_state=100)"
      ]
    },
    {
      "cell_type": "code",
      "execution_count": null,
      "id": "eabd3634",
      "metadata": {
        "id": "eabd3634",
        "outputId": "213f6261-2321-4dfd-ad49-15369d47fa9f"
      },
      "outputs": [
        {
          "name": "stdout",
          "output_type": "stream",
          "text": [
            "(1399, 4) (1399,)\n",
            "(600, 4) (600,)\n"
          ]
        }
      ],
      "source": [
        "#cheking dimensions of the train and test datasets\n",
        "print(x_train.shape,y_train.shape)\n",
        "print(x_test.shape,y_test.shape)"
      ]
    },
    {
      "cell_type": "markdown",
      "id": "a15a6e20",
      "metadata": {
        "id": "a15a6e20"
      },
      "source": [
        "# Model Building"
      ]
    },
    {
      "cell_type": "markdown",
      "id": "413d194d",
      "metadata": {
        "id": "413d194d"
      },
      "source": [
        "# Model 1.Logistic Regression "
      ]
    },
    {
      "cell_type": "markdown",
      "id": "bf964890",
      "metadata": {
        "id": "bf964890"
      },
      "source": [
        "Logistic regression is applied to predict the categorical dependent variable. It's used when the prediction is categorical, for example, yes or no, true or false, 0 or 1. The predicted probability or output of logistic regression can be either one of them, and there's no middle ground."
      ]
    },
    {
      "cell_type": "code",
      "execution_count": null,
      "id": "4d6dcb96",
      "metadata": {
        "id": "4d6dcb96"
      },
      "outputs": [],
      "source": [
        "#initializing the logistic regression function\n",
        "logreg = LogisticRegression()"
      ]
    },
    {
      "cell_type": "code",
      "execution_count": null,
      "id": "85dbac92",
      "metadata": {
        "id": "85dbac92"
      },
      "outputs": [],
      "source": [
        "#fitting the logistic regression on train dataset\n",
        "model1=logreg.fit(x_train,y_train)"
      ]
    },
    {
      "cell_type": "code",
      "execution_count": null,
      "id": "f3e3f16b",
      "metadata": {
        "id": "f3e3f16b"
      },
      "outputs": [],
      "source": [
        "# Getting the predicted values on the train set\n",
        "y_train_pred=logreg.predict(x_train)"
      ]
    },
    {
      "cell_type": "code",
      "execution_count": null,
      "id": "27a81734",
      "metadata": {
        "id": "27a81734",
        "outputId": "3f1ab0d8-c288-40a3-b6e6-e62e8797f85f"
      },
      "outputs": [
        {
          "data": {
            "text/plain": [
              "array([0, 0, 0, 0, 0, 1, 0, 1, 0, 1])"
            ]
          },
          "execution_count": 47,
          "metadata": {},
          "output_type": "execute_result"
        }
      ],
      "source": [
        "y_train_pred[:10]"
      ]
    },
    {
      "cell_type": "markdown",
      "id": "2172c378",
      "metadata": {
        "id": "2172c378"
      },
      "source": [
        "Evaluation Metris function on training dataset"
      ]
    },
    {
      "cell_type": "code",
      "execution_count": null,
      "id": "47c56790",
      "metadata": {
        "id": "47c56790"
      },
      "outputs": [],
      "source": [
        "#Creating a dataframe with the actual Target values and the predicted train values\n",
        "y_train_predict_final = pd.DataFrame({'Target':y_train.values,'Target_Prob':y_train_pred})"
      ]
    },
    {
      "cell_type": "code",
      "execution_count": null,
      "id": "cc77ea2a",
      "metadata": {
        "id": "cc77ea2a",
        "outputId": "62f86cc7-8841-405a-c418-0705fc4a067b"
      },
      "outputs": [
        {
          "data": {
            "text/html": [
              "<div>\n",
              "<style scoped>\n",
              "    .dataframe tbody tr th:only-of-type {\n",
              "        vertical-align: middle;\n",
              "    }\n",
              "\n",
              "    .dataframe tbody tr th {\n",
              "        vertical-align: top;\n",
              "    }\n",
              "\n",
              "    .dataframe thead th {\n",
              "        text-align: right;\n",
              "    }\n",
              "</style>\n",
              "<table border=\"1\" class=\"dataframe\">\n",
              "  <thead>\n",
              "    <tr style=\"text-align: right;\">\n",
              "      <th></th>\n",
              "      <th>Target</th>\n",
              "      <th>Target_Prob</th>\n",
              "    </tr>\n",
              "  </thead>\n",
              "  <tbody>\n",
              "    <tr>\n",
              "      <th>0</th>\n",
              "      <td>0</td>\n",
              "      <td>0</td>\n",
              "    </tr>\n",
              "    <tr>\n",
              "      <th>1</th>\n",
              "      <td>1</td>\n",
              "      <td>0</td>\n",
              "    </tr>\n",
              "    <tr>\n",
              "      <th>2</th>\n",
              "      <td>0</td>\n",
              "      <td>0</td>\n",
              "    </tr>\n",
              "    <tr>\n",
              "      <th>3</th>\n",
              "      <td>1</td>\n",
              "      <td>0</td>\n",
              "    </tr>\n",
              "    <tr>\n",
              "      <th>4</th>\n",
              "      <td>1</td>\n",
              "      <td>0</td>\n",
              "    </tr>\n",
              "    <tr>\n",
              "      <th>...</th>\n",
              "      <td>...</td>\n",
              "      <td>...</td>\n",
              "    </tr>\n",
              "    <tr>\n",
              "      <th>1394</th>\n",
              "      <td>1</td>\n",
              "      <td>0</td>\n",
              "    </tr>\n",
              "    <tr>\n",
              "      <th>1395</th>\n",
              "      <td>1</td>\n",
              "      <td>0</td>\n",
              "    </tr>\n",
              "    <tr>\n",
              "      <th>1396</th>\n",
              "      <td>1</td>\n",
              "      <td>1</td>\n",
              "    </tr>\n",
              "    <tr>\n",
              "      <th>1397</th>\n",
              "      <td>1</td>\n",
              "      <td>1</td>\n",
              "    </tr>\n",
              "    <tr>\n",
              "      <th>1398</th>\n",
              "      <td>0</td>\n",
              "      <td>1</td>\n",
              "    </tr>\n",
              "  </tbody>\n",
              "</table>\n",
              "<p>1399 rows × 2 columns</p>\n",
              "</div>"
            ],
            "text/plain": [
              "      Target  Target_Prob\n",
              "0          0            0\n",
              "1          1            0\n",
              "2          0            0\n",
              "3          1            0\n",
              "4          1            0\n",
              "...      ...          ...\n",
              "1394       1            0\n",
              "1395       1            0\n",
              "1396       1            1\n",
              "1397       1            1\n",
              "1398       0            1\n",
              "\n",
              "[1399 rows x 2 columns]"
            ]
          },
          "execution_count": 49,
          "metadata": {},
          "output_type": "execute_result"
        }
      ],
      "source": [
        "y_train_predict_final"
      ]
    },
    {
      "cell_type": "markdown",
      "id": "4c200d2d",
      "metadata": {
        "id": "4c200d2d"
      },
      "source": [
        "checking Evaluation Metris functions on training dataset"
      ]
    },
    {
      "cell_type": "markdown",
      "id": "63502837",
      "metadata": {
        "id": "63502837"
      },
      "source": [
        "# Evaluation Metris function"
      ]
    },
    {
      "cell_type": "code",
      "execution_count": null,
      "id": "fb5f2561",
      "metadata": {
        "id": "fb5f2561"
      },
      "outputs": [],
      "source": [
        "def eval_metrics(target,prob,threshold):\n",
        "        \"\"\" target =y_yest,prob=logistic.predict(X_test),Threshold =Cutoff Threshold \"\"\"\n",
        "        data=pd.DataFrame()\n",
        "        data['pred_proba'] = pd.Series(prob)\n",
        "        data['pred'] = data['pred_proba'].map(lambda x: 1.0 if x > threshold else 0.0)\n",
        "        accuracy=metrics.accuracy_score(target,data['pred'])\n",
        "        precision= metrics.precision_score(target,data['pred'])\n",
        "        recall= metrics.recall_score(target,data['pred'])\n",
        "        f1_score = metrics.f1_score(target,data['pred'])\n",
        "        roc_auc = metrics.roc_auc_score(target,data['pred'])\n",
        "        fbeta_score=metrics.fbeta_score(target,data['pred'],beta=0.5)\n",
        "        return(accuracy,precision,recall,f1_score,roc_auc,fbeta_score)"
      ]
    },
    {
      "cell_type": "code",
      "execution_count": null,
      "id": "1046b4a1",
      "metadata": {
        "id": "1046b4a1",
        "outputId": "1a653a44-6e12-41ad-8823-8dd8811a5a57"
      },
      "outputs": [
        {
          "data": {
            "text/plain": [
              "(0.5325232308791994,\n",
              " 0.5325884543761639,\n",
              " 0.41509433962264153,\n",
              " 0.466557911908646,\n",
              " 0.530786606431039,\n",
              " 0.5040535777229468)"
            ]
          },
          "execution_count": 51,
          "metadata": {},
          "output_type": "execute_result"
        }
      ],
      "source": [
        "eval_metrics(y_train,y_train_pred,threshold=0.5)"
      ]
    },
    {
      "cell_type": "markdown",
      "id": "37047943",
      "metadata": {
        "id": "37047943"
      },
      "source": [
        "By looking at the accuracy score of our training dataset, model performance of logistic regression is not much great.Since accuarcy score and other metrics is very low for training dataset only.\n",
        "As mentioned above we are not concentrating on only one metric but also taking into account other important metrics that helps in better interpretation and decision making on a model's performance."
      ]
    },
    {
      "cell_type": "code",
      "execution_count": null,
      "id": "a16a3779",
      "metadata": {
        "id": "a16a3779"
      },
      "outputs": [],
      "source": [
        "#lets predict on test data accuracy ,to check whether our model is facing underfiiting situation\n",
        "y_test_pred=logreg.predict(x_test)"
      ]
    },
    {
      "cell_type": "code",
      "execution_count": null,
      "id": "2f93f4e8",
      "metadata": {
        "id": "2f93f4e8",
        "outputId": "8b5e13f0-bdb6-49aa-9615-066487b81222"
      },
      "outputs": [
        {
          "data": {
            "text/plain": [
              "(0.4683333333333333,\n",
              " 0.4801762114537445,\n",
              " 0.35161290322580646,\n",
              " 0.4059590316573557,\n",
              " 0.4723581757508343,\n",
              " 0.4474548440065682)"
            ]
          },
          "execution_count": 53,
          "metadata": {},
          "output_type": "execute_result"
        }
      ],
      "source": [
        "eval_metrics(y_test,y_test_pred,threshold=0.5)"
      ]
    },
    {
      "cell_type": "code",
      "execution_count": null,
      "id": "e0630db9",
      "metadata": {
        "id": "e0630db9"
      },
      "outputs": [],
      "source": [
        "#yes by looking the performance of both training and testing data metrics results,we can see that logestic regression is\n",
        "#not giving the better results on both test and train datasets"
      ]
    },
    {
      "cell_type": "markdown",
      "id": "aa9c7fe8",
      "metadata": {
        "id": "aa9c7fe8"
      },
      "source": [
        "good accuracy in machine learning is subjective.Usually,anything greater than 70% is a great model performance.\n",
        "Hence we can move into Other Machine Learning Models and ensures that we are not concentrating on only one metric but also taking into account other important metrics that helps in better interpretation and decision making on a model's performance."
      ]
    },
    {
      "cell_type": "markdown",
      "id": "fa73746a",
      "metadata": {
        "id": "fa73746a"
      },
      "source": [
        "# BUILDING VARIOUS MACHINE LEARNING MODELS  AND CHECKING THE PERFORMANCE OF EACH MODELS.\n",
        "Model building:\n",
        "1.Logistic Regression\n",
        "\n",
        "2.Support vector machine(SVM)\n",
        "\n",
        "3.Naive Bayes\n",
        "\n",
        "4.Random Forest Classifier\n",
        "\n",
        "5.Ada Boost\n",
        "\n",
        "6.Gradient Boosting\n",
        "\n",
        "\n"
      ]
    },
    {
      "cell_type": "code",
      "execution_count": null,
      "id": "cbb982d1",
      "metadata": {
        "id": "cbb982d1"
      },
      "outputs": [],
      "source": [
        "#defining the model diefination\n",
        "models = []\n",
        "models.append(('Logistic Regression', LogisticRegression(random_state=0)))\n",
        "models.append((\"SVM\",SVC(C=1.0,kernel='rbf',gamma='scale',probability=True,random_state=0)))\n",
        "models.append((\"Naive Bayes\",GaussianNB()))\n",
        "models.append((\"Random Forest\",RandomForestClassifier(random_state=10)))\n",
        "models.append(('Ada Boost', AdaBoostClassifier(random_state=0,base_estimator=RandomForestClassifier(random_state=0,n_estimators=10))))\n",
        "models.append((\"GBM\",GradientBoostingClassifier(loss='deviance', n_estimators=50, learning_rate=0.1, criterion='friedman_mse', max_depth=5, random_state=10)))"
      ]
    },
    {
      "cell_type": "code",
      "execution_count": null,
      "id": "33cfd794",
      "metadata": {
        "id": "33cfd794",
        "outputId": "b2a033a6-4dbb-419c-b92e-0281b54ab68b"
      },
      "outputs": [
        {
          "data": {
            "text/plain": [
              "[('Logistic Regression', LogisticRegression(random_state=0)),\n",
              " ('SVM', SVC(probability=True, random_state=0)),\n",
              " ('Naive Bayes', GaussianNB()),\n",
              " ('Random Forest', RandomForestClassifier(random_state=10)),\n",
              " ('Ada Boost',\n",
              "  AdaBoostClassifier(base_estimator=RandomForestClassifier(n_estimators=10,\n",
              "                                                           random_state=0),\n",
              "                     random_state=0)),\n",
              " ('GBM',\n",
              "  GradientBoostingClassifier(max_depth=5, n_estimators=50, random_state=10))]"
            ]
          },
          "execution_count": 146,
          "metadata": {},
          "output_type": "execute_result"
        }
      ],
      "source": [
        "models"
      ]
    },
    {
      "cell_type": "markdown",
      "id": "7bcdcf52",
      "metadata": {
        "id": "7bcdcf52"
      },
      "source": [
        "# Hyper Parameter Tuning function(Grisearch CV)"
      ]
    },
    {
      "cell_type": "code",
      "execution_count": null,
      "id": "5891e19a",
      "metadata": {
        "id": "5891e19a"
      },
      "outputs": [],
      "source": [
        "pram_grid = {\n",
        "        \n",
        "            'Logistic Regression': {'penalty': ('l1', 'l2')},\n",
        "\n",
        "            'Naive Bayes':{},\n",
        "        \n",
        "            'Random Forest': {'n_estimators' : [20,50,100],\n",
        "            'criterion': ['gini', 'entropy'],\n",
        "            'max_depth': [2,4,10],\n",
        "            'max_features':[2,4]},\n",
        "                \n",
        "            'SVM': {'kernel': ['rbf'],\n",
        "                'gamma':[0.1,0.2,0.3,0.4,0.5]},\n",
        "    \n",
        "            'Ada Boost':{},\n",
        "            \n",
        "            'xgboost':{\n",
        "   \n",
        "                'learning_rate':[1,0.5,0.1,0.01,0.001],\n",
        "                'max_depth': [2,4,10],\n",
        "                'n_estimators':[10,30,50]},\n",
        "            \n",
        "            'GBM' : {\n",
        "                \"n_estimators\":[10,30,50],\n",
        "                \"loss\":[\"deviance\",\"exponential\"],\n",
        "                \"learning_rate\": [0.2, 0.3, 0.4,0.6, 0.7,0.9],\n",
        "                \"max_depth\":[3, 5, 8],\n",
        "                \"max_features\":[\"log2\",\"sqrt\"],\n",
        "                \"criterion\": [\"friedman_mse\",  \"mae\"],\n",
        "                \"subsample\":[0.2,0.3,0.5,1] }\n",
        "            }"
      ]
    },
    {
      "cell_type": "code",
      "execution_count": null,
      "id": "3d1d457a",
      "metadata": {
        "id": "3d1d457a"
      },
      "outputs": [],
      "source": [
        "#Param grid in hyperparameter tuning should follow the same order of model List.Creating fucntion for hyperparameter tuning\n",
        "def Hyper_parameter_tuning(name,model,X_train,y_train):\n",
        "    grid_results = GridSearchCV(model, pram_grid[name],scoring='f1', cv = 3)\n",
        "    grid_results.fit(X_train, y_train)\n",
        "    print(\"Best Score\",grid_results.best_score_)\n",
        "    print(\"Best parameters\",grid_results.best_params_)"
      ]
    },
    {
      "cell_type": "markdown",
      "id": "0184e3f7",
      "metadata": {
        "id": "0184e3f7"
      },
      "source": [
        "# Main Model Building Function"
      ]
    },
    {
      "cell_type": "code",
      "execution_count": null,
      "id": "d65b69a4",
      "metadata": {
        "id": "d65b69a4"
      },
      "outputs": [],
      "source": [
        "def Model_Building_Phase(dataset,target_column,models_list,th,gridsearch=False,cv_validation=False):\n",
        "    # defining the fuction to AUtomate modle Building\n",
        "     #Independent and Dependent Variabls\n",
        "    X=dataset.drop([target_column],axis=1)\n",
        "    Y=dataset[[target_column]]\n",
        "    \n",
        "    #Test and train split\n",
        "    X_train,X_test,y_train,y_test = train_test_split(X,Y,test_size=0.3,random_state=1)\n",
        "   \n",
        "   \n",
        "    # fitting Model\n",
        "    col_names = ['Algorithm', 'Accuracy','Precison','Recall','f1-score','AUC-ROC','fbeta_score']\n",
        "    results_final = pd.DataFrame(columns=col_names)\n",
        "    i = 0\n",
        "    for name,model in models_list:\n",
        "        \n",
        "        model.fit(X_train, y_train)\n",
        "        # predictions on testing data \n",
        "        pred_test = model.predict(X_test)\n",
        "       \n",
        "        #Evaluation Metrics for the model built\n",
        "        accuracy,precision,recall,f1_score,roc_auc,fbeta_score=eval_metrics(y_test,pred_test,th)\n",
        "        results_final.loc[i]=[name,accuracy,precision,recall,f1_score,roc_auc,fbeta_score]\n",
        "        i += 1\n",
        "\n",
        "        # Grid Search \n",
        "        if gridsearch:\n",
        "            Hyper_parameter_tuning(name,model,X_train,y_train)\n",
        "                            \n",
        "        #Applying k-Fold Cross Validation           \n",
        "        if cv_validation:\n",
        "            score_cv = cross_val_score(estimator = model, X = X_train, y = y_train, cv = 10,scoring='f1')\n",
        "            print(\" K fold Cross validation scores\",score_cv)\n",
        "            print(\"Mean of K fold cross validation \",score_cv.mean())\n",
        "       \n",
        "   \n",
        "    return(results_final)\n",
        "        "
      ]
    },
    {
      "cell_type": "code",
      "execution_count": null,
      "id": "aa019eca",
      "metadata": {
        "id": "aa019eca",
        "outputId": "a2b7d3e8-0161-41c3-aa00-0226f148904f"
      },
      "outputs": [
        {
          "data": {
            "text/html": [
              "<div>\n",
              "<style scoped>\n",
              "    .dataframe tbody tr th:only-of-type {\n",
              "        vertical-align: middle;\n",
              "    }\n",
              "\n",
              "    .dataframe tbody tr th {\n",
              "        vertical-align: top;\n",
              "    }\n",
              "\n",
              "    .dataframe thead th {\n",
              "        text-align: right;\n",
              "    }\n",
              "</style>\n",
              "<table border=\"1\" class=\"dataframe\">\n",
              "  <thead>\n",
              "    <tr style=\"text-align: right;\">\n",
              "      <th></th>\n",
              "      <th>Algorithm</th>\n",
              "      <th>Accuracy</th>\n",
              "      <th>Precison</th>\n",
              "      <th>Recall</th>\n",
              "      <th>f1-score</th>\n",
              "      <th>AUC-ROC</th>\n",
              "      <th>fbeta_score</th>\n",
              "    </tr>\n",
              "  </thead>\n",
              "  <tbody>\n",
              "    <tr>\n",
              "      <th>0</th>\n",
              "      <td>Logistic Regression</td>\n",
              "      <td>0.500000</td>\n",
              "      <td>0.491620</td>\n",
              "      <td>0.598639</td>\n",
              "      <td>0.539877</td>\n",
              "      <td>0.501934</td>\n",
              "      <td>0.509849</td>\n",
              "    </tr>\n",
              "    <tr>\n",
              "      <th>1</th>\n",
              "      <td>SVM</td>\n",
              "      <td>0.646667</td>\n",
              "      <td>0.699029</td>\n",
              "      <td>0.489796</td>\n",
              "      <td>0.576000</td>\n",
              "      <td>0.643591</td>\n",
              "      <td>0.644007</td>\n",
              "    </tr>\n",
              "    <tr>\n",
              "      <th>2</th>\n",
              "      <td>Naive Bayes</td>\n",
              "      <td>0.600000</td>\n",
              "      <td>0.626168</td>\n",
              "      <td>0.455782</td>\n",
              "      <td>0.527559</td>\n",
              "      <td>0.597172</td>\n",
              "      <td>0.582609</td>\n",
              "    </tr>\n",
              "    <tr>\n",
              "      <th>3</th>\n",
              "      <td>Random Forest</td>\n",
              "      <td>0.613333</td>\n",
              "      <td>0.619231</td>\n",
              "      <td>0.547619</td>\n",
              "      <td>0.581227</td>\n",
              "      <td>0.612045</td>\n",
              "      <td>0.603448</td>\n",
              "    </tr>\n",
              "    <tr>\n",
              "      <th>4</th>\n",
              "      <td>Ada Boost</td>\n",
              "      <td>0.606667</td>\n",
              "      <td>0.596667</td>\n",
              "      <td>0.608844</td>\n",
              "      <td>0.602694</td>\n",
              "      <td>0.606709</td>\n",
              "      <td>0.599063</td>\n",
              "    </tr>\n",
              "    <tr>\n",
              "      <th>5</th>\n",
              "      <td>GBM</td>\n",
              "      <td>0.615000</td>\n",
              "      <td>0.637555</td>\n",
              "      <td>0.496599</td>\n",
              "      <td>0.558317</td>\n",
              "      <td>0.612678</td>\n",
              "      <td>0.603306</td>\n",
              "    </tr>\n",
              "  </tbody>\n",
              "</table>\n",
              "</div>"
            ],
            "text/plain": [
              "             Algorithm  Accuracy  Precison    Recall  f1-score   AUC-ROC  \\\n",
              "0  Logistic Regression  0.500000  0.491620  0.598639  0.539877  0.501934   \n",
              "1                  SVM  0.646667  0.699029  0.489796  0.576000  0.643591   \n",
              "2          Naive Bayes  0.600000  0.626168  0.455782  0.527559  0.597172   \n",
              "3        Random Forest  0.613333  0.619231  0.547619  0.581227  0.612045   \n",
              "4            Ada Boost  0.606667  0.596667  0.608844  0.602694  0.606709   \n",
              "5                  GBM  0.615000  0.637555  0.496599  0.558317  0.612678   \n",
              "\n",
              "   fbeta_score  \n",
              "0     0.509849  \n",
              "1     0.644007  \n",
              "2     0.582609  \n",
              "3     0.603448  \n",
              "4     0.599063  \n",
              "5     0.603306  "
            ]
          },
          "execution_count": 150,
          "metadata": {},
          "output_type": "execute_result"
        }
      ],
      "source": [
        "Model_Building_Phase(sample_df,'Target', models, th=0.5, gridsearch=False, cv_validation=False)"
      ]
    },
    {
      "cell_type": "markdown",
      "id": "17f4cb6f",
      "metadata": {
        "id": "17f4cb6f"
      },
      "source": [
        "From the above all the model results ,we can see that model performance for Random Forest classifier is good.Lets do Hyperparameter tuning on Random forest classifier"
      ]
    },
    {
      "cell_type": "code",
      "execution_count": null,
      "id": "3874c7de",
      "metadata": {
        "id": "3874c7de"
      },
      "outputs": [],
      "source": [
        "#training on only random forest classifier\n",
        "models1 = []\n",
        "models1.append((\"Random Forest\",RandomForestClassifier(random_state=10)))\n"
      ]
    },
    {
      "cell_type": "code",
      "execution_count": null,
      "id": "9952a8c2",
      "metadata": {
        "id": "9952a8c2",
        "outputId": "865c417e-b5c5-418f-a0e0-6c0c397f329f"
      },
      "outputs": [
        {
          "name": "stdout",
          "output_type": "stream",
          "text": [
            "Best Score 0.5709146854634257\n",
            "Best parameters {'criterion': 'gini', 'max_depth': 10, 'max_features': 4, 'n_estimators': 50}\n"
          ]
        },
        {
          "data": {
            "text/html": [
              "<div>\n",
              "<style scoped>\n",
              "    .dataframe tbody tr th:only-of-type {\n",
              "        vertical-align: middle;\n",
              "    }\n",
              "\n",
              "    .dataframe tbody tr th {\n",
              "        vertical-align: top;\n",
              "    }\n",
              "\n",
              "    .dataframe thead th {\n",
              "        text-align: right;\n",
              "    }\n",
              "</style>\n",
              "<table border=\"1\" class=\"dataframe\">\n",
              "  <thead>\n",
              "    <tr style=\"text-align: right;\">\n",
              "      <th></th>\n",
              "      <th>Algorithm</th>\n",
              "      <th>Accuracy</th>\n",
              "      <th>Precison</th>\n",
              "      <th>Recall</th>\n",
              "      <th>f1-score</th>\n",
              "      <th>AUC-ROC</th>\n",
              "      <th>fbeta_score</th>\n",
              "    </tr>\n",
              "  </thead>\n",
              "  <tbody>\n",
              "    <tr>\n",
              "      <th>0</th>\n",
              "      <td>Random Forest</td>\n",
              "      <td>0.590667</td>\n",
              "      <td>0.615152</td>\n",
              "      <td>0.530026</td>\n",
              "      <td>0.569425</td>\n",
              "      <td>0.591989</td>\n",
              "      <td>0.596007</td>\n",
              "    </tr>\n",
              "  </tbody>\n",
              "</table>\n",
              "</div>"
            ],
            "text/plain": [
              "       Algorithm  Accuracy  Precison    Recall  f1-score   AUC-ROC  \\\n",
              "0  Random Forest  0.590667  0.615152  0.530026  0.569425  0.591989   \n",
              "\n",
              "   fbeta_score  \n",
              "0     0.596007  "
            ]
          },
          "execution_count": 169,
          "metadata": {},
          "output_type": "execute_result"
        }
      ],
      "source": [
        "#hyperparameter Tuning by using GridSearchcv\n",
        "Model_Building_Phase(sample_df1,'Target', models1, th=0.5, gridsearch=True, cv_validation=False)"
      ]
    },
    {
      "cell_type": "code",
      "execution_count": null,
      "id": "f1b37703",
      "metadata": {
        "id": "f1b37703",
        "outputId": "7dae7569-c356-4c81-a538-1e04e363fb32"
      },
      "outputs": [
        {
          "name": "stdout",
          "output_type": "stream",
          "text": [
            " K fold Cross validation scores [0.58125    0.50632911 0.575      0.59509202 0.64576803 0.58858859\n",
            " 0.58309038 0.56790123 0.62650602 0.60567823]\n",
            "Mean of K fold cross validation  0.5875203623242405\n"
          ]
        },
        {
          "data": {
            "text/html": [
              "<div>\n",
              "<style scoped>\n",
              "    .dataframe tbody tr th:only-of-type {\n",
              "        vertical-align: middle;\n",
              "    }\n",
              "\n",
              "    .dataframe tbody tr th {\n",
              "        vertical-align: top;\n",
              "    }\n",
              "\n",
              "    .dataframe thead th {\n",
              "        text-align: right;\n",
              "    }\n",
              "</style>\n",
              "<table border=\"1\" class=\"dataframe\">\n",
              "  <thead>\n",
              "    <tr style=\"text-align: right;\">\n",
              "      <th></th>\n",
              "      <th>Algorithm</th>\n",
              "      <th>Accuracy</th>\n",
              "      <th>Precison</th>\n",
              "      <th>Recall</th>\n",
              "      <th>f1-score</th>\n",
              "      <th>AUC-ROC</th>\n",
              "      <th>fbeta_score</th>\n",
              "    </tr>\n",
              "  </thead>\n",
              "  <tbody>\n",
              "    <tr>\n",
              "      <th>0</th>\n",
              "      <td>Random Forest</td>\n",
              "      <td>0.590667</td>\n",
              "      <td>0.615152</td>\n",
              "      <td>0.530026</td>\n",
              "      <td>0.569425</td>\n",
              "      <td>0.591989</td>\n",
              "      <td>0.596007</td>\n",
              "    </tr>\n",
              "  </tbody>\n",
              "</table>\n",
              "</div>"
            ],
            "text/plain": [
              "       Algorithm  Accuracy  Precison    Recall  f1-score   AUC-ROC  \\\n",
              "0  Random Forest  0.590667  0.615152  0.530026  0.569425  0.591989   \n",
              "\n",
              "   fbeta_score  \n",
              "0     0.596007  "
            ]
          },
          "execution_count": 170,
          "metadata": {},
          "output_type": "execute_result"
        }
      ],
      "source": [
        "#lets train our random forest classifier with cross validation\n",
        "Model_Building_Phase(sample_df1,'Target', models1, th=0.5, gridsearch=False, cv_validation=True)"
      ]
    },
    {
      "cell_type": "code",
      "execution_count": null,
      "id": "d66c481a",
      "metadata": {
        "id": "d66c481a"
      },
      "outputs": [],
      "source": [
        "#lets train our random forest classifier with best parameter obtained from hyperparameter function\n",
        "model_final = RandomForestClassifier(n_estimators=50,max_depth=5 ,criterion='gini', max_features=4)"
      ]
    },
    {
      "cell_type": "code",
      "execution_count": null,
      "id": "8562d181",
      "metadata": {
        "id": "8562d181",
        "outputId": "5f9bf7dc-7c5c-4b8a-86b7-2d611eae7262"
      },
      "outputs": [
        {
          "data": {
            "text/plain": [
              "RandomForestClassifier(max_depth=5, max_features=4, n_estimators=50)"
            ]
          },
          "execution_count": 162,
          "metadata": {},
          "output_type": "execute_result"
        }
      ],
      "source": [
        "#fit a trained random forest classifier on our training dataset\n",
        "model_final.fit(x_train,y_train)"
      ]
    },
    {
      "cell_type": "code",
      "execution_count": null,
      "id": "ce0194ea",
      "metadata": {
        "id": "ce0194ea"
      },
      "outputs": [],
      "source": [
        "# Getting the predicted values on the train set\n",
        "y_train_pred1=model_final.predict(x_train)"
      ]
    },
    {
      "cell_type": "code",
      "execution_count": null,
      "id": "7337aa88",
      "metadata": {
        "id": "7337aa88",
        "outputId": "67820541-2c08-4fb5-bf8f-755dd1be352a"
      },
      "outputs": [
        {
          "data": {
            "text/plain": [
              "(0.7033595425303788,\n",
              " 0.8567708333333334,\n",
              " 0.47750362844702465,\n",
              " 0.6132339235787511,\n",
              " 0.7000194198573152,\n",
              " 0.7393258426966292)"
            ]
          },
          "execution_count": 164,
          "metadata": {},
          "output_type": "execute_result"
        }
      ],
      "source": [
        "#evaluating training performance metrics\n",
        "eval_metrics(y_train,y_train_pred1,threshold=0.5)"
      ]
    },
    {
      "cell_type": "code",
      "execution_count": null,
      "id": "eb94f65c",
      "metadata": {
        "id": "eb94f65c"
      },
      "outputs": [],
      "source": [
        "# Getting the predicted values on the train set\n",
        "y_test_pred=model_final.predict(x_test)"
      ]
    },
    {
      "cell_type": "code",
      "execution_count": null,
      "id": "706b099f",
      "metadata": {
        "id": "706b099f",
        "outputId": "40d67798-e673-4963-939b-86eb30b2d106"
      },
      "outputs": [
        {
          "data": {
            "text/plain": [
              "(0.6183333333333333,\n",
              " 0.7288135593220338,\n",
              " 0.4161290322580645,\n",
              " 0.5297741273100616,\n",
              " 0.6253058954393771,\n",
              " 0.6335952848722985)"
            ]
          },
          "execution_count": 166,
          "metadata": {},
          "output_type": "execute_result"
        }
      ],
      "source": [
        "#evaluating training performance metrics\n",
        "eval_metrics(y_test,y_test_pred,threshold=0.5)"
      ]
    },
    {
      "cell_type": "code",
      "execution_count": null,
      "id": "9819054b",
      "metadata": {
        "id": "9819054b"
      },
      "outputs": [],
      "source": [
        "sample_df1=dataset[:5000]"
      ]
    },
    {
      "cell_type": "code",
      "execution_count": null,
      "id": "646298f5",
      "metadata": {
        "id": "646298f5",
        "outputId": "facb33fa-2049-4e70-8270-8555c1a7d084"
      },
      "outputs": [
        {
          "data": {
            "text/plain": [
              "(5000, 5)"
            ]
          },
          "execution_count": 168,
          "metadata": {},
          "output_type": "execute_result"
        }
      ],
      "source": [
        "sample_df1.shape"
      ]
    },
    {
      "cell_type": "code",
      "execution_count": null,
      "id": "8c7ec3c1",
      "metadata": {
        "id": "8c7ec3c1"
      },
      "outputs": [],
      "source": []
    }
  ],
  "metadata": {
    "kernelspec": {
      "display_name": "Python 3 (ipykernel)",
      "language": "python",
      "name": "python3"
    },
    "language_info": {
      "codemirror_mode": {
        "name": "ipython",
        "version": 3
      },
      "file_extension": ".py",
      "mimetype": "text/x-python",
      "name": "python",
      "nbconvert_exporter": "python",
      "pygments_lexer": "ipython3",
      "version": "3.9.7"
    },
    "colab": {
      "provenance": [],
      "include_colab_link": true
    }
  },
  "nbformat": 4,
  "nbformat_minor": 5
}
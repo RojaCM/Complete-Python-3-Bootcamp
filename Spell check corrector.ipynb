{
  "nbformat": 4,
  "nbformat_minor": 0,
  "metadata": {
    "colab": {
      "provenance": [],
      "authorship_tag": "ABX9TyO4q/jzES1ZOhYmvwAT3B33",
      "include_colab_link": true
    },
    "kernelspec": {
      "name": "python3",
      "display_name": "Python 3"
    },
    "language_info": {
      "name": "python"
    }
  },
  "cells": [
    {
      "cell_type": "markdown",
      "metadata": {
        "id": "view-in-github",
        "colab_type": "text"
      },
      "source": [
        "<a href=\"https://colab.research.google.com/github/RojaCM/Complete-Python-3-Bootcamp/blob/master/Spell%20check%20corrector.ipynb\" target=\"_parent\"><img src=\"https://colab.research.google.com/assets/colab-badge.svg\" alt=\"Open In Colab\"/></a>"
      ]
    },
    {
      "cell_type": "code",
      "source": [
        "#if there is any typo error present in the query we need to make it correct\n"
      ],
      "metadata": {
        "id": "6d6UO2dhWLoo"
      },
      "execution_count": 4,
      "outputs": []
    },
    {
      "cell_type": "code",
      "source": [
        "pip install textblob"
      ],
      "metadata": {
        "colab": {
          "base_uri": "https://localhost:8080/"
        },
        "id": "_q1Nh-rVWLqq",
        "outputId": "083fc00d-1f13-458d-bca9-0bce03f75ea8"
      },
      "execution_count": 5,
      "outputs": [
        {
          "output_type": "stream",
          "name": "stdout",
          "text": [
            "Looking in indexes: https://pypi.org/simple, https://us-python.pkg.dev/colab-wheels/public/simple/\n",
            "Requirement already satisfied: textblob in /usr/local/lib/python3.7/dist-packages (0.15.3)\n",
            "Requirement already satisfied: nltk>=3.1 in /usr/local/lib/python3.7/dist-packages (from textblob) (3.7)\n",
            "Requirement already satisfied: tqdm in /usr/local/lib/python3.7/dist-packages (from nltk>=3.1->textblob) (4.64.1)\n",
            "Requirement already satisfied: click in /usr/local/lib/python3.7/dist-packages (from nltk>=3.1->textblob) (7.1.2)\n",
            "Requirement already satisfied: joblib in /usr/local/lib/python3.7/dist-packages (from nltk>=3.1->textblob) (1.2.0)\n",
            "Requirement already satisfied: regex>=2021.8.3 in /usr/local/lib/python3.7/dist-packages (from nltk>=3.1->textblob) (2022.6.2)\n"
          ]
        }
      ]
    },
    {
      "cell_type": "code",
      "source": [
        "pip install spellchecker"
      ],
      "metadata": {
        "colab": {
          "base_uri": "https://localhost:8080/"
        },
        "id": "sfYAbb1mYt9B",
        "outputId": "605da5a0-ea3d-44ae-b640-33aa1f2c6707"
      },
      "execution_count": 8,
      "outputs": [
        {
          "output_type": "stream",
          "name": "stdout",
          "text": [
            "Looking in indexes: https://pypi.org/simple, https://us-python.pkg.dev/colab-wheels/public/simple/\n",
            "Collecting spellchecker\n",
            "  Downloading spellchecker-0.4.tar.gz (3.9 MB)\n",
            "\u001b[K     |████████████████████████████████| 3.9 MB 7.7 MB/s \n",
            "\u001b[?25hRequirement already satisfied: setuptools in /usr/local/lib/python3.7/dist-packages (from spellchecker) (57.4.0)\n",
            "Collecting inexactsearch\n",
            "  Downloading inexactsearch-1.0.2.tar.gz (21 kB)\n",
            "Collecting soundex>=1.0\n",
            "  Downloading soundex-1.1.3.tar.gz (9.1 kB)\n",
            "Collecting silpa_common>=0.3\n",
            "  Downloading silpa_common-0.3.tar.gz (9.4 kB)\n",
            "Building wheels for collected packages: spellchecker, inexactsearch, silpa-common, soundex\n",
            "  Building wheel for spellchecker (setup.py) ... \u001b[?25l\u001b[?25hdone\n",
            "  Created wheel for spellchecker: filename=spellchecker-0.4-py3-none-any.whl size=3966515 sha256=4f9ea39ec4055613e5b56eacbd78d99f7c4a9f901365f000d6e4e36662ccf58f\n",
            "  Stored in directory: /root/.cache/pip/wheels/58/e9/48/b82b733a7a0a9cc52ed239ccf082ff33e2fbda71670ddd3349\n",
            "  Building wheel for inexactsearch (setup.py) ... \u001b[?25l\u001b[?25hdone\n",
            "  Created wheel for inexactsearch: filename=inexactsearch-1.0.2-py3-none-any.whl size=7141 sha256=a8f7835b719fca7282fd8f084a59ab3739653c02f54e344a2d136ce8bdf83617\n",
            "  Stored in directory: /root/.cache/pip/wheels/3c/f3/5d/77e8983e86af1c3c62b80d76de8020f560ce6367f1b2763b40\n",
            "  Building wheel for silpa-common (setup.py) ... \u001b[?25l\u001b[?25hdone\n",
            "  Created wheel for silpa-common: filename=silpa_common-0.3-py3-none-any.whl size=8483 sha256=fa54cdfe9abddac0d87c89db5de1ea0adb9145560ca72f344578f765d366f03d\n",
            "  Stored in directory: /root/.cache/pip/wheels/02/81/11/40ef1cf40f5c4021a214653ca3362914f0f9e14e8322f75f9b\n",
            "  Building wheel for soundex (setup.py) ... \u001b[?25l\u001b[?25hdone\n",
            "  Created wheel for soundex: filename=soundex-1.1.3-py3-none-any.whl size=8894 sha256=987a6253286089f7c425c9daebcd18bad9d312f97a4ff2fab794f7f8c6c33f2a\n",
            "  Stored in directory: /root/.cache/pip/wheels/6b/22/0f/0ac590ac1dc0fa60f57151bf39f1fae86a9978a1d54b48e197\n",
            "Successfully built spellchecker inexactsearch silpa-common soundex\n",
            "Installing collected packages: silpa-common, soundex, inexactsearch, spellchecker\n",
            "Successfully installed inexactsearch-1.0.2 silpa-common-0.3 soundex-1.1.3 spellchecker-0.4\n"
          ]
        }
      ]
    },
    {
      "cell_type": "code",
      "source": [
        "import pandas as pd"
      ],
      "metadata": {
        "id": "4cwmfKBCa5z8"
      },
      "execution_count": 23,
      "outputs": []
    },
    {
      "cell_type": "code",
      "source": [
        "from spellchecker import SpellChecker\n",
        "spell = SpellChecker()"
      ],
      "metadata": {
        "id": "JBLqNrJfbOF_"
      },
      "execution_count": 25,
      "outputs": []
    },
    {
      "cell_type": "code",
      "source": [
        "#import TextBlob library\n",
        "from textblob import Text"
      ],
      "metadata": {
        "id": "AZawvZd9WLtA"
      },
      "execution_count": 6,
      "outputs": []
    },
    {
      "cell_type": "markdown",
      "source": [
        "#creating a function to take an query as input and then checking whether it is misspelled or not,if it is misspelled passing into TextBlob object to correct it\n"
      ],
      "metadata": {
        "id": "cogDGq_lWLwp"
      }
    },
    {
      "cell_type": "code",
      "source": [
        "def spellchecking_correct_function(query):\n",
        "  sentence=TextBlob(query)\n",
        "  \n",
        "  #correct the mispelled tokens\n",
        "  result=sentence.correct()\n",
        "\n",
        "  print(result)"
      ],
      "metadata": {
        "id": "UhaLrxlHYkH0"
      },
      "execution_count": 39,
      "outputs": []
    },
    {
      "cell_type": "code",
      "source": [
        "spellchecking_correct_function(\"about Altimetrik Rbound prgram\")"
      ],
      "metadata": {
        "colab": {
          "base_uri": "https://localhost:8080/"
        },
        "id": "wWBYPLn8Ykqr",
        "outputId": "7b303ad9-a458-41ff-ef86-6780b0e709c4"
      },
      "execution_count": 40,
      "outputs": [
        {
          "output_type": "stream",
          "name": "stdout",
          "text": [
            "about Altimetrik Bound program\n"
          ]
        }
      ]
    },
    {
      "cell_type": "code",
      "source": [
        "spellchecking_correct_function(\"Altimetrik Lauches Digital Lening Platform for Mid-Tier Banks - Dec. 2020\")"
      ],
      "metadata": {
        "colab": {
          "base_uri": "https://localhost:8080/"
        },
        "id": "AjaddEPIezXk",
        "outputId": "fc028ea5-c04b-49b1-e955-37ef71f8e80c"
      },
      "execution_count": 41,
      "outputs": [
        {
          "output_type": "stream",
          "name": "stdout",
          "text": [
            "Altimetrik Patches Digital Being Platform for Did-Bier Ranks - Dec. 2020\n"
          ]
        }
      ]
    },
    {
      "cell_type": "code",
      "source": [
        "pip install autocorrect"
      ],
      "metadata": {
        "colab": {
          "base_uri": "https://localhost:8080/"
        },
        "id": "NPgPmB61fNqH",
        "outputId": "fb352e90-5447-414c-ce1a-4c4150e82a8a"
      },
      "execution_count": 42,
      "outputs": [
        {
          "output_type": "stream",
          "name": "stdout",
          "text": [
            "Looking in indexes: https://pypi.org/simple, https://us-python.pkg.dev/colab-wheels/public/simple/\n",
            "Collecting autocorrect\n",
            "  Downloading autocorrect-2.6.1.tar.gz (622 kB)\n",
            "\u001b[K     |████████████████████████████████| 622 kB 6.9 MB/s \n",
            "\u001b[?25hBuilding wheels for collected packages: autocorrect\n",
            "  Building wheel for autocorrect (setup.py) ... \u001b[?25l\u001b[?25hdone\n",
            "  Created wheel for autocorrect: filename=autocorrect-2.6.1-py3-none-any.whl size=622382 sha256=528ef37d5721796e71e1ec7345c61613a8db107177a0089cbcc581c2d604a752\n",
            "  Stored in directory: /root/.cache/pip/wheels/54/d4/37/8244101ad50b0f7d9bffd93ce58ed7991ee1753b290923934b\n",
            "Successfully built autocorrect\n",
            "Installing collected packages: autocorrect\n",
            "Successfully installed autocorrect-2.6.1\n"
          ]
        }
      ]
    },
    {
      "cell_type": "code",
      "source": [
        "from autocorrect import Speller"
      ],
      "metadata": {
        "id": "bmsJorTAiITS"
      },
      "execution_count": 43,
      "outputs": []
    },
    {
      "cell_type": "code",
      "source": [
        "check=Speller(lang='en')"
      ],
      "metadata": {
        "id": "m1-d5tC5iNMX"
      },
      "execution_count": 44,
      "outputs": []
    },
    {
      "cell_type": "code",
      "source": [
        "a=check(\"Altimetrik Lauches Digital Lening Platform for Mid-Tier Banks - Dec. 2020\")"
      ],
      "metadata": {
        "id": "FhNVrNNgiSVR"
      },
      "execution_count": 46,
      "outputs": []
    },
    {
      "cell_type": "code",
      "source": [
        "print(a)"
      ],
      "metadata": {
        "colab": {
          "base_uri": "https://localhost:8080/"
        },
        "id": "Y5myld8yiXQk",
        "outputId": "cc0fa54c-0add-4047-b3e2-27d32b774670"
      },
      "execution_count": 47,
      "outputs": [
        {
          "output_type": "stream",
          "name": "stdout",
          "text": [
            "Altimetrik Launches Digital Lenin Platform for Mid-Tier Banks - Dec. 2020\n"
          ]
        }
      ]
    },
    {
      "cell_type": "code",
      "source": [
        "a=check(\"Altimetrik Lauches Digital Lening Plaform for Mid-Tier Banks - Dec. 2020\")"
      ],
      "metadata": {
        "id": "Hx6lUzQ9igLs"
      },
      "execution_count": 48,
      "outputs": []
    },
    {
      "cell_type": "code",
      "source": [
        "print(a)"
      ],
      "metadata": {
        "colab": {
          "base_uri": "https://localhost:8080/"
        },
        "id": "Pr0lhIOtigV-",
        "outputId": "5b39a2b2-65e9-4c4c-8058-7dbb28311dfc"
      },
      "execution_count": 51,
      "outputs": [
        {
          "output_type": "stream",
          "name": "stdout",
          "text": [
            "Altimetrik Launches Digital Lenin Platform for Mid-Tier Banks - Dec. 2020\n"
          ]
        }
      ]
    },
    {
      "cell_type": "code",
      "source": [
        "b=check(\"abut Altimetik Rebond pogram\")"
      ],
      "metadata": {
        "id": "NmHmAyX_igaU"
      },
      "execution_count": 52,
      "outputs": []
    },
    {
      "cell_type": "code",
      "source": [],
      "metadata": {
        "id": "a9IgovwlixfA"
      },
      "execution_count": null,
      "outputs": []
    }
  ]
}